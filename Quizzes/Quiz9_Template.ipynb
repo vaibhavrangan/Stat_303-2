{
 "cells": [
  {
   "cell_type": "raw",
   "id": "392b3d77",
   "metadata": {},
   "source": [
    "---\n",
    "title: \"Quiz 9\"\n",
    "format: \n",
    "  html:\n",
    "    toc: true\n",
    "    toc-title: Contents\n",
    "    toc-depth: 4\n",
    "    code-fold: show\n",
    "    self-contained: true\n",
    "jupyter: python3\n",
    "---"
   ]
  },
  {
   "cell_type": "code",
   "execution_count": 19,
   "id": "13a03a6d",
   "metadata": {},
   "outputs": [],
   "source": [
    "import pandas as pd\n",
    "import numpy as np\n",
    "import seaborn as sns\n",
    "import matplotlib.pyplot as plt\n",
    "import statsmodels.formula.api as sm\n",
    "from sklearn.metrics import precision_recall_curve, roc_curve, auc, accuracy_score\n",
    "from sklearn.linear_model import LogisticRegression\n",
    "from sklearn.metrics import confusion_matrix\n"
   ]
  },
  {
   "cell_type": "code",
   "execution_count": 2,
   "id": "3335336f",
   "metadata": {},
   "outputs": [],
   "source": [
    "train = pd.read_csv('/Users/vaibhavrangan/Downloads/Stat_303-2/Datasets/diabetes_train.csv')\n",
    "test = pd.read_csv('/Users/vaibhavrangan/Downloads/Stat_303-2/Datasets/diabetes_test.csv')"
   ]
  },
  {
   "cell_type": "markdown",
   "id": "907ae175",
   "metadata": {},
   "source": [
    "Statsmodels"
   ]
  },
  {
   "cell_type": "code",
   "execution_count": 4,
   "id": "feca311b",
   "metadata": {},
   "outputs": [
    {
     "data": {
      "text/html": [
       "<div>\n",
       "<style scoped>\n",
       "    .dataframe tbody tr th:only-of-type {\n",
       "        vertical-align: middle;\n",
       "    }\n",
       "\n",
       "    .dataframe tbody tr th {\n",
       "        vertical-align: top;\n",
       "    }\n",
       "\n",
       "    .dataframe thead th {\n",
       "        text-align: right;\n",
       "    }\n",
       "</style>\n",
       "<table border=\"1\" class=\"dataframe\">\n",
       "  <thead>\n",
       "    <tr style=\"text-align: right;\">\n",
       "      <th></th>\n",
       "      <th>Pregnancies</th>\n",
       "      <th>Glucose</th>\n",
       "      <th>BloodPressure</th>\n",
       "      <th>SkinThickness</th>\n",
       "      <th>Insulin</th>\n",
       "      <th>BMI</th>\n",
       "      <th>DiabetesPedigreeFunction</th>\n",
       "      <th>Age</th>\n",
       "      <th>Outcome</th>\n",
       "    </tr>\n",
       "  </thead>\n",
       "  <tbody>\n",
       "    <tr>\n",
       "      <th>0</th>\n",
       "      <td>2</td>\n",
       "      <td>88</td>\n",
       "      <td>74</td>\n",
       "      <td>19</td>\n",
       "      <td>53</td>\n",
       "      <td>29.0</td>\n",
       "      <td>0.229</td>\n",
       "      <td>22</td>\n",
       "      <td>0</td>\n",
       "    </tr>\n",
       "    <tr>\n",
       "      <th>1</th>\n",
       "      <td>2</td>\n",
       "      <td>129</td>\n",
       "      <td>84</td>\n",
       "      <td>0</td>\n",
       "      <td>0</td>\n",
       "      <td>28.0</td>\n",
       "      <td>0.284</td>\n",
       "      <td>27</td>\n",
       "      <td>0</td>\n",
       "    </tr>\n",
       "    <tr>\n",
       "      <th>2</th>\n",
       "      <td>0</td>\n",
       "      <td>102</td>\n",
       "      <td>78</td>\n",
       "      <td>40</td>\n",
       "      <td>90</td>\n",
       "      <td>34.5</td>\n",
       "      <td>0.238</td>\n",
       "      <td>24</td>\n",
       "      <td>0</td>\n",
       "    </tr>\n",
       "    <tr>\n",
       "      <th>3</th>\n",
       "      <td>0</td>\n",
       "      <td>123</td>\n",
       "      <td>72</td>\n",
       "      <td>0</td>\n",
       "      <td>0</td>\n",
       "      <td>36.3</td>\n",
       "      <td>0.258</td>\n",
       "      <td>52</td>\n",
       "      <td>1</td>\n",
       "    </tr>\n",
       "    <tr>\n",
       "      <th>4</th>\n",
       "      <td>1</td>\n",
       "      <td>144</td>\n",
       "      <td>82</td>\n",
       "      <td>46</td>\n",
       "      <td>180</td>\n",
       "      <td>46.1</td>\n",
       "      <td>0.335</td>\n",
       "      <td>46</td>\n",
       "      <td>1</td>\n",
       "    </tr>\n",
       "  </tbody>\n",
       "</table>\n",
       "</div>"
      ],
      "text/plain": [
       "   Pregnancies  Glucose  BloodPressure  SkinThickness  Insulin   BMI  \\\n",
       "0            2       88             74             19       53  29.0   \n",
       "1            2      129             84              0        0  28.0   \n",
       "2            0      102             78             40       90  34.5   \n",
       "3            0      123             72              0        0  36.3   \n",
       "4            1      144             82             46      180  46.1   \n",
       "\n",
       "   DiabetesPedigreeFunction  Age  Outcome  \n",
       "0                     0.229   22        0  \n",
       "1                     0.284   27        0  \n",
       "2                     0.238   24        0  \n",
       "3                     0.258   52        1  \n",
       "4                     0.335   46        1  "
      ]
     },
     "execution_count": 4,
     "metadata": {},
     "output_type": "execute_result"
    }
   ],
   "source": [
    "train.head()"
   ]
  },
  {
   "cell_type": "code",
   "execution_count": 6,
   "id": "9e3a805e",
   "metadata": {},
   "outputs": [
    {
     "data": {
      "image/png": "[encoded data removed]",
      "text/plain": [
       "<Figure size 640x480 with 1 Axes>"
      ]
     },
     "metadata": {},
     "output_type": "display_data"
    }
   ],
   "source": [
    "train.Outcome.value_counts()\n",
    "sns.countplot(x = 'Outcome',data = train);\n"
   ]
  },
  {
   "cell_type": "markdown",
   "id": "30fb0055",
   "metadata": {},
   "source": [
    "Scikit Learn"
   ]
  },
  {
   "cell_type": "code",
   "execution_count": 32,
   "id": "43a99e84",
   "metadata": {},
   "outputs": [
    {
     "name": "stdout",
     "output_type": "stream",
     "text": [
      "[[0.2804285  0.7195715 ]\n",
      " [0.34685357 0.65314643]\n",
      " [0.76283839 0.23716161]\n",
      " [0.66008134 0.33991866]\n",
      " [0.26355553 0.73644447]]\n"
     ]
    }
   ],
   "source": [
    "from sklearn.preprocessing import StandardScaler\n",
    "from sklearn.linear_model import LogisticRegression\n",
    "\n",
    "# Separate features and target variable\n",
    "x_train = train.drop(['Outcome'], axis=1)\n",
    "y_train = train[['Outcome']].values.ravel()  # Convert y_train to 1D\n",
    "\n",
    "x_test = test.drop(['Outcome'], axis=1)\n",
    "y_test = test[['Outcome']].values.ravel()  \n",
    "\n",
    "# Scale the features\n",
    "scaler = StandardScaler()\n",
    "x_train_scaled = scaler.fit_transform(x_train)\n",
    "x_test_scaled = scaler.transform(x_test)\n",
    "\n",
    "# Train the model with more iterations\n",
    "skn_model = LogisticRegression(penalty=None, solver=\"saga\", max_iter=1000)\n",
    "skn_model.fit(x_train_scaled, y_train)\n",
    "\n",
    "# Predict using scaled test data\n",
    "y_pred_test = skn_model.predict(x_test_scaled)  \n",
    "y_pred_probs = skn_model.predict_proba(x_test_scaled)\n",
    "\n",
    "print(y_pred_probs[:5])  # First 5 predicted probabilities\n"
   ]
  },
  {
   "cell_type": "code",
   "execution_count": 34,
   "id": "af5624ea",
   "metadata": {},
   "outputs": [
    {
     "name": "stdout",
     "output_type": "stream",
     "text": [
      "Intercept: -0.9187259986017957\n",
      "Coefficients:\n",
      "Pregnancies: 0.3286\n",
      "Glucose: 1.0318\n",
      "BloodPressure: -0.2435\n",
      "SkinThickness: 0.0024\n",
      "Insulin: -0.2003\n",
      "BMI: 0.7308\n",
      "DiabetesPedigreeFunction: 0.2778\n",
      "Age: 0.2662\n"
     ]
    }
   ],
   "source": [
    "feature_names = x_train.columns  # Get feature names from DataFrame\n",
    "\n",
    "# Create a dictionary mapping feature names to coefficients\n",
    "coef_dict = dict(zip(feature_names, coefficients))\n",
    "\n",
    "print(\"Intercept:\", intercept)\n",
    "print(\"Coefficients:\")\n",
    "for feature, coef in coef_dict.items():\n",
    "    print(f\"{feature}: {coef:.4f}\")  # Limit to 4 decimal places\n"
   ]
  },
  {
   "cell_type": "code",
   "execution_count": 35,
   "id": "88c5652a",
   "metadata": {},
   "outputs": [
    {
     "data": {
      "text/plain": [
       "Text(0.5, 23.52222222222222, 'Predicted Values')"
      ]
     },
     "execution_count": 35,
     "metadata": {},
     "output_type": "execute_result"
    },
    {
     "data": {
      "image/png": "[encoded data removed]",
      "text/plain": [
       "<Figure size 640x480 with 2 Axes>"
      ]
     },
     "metadata": {},
     "output_type": "display_data"
    }
   ],
   "source": [
    "cm=confusion_matrix(y_test,y_pred_test)\n",
    "#plt.figure(figsize=(4,4))\n",
    "plt.title(\"Confusion Matrix on test data\")\n",
    "sns.heatmap(cm, annot=True,fmt='d', cmap='Blues')\n",
    "plt.ylabel(\"Actual Values\")\n",
    "plt.xlabel(\"Predicted Values\")"
   ]
  },
  {
   "cell_type": "code",
   "execution_count": 36,
   "id": "d134a116",
   "metadata": {},
   "outputs": [
    {
     "name": "stdout",
     "output_type": "stream",
     "text": [
      "Accuracy: 0.7857142857142857\n",
      "Precision: 0.8181818181818182\n",
      "Recall: 0.5901639344262295\n",
      "F1 score: 0.6857142857142857\n"
     ]
    }
   ],
   "source": [
    "from sklearn.metrics import accuracy_score\n",
    "print(\"Accuracy:\", accuracy_score(y_test, y_pred_test))\n",
    "from sklearn.metrics import precision_score\n",
    "print(\"Precision:\", precision_score(y_test, y_pred_test))\n",
    "from sklearn.metrics import recall_score\n",
    "print(\"Recall:\", recall_score(y_test, y_pred_test))\n",
    "from sklearn.metrics import f1_score\n",
    "print(\"F1 score:\",  f1_score(y_test, y_pred_test))"
   ]
  },
  {
   "cell_type": "markdown",
   "id": "0dd2d669",
   "metadata": {},
   "source": [
    "Statsmodels"
   ]
  },
  {
   "cell_type": "code",
   "execution_count": 40,
   "id": "804a2df2",
   "metadata": {},
   "outputs": [
    {
     "name": "stdout",
     "output_type": "stream",
     "text": [
      "Optimization terminated successfully.\n",
      "         Current function value: 0.478977\n",
      "         Iterations 6\n",
      "                           Logit Regression Results                           \n",
      "==============================================================================\n",
      "Dep. Variable:                Outcome   No. Observations:                  614\n",
      "Model:                          Logit   Df Residuals:                      605\n",
      "Method:                           MLE   Df Model:                            8\n",
      "Date:                Thu, 13 Feb 2025   Pseudo R-squ.:                  0.2506\n",
      "Time:                        14:17:54   Log-Likelihood:                -294.09\n",
      "converged:                       True   LL-Null:                       -392.42\n",
      "Covariance Type:            nonrobust   LLR p-value:                 3.243e-38\n",
      "==============================================================================\n",
      "                 coef    std err          z      P>|z|      [0.025      0.975]\n",
      "------------------------------------------------------------------------------\n",
      "const         -0.9187      0.108     -8.535      0.000      -1.130      -0.708\n",
      "x1             0.3286      0.118      2.781      0.005       0.097       0.560\n",
      "x2             1.0318      0.127      8.104      0.000       0.782       1.281\n",
      "x3            -0.2435      0.111     -2.192      0.028      -0.461      -0.026\n",
      "x4             0.0024      0.123      0.020      0.984      -0.238       0.243\n",
      "x5            -0.2004      0.113     -1.766      0.077      -0.423       0.022\n",
      "x6             0.7308      0.132      5.553      0.000       0.473       0.989\n",
      "x7             0.2778      0.109      2.546      0.011       0.064       0.492\n",
      "x8             0.2662      0.121      2.208      0.027       0.030       0.502\n",
      "==============================================================================\n"
     ]
    }
   ],
   "source": [
    "import statsmodels.api as sm  # Use statsmodels.api, not formula.api\n",
    "from sklearn.preprocessing import StandardScaler\n",
    "\n",
    "# Define independent (X) and dependent (y) variables\n",
    "X_train = train.drop(['Outcome'], axis=1)\n",
    "y_train = train['Outcome']  # Convert to 1D array\n",
    "\n",
    "# Standardize features (to match Sklearn)\n",
    "scaler = StandardScaler()\n",
    "X_train_scaled = scaler.fit_transform(X_train)\n",
    "\n",
    "# Add intercept (constant term) to X_train\n",
    "X_train_scaled = sm.add_constant(X_train_scaled)  # Correct usage!\n",
    "\n",
    "# Fit logistic regression model using Statsmodels\n",
    "model = sm.Logit(y_train, X_train_scaled).fit()\n",
    "\n",
    "# Print model summary\n",
    "print(model.summary())\n"
   ]
  },
  {
   "cell_type": "code",
   "execution_count": 24,
   "id": "01fc3887",
   "metadata": {},
   "outputs": [
    {
     "data": {
      "text/plain": [
       "0      0.050618\n",
       "1      0.174902\n",
       "2      0.098656\n",
       "3      0.382483\n",
       "4      0.671876\n",
       "         ...   \n",
       "609    0.454924\n",
       "610    0.437998\n",
       "611    0.061539\n",
       "612    0.438269\n",
       "613    0.210095\n",
       "Length: 614, dtype: float64"
      ]
     },
     "execution_count": 24,
     "metadata": {},
     "output_type": "execute_result"
    }
   ],
   "source": [
    "# Predicted probabilities\n",
    "predicted_probabilities = model.predict(train)\n",
    "predicted_probabilities"
   ]
  },
  {
   "cell_type": "code",
   "execution_count": 38,
   "id": "9595e9c9",
   "metadata": {},
   "outputs": [
    {
     "data": {
      "text/plain": [
       "0      0\n",
       "1      0\n",
       "2      0\n",
       "3      0\n",
       "4      1\n",
       "      ..\n",
       "609    0\n",
       "610    0\n",
       "611    0\n",
       "612    0\n",
       "613    0\n",
       "Length: 614, dtype: int64"
      ]
     },
     "execution_count": 38,
     "metadata": {},
     "output_type": "execute_result"
    }
   ],
   "source": [
    "# Predicted classes (binary outcome, 0 or 1)\n",
    "predicted_classes = (predicted_probabilities > 0.5).astype(int)\n",
    "predicted_classes"
   ]
  },
  {
   "cell_type": "code",
   "execution_count": 26,
   "id": "23e19bb5",
   "metadata": {},
   "outputs": [
    {
     "name": "stdout",
     "output_type": "stream",
     "text": [
      "Classification accuracy = 77.9%\n"
     ]
    },
    {
     "data": {
      "image/png": "[encoded data removed]",
      "text/plain": [
       "<Figure size 640x480 with 2 Axes>"
      ]
     },
     "metadata": {},
     "output_type": "display_data"
    }
   ],
   "source": [
    "#Function to compute confusion matrix and prediction accuracy on training data\n",
    "def confusion_matrix_train(model,cutoff=0.5):\n",
    "    # Confusion matrix\n",
    "    cm_df = pd.DataFrame(model.pred_table(threshold = cutoff))\n",
    "    #Formatting the confusion matrix\n",
    "    cm_df.columns = ['Predicted 0', 'Predicted 1'] \n",
    "    cm_df = cm_df.rename(index={0: 'Actual 0',1: 'Actual 1'})\n",
    "    cm = np.array(cm_df)\n",
    "    # Calculate the accuracy\n",
    "    accuracy = (cm[0,0]+cm[1,1])/cm.sum()\n",
    "    sns.heatmap(cm_df, annot=True, cmap='Blues', fmt='g')\n",
    "    plt.ylabel(\"Actual Values\")\n",
    "    plt.xlabel(\"Predicted Values\")\n",
    "    print(\"Classification accuracy = {:.1%}\".format(accuracy))\n",
    "\n",
    "cm = confusion_matrix_train(model)\n"
   ]
  }
 ],
 "metadata": {
  "kernelspec": {
   "display_name": ".venv",
   "language": "python",
   "name": "python3"
  },
  "language_info": {
   "codemirror_mode": {
    "name": "ipython",
    "version": 3
   },
   "file_extension": ".py",
   "mimetype": "text/x-python",
   "name": "python",
   "nbconvert_exporter": "python",
   "pygments_lexer": "ipython3",
   "version": "3.12.1"
  }
 },
 "nbformat": 4,
 "nbformat_minor": 5
}
