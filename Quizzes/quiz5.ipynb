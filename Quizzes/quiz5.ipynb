{
 "cells": [
  {
   "cell_type": "code",
   "execution_count": 1,
   "metadata": {},
   "outputs": [],
   "source": [
    "import pandas as pd\n",
    "import numpy as np\n",
    "import seaborn as sns\n",
    "import matplotlib.pyplot as plt\n",
    "import statsmodels.formula.api as smf\n",
    "import statsmodels.api as sm\n",
    "import sklearn\n",
    "from sklearn.linear_model import LinearRegression\n",
    "from sklearn.metrics import mean_squared_error, mean_absolute_error, r2_score\n",
    "\n",
    "test = pd.read_csv(\"/Users/vaibhavrangan/Downloads/Stat_303-2/Datasets/insurance_test.csv\")\n",
    "train = pd.read_csv(\"/Users/vaibhavrangan/Downloads/Stat_303-2/Datasets/insurance_train.csv\")"
   ]
  },
  {
   "cell_type": "markdown",
   "metadata": {},
   "source": [
    "Q1"
   ]
  },
  {
   "cell_type": "markdown",
   "metadata": {},
   "source": [
    "Sci-kit learn (smoker to predict charges)"
   ]
  },
  {
   "cell_type": "code",
   "execution_count": 4,
   "metadata": {},
   "outputs": [
    {
     "name": "stdout",
     "output_type": "stream",
     "text": [
      "[[23241.62946481]] [8417.91307038]\n",
      "0.6158275228877063\n",
      "0.6234957958396365\n"
     ]
    }
   ],
   "source": [
    "model = LinearRegression()\n",
    "x_train = train[[\"smoker\"]]\n",
    "y_train = train[[\"charges\"]]\n",
    "\n",
    "# use one-hot encoding for smoker\n",
    "x_train = pd.get_dummies(x_train, columns=[\"smoker\"], drop_first=True)\n",
    "\n",
    "model.fit(x_train, y_train)\n",
    "print(model.coef_, model.intercept_)\n",
    "print(model.score(x_train, y_train))\n",
    "\n",
    "x_test = test[[\"smoker\"]]\n",
    "y_test = test[[\"charges\"]]\n",
    "x_test = pd.get_dummies(x_test, columns=[\"smoker\"], drop_first=True)\n",
    "\n",
    "y_pred = model.predict(x_test)\n",
    "# print test r^2\n",
    "print(r2_score(y_test, y_pred))\n"
   ]
  },
  {
   "cell_type": "markdown",
   "metadata": {},
   "source": [
    "Statsmodels Formula API (age smoker and bmi to predict charges)"
   ]
  },
  {
   "cell_type": "code",
   "execution_count": 7,
   "metadata": {},
   "outputs": [],
   "source": [
    "model_sm = smf.ols(formula = \"charges ~ bmi + age + C(smoker)\", data = train).fit()\n"
   ]
  },
  {
   "cell_type": "code",
   "execution_count": 6,
   "metadata": {},
   "outputs": [
    {
     "name": "stdout",
     "output_type": "stream",
     "text": [
      "0.7572389081670632\n"
     ]
    }
   ],
   "source": [
    "test_preds = model_sm.predict(test)\n",
    "y_test = test[[\"charges\"]]\n",
    "print(r2_score(y_test, test_preds))"
   ]
  }
 ],
 "metadata": {
  "kernelspec": {
   "display_name": ".venv",
   "language": "python",
   "name": "python3"
  },
  "language_info": {
   "codemirror_mode": {
    "name": "ipython",
    "version": 3
   },
   "file_extension": ".py",
   "mimetype": "text/x-python",
   "name": "python",
   "nbconvert_exporter": "python",
   "pygments_lexer": "ipython3",
   "version": "3.12.1"
  }
 },
 "nbformat": 4,
 "nbformat_minor": 2
}
