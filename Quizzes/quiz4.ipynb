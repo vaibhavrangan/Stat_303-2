{
 "cells": [
  {
   "cell_type": "code",
   "execution_count": 1,
   "metadata": {},
   "outputs": [],
   "source": [
    "import pandas as pd\n",
    "import numpy as np\n",
    "import seaborn as sns\n",
    "import matplotlib.pyplot as plt\n",
    "import statsmodels.formula.api as smf\n",
    "import statsmodels.api as sm\n",
    "import sklearn\n",
    "from sklearn.linear_model import LinearRegression\n",
    "from sklearn.metrics import mean_squared_error, mean_absolute_error, r2_score\n"
   ]
  },
  {
   "cell_type": "code",
   "execution_count": 2,
   "metadata": {},
   "outputs": [],
   "source": [
    "test = pd.read_csv(\"/Users/vaibhavrangan/Downloads/Stat_303-2/Datasets/insurance_test.csv\")\n",
    "train = pd.read_csv(\"/Users/vaibhavrangan/Downloads/Stat_303-2/Datasets/insurance_train.csv\")"
   ]
  },
  {
   "cell_type": "code",
   "execution_count": 9,
   "metadata": {},
   "outputs": [
    {
     "name": "stdout",
     "output_type": "stream",
     "text": [
      "[[329.16260794]] [2749.16390198]\n",
      "0.0416603313308086\n",
      "12797.268231721655\n",
      "11463.940397724198\n"
     ]
    }
   ],
   "source": [
    "# SLR\n",
    "model = LinearRegression()\n",
    "x_train = train[[\"bmi\"]]\n",
    "y_train = train[[\"charges\"]]\n",
    "\n",
    "x_test = test[[\"bmi\"]]\n",
    "y_test = test[[\"charges\"]]\n",
    "\n",
    "model.fit(x_train, y_train)\n",
    "\n",
    "print(model.coef_, model.intercept_)\n",
    "# print r^2\n",
    "print(model.score(x_test, y_test))\n",
    "\n",
    "# calculate test rmse\n",
    "y_pred = model.predict(x_test)\n",
    "test_rmse = np.sqrt(np.mean((y_pred - y_test)**2))\n",
    "print(test_rmse)\n",
    "\n",
    "# calculate train rmse\n",
    "y_pred_train = model.predict(x_train)\n",
    "train_rmse = np.sqrt(np.mean((y_pred_train - y_train)**2))\n",
    "print(train_rmse)"
   ]
  },
  {
   "cell_type": "code",
   "execution_count": 14,
   "metadata": {},
   "outputs": [
    {
     "name": "stdout",
     "output_type": "stream",
     "text": [
      "[[224.24988385 263.39219133 633.40450429]] [-4663.94759613]\n",
      "0.1284720382240866\n",
      "12203.887708870876\n",
      "10997.585699634108\n"
     ]
    }
   ],
   "source": [
    "# MLR\n",
    "# create multiple linear regression model\n",
    "model_mlr = LinearRegression()\n",
    "x_train_mlr = train[[\"age\", \"bmi\", \"children\"]] \n",
    "# create y_train\n",
    "y_train_mlr = train[[\"charges\"]]\n",
    "\n",
    "x_test_mlr = test[[\"age\", \"bmi\", \"children\"]] \n",
    "y_test = test[[\"charges\"]]\n",
    "\n",
    "model_mlr.fit(x_train_mlr, y_train)\n",
    "print(model_mlr.coef_, model_mlr.intercept_)\n",
    "print(model_mlr.score(x_test_mlr, y_test))\n",
    "\n",
    "y_pred_mlr = model_mlr.predict(x_test_mlr)\n",
    "test_rmse_mlr = np.sqrt(np.mean((y_pred_mlr - y_test)**2))\n",
    "print(test_rmse_mlr)\n",
    "\n",
    "y_pred_train_mlr = model_mlr.predict(x_train_mlr)\n",
    "train_rmse_mlr = np.sqrt(np.mean((y_pred_train_mlr - y_train)**2))\n",
    "print(train_rmse_mlr)"
   ]
  },
  {
   "cell_type": "code",
   "execution_count": 5,
   "metadata": {},
   "outputs": [],
   "source": [
    "# use statsmodels to fit simple linear regression model\n",
    "model_sm = smf.ols(formula = \"charges~bmi\", data = train).fit()\n"
   ]
  },
  {
   "cell_type": "code",
   "execution_count": 6,
   "metadata": {},
   "outputs": [
    {
     "name": "stdout",
     "output_type": "stream",
     "text": [
      "Test R-squared: 0.04166033133080849\n"
     ]
    }
   ],
   "source": [
    "y_pred_sm = model_sm.predict(x_test)\n",
    "y_true = y_test['charges']\n",
    "sst = np.sum((y_true - np.mean(y_true))**2)\n",
    "sse = np.sum((y_true - y_pred_sm)**2)\n",
    "\n",
    "# Calculate R-squared for the test set\n",
    "r_squared_test = 1 - (sse / sst)\n",
    "print(f\"Test R-squared: {r_squared_test}\")"
   ]
  },
  {
   "cell_type": "code",
   "execution_count": 17,
   "metadata": {},
   "outputs": [
    {
     "name": "stdout",
     "output_type": "stream",
     "text": [
      "Test RMSE: 12797.268231721655\n",
      "Train RMSE: 11463.940397724198\n"
     ]
    }
   ],
   "source": [
    "# calculate test rmse\n",
    "test_rmse_sm = np.sqrt(np.mean((y_pred_sm - test[\"charges\"])**2))\n",
    "print(\"Test RMSE:\", test_rmse_sm)\n",
    "\n",
    "# Predict on the training data (for training RMSE)\n",
    "x_train = train[[\"bmi\"]]  # Same here, make sure you use the same column as in the formula\n",
    "y_pred_train_sm = model_sm.predict(x_train)\n",
    "train_rmse_sm = np.sqrt(np.mean((y_pred_train_sm - train[\"charges\"])**2))\n",
    "print(\"Train RMSE:\", train_rmse_sm)"
   ]
  },
  {
   "cell_type": "code",
   "execution_count": 7,
   "metadata": {},
   "outputs": [
    {
     "data": {
      "text/html": [
       "<table class=\"simpletable\">\n",
       "<caption>OLS Regression Results</caption>\n",
       "<tr>\n",
       "  <th>Dep. Variable:</th>         <td>charges</td>     <th>  R-squared:         </th> <td>   0.108</td> \n",
       "</tr>\n",
       "<tr>\n",
       "  <th>Model:</th>                   <td>OLS</td>       <th>  Adj. R-squared:    </th> <td>   0.105</td> \n",
       "</tr>\n",
       "<tr>\n",
       "  <th>Method:</th>             <td>Least Squares</td>  <th>  F-statistic:       </th> <td>   37.56</td> \n",
       "</tr>\n",
       "<tr>\n",
       "  <th>Date:</th>             <td>Wed, 22 Jan 2025</td> <th>  Prob (F-statistic):</th> <td>6.38e-23</td> \n",
       "</tr>\n",
       "<tr>\n",
       "  <th>Time:</th>                 <td>14:24:41</td>     <th>  Log-Likelihood:    </th> <td> -10049.</td> \n",
       "</tr>\n",
       "<tr>\n",
       "  <th>No. Observations:</th>      <td>   937</td>      <th>  AIC:               </th> <td>2.011e+04</td>\n",
       "</tr>\n",
       "<tr>\n",
       "  <th>Df Residuals:</th>          <td>   933</td>      <th>  BIC:               </th> <td>2.012e+04</td>\n",
       "</tr>\n",
       "<tr>\n",
       "  <th>Df Model:</th>              <td>     3</td>      <th>                     </th>     <td> </td>    \n",
       "</tr>\n",
       "<tr>\n",
       "  <th>Covariance Type:</th>      <td>nonrobust</td>    <th>                     </th>     <td> </td>    \n",
       "</tr>\n",
       "</table>\n",
       "<table class=\"simpletable\">\n",
       "<tr>\n",
       "      <td></td>         <th>coef</th>     <th>std err</th>      <th>t</th>      <th>P>|t|</th>  <th>[0.025</th>    <th>0.975]</th>  \n",
       "</tr>\n",
       "<tr>\n",
       "  <th>Intercept</th> <td>-4663.9476</td> <td> 2004.771</td> <td>   -2.326</td> <td> 0.020</td> <td>-8598.331</td> <td> -729.565</td>\n",
       "</tr>\n",
       "<tr>\n",
       "  <th>age</th>       <td>  224.2499</td> <td>   25.919</td> <td>    8.652</td> <td> 0.000</td> <td>  173.384</td> <td>  275.115</td>\n",
       "</tr>\n",
       "<tr>\n",
       "  <th>bmi</th>       <td>  263.3922</td> <td>   58.755</td> <td>    4.483</td> <td> 0.000</td> <td>  148.085</td> <td>  378.700</td>\n",
       "</tr>\n",
       "<tr>\n",
       "  <th>children</th>  <td>  633.4045</td> <td>  299.783</td> <td>    2.113</td> <td> 0.035</td> <td>   45.077</td> <td> 1221.732</td>\n",
       "</tr>\n",
       "</table>\n",
       "<table class=\"simpletable\">\n",
       "<tr>\n",
       "  <th>Omnibus:</th>       <td>234.716</td> <th>  Durbin-Watson:     </th> <td>   2.050</td>\n",
       "</tr>\n",
       "<tr>\n",
       "  <th>Prob(Omnibus):</th> <td> 0.000</td>  <th>  Jarque-Bera (JB):  </th> <td> 434.506</td>\n",
       "</tr>\n",
       "<tr>\n",
       "  <th>Skew:</th>          <td> 1.560</td>  <th>  Prob(JB):          </th> <td>4.45e-95</td>\n",
       "</tr>\n",
       "<tr>\n",
       "  <th>Kurtosis:</th>      <td> 4.180</td>  <th>  Cond. No.          </th> <td>    285.</td>\n",
       "</tr>\n",
       "</table><br/><br/>Notes:<br/>[1] Standard Errors assume that the covariance matrix of the errors is correctly specified."
      ],
      "text/latex": [
       "\\begin{center}\n",
       "\\begin{tabular}{lclc}\n",
       "\\toprule\n",
       "\\textbf{Dep. Variable:}    &     charges      & \\textbf{  R-squared:         } &     0.108   \\\\\n",
       "\\textbf{Model:}            &       OLS        & \\textbf{  Adj. R-squared:    } &     0.105   \\\\\n",
       "\\textbf{Method:}           &  Least Squares   & \\textbf{  F-statistic:       } &     37.56   \\\\\n",
       "\\textbf{Date:}             & Wed, 22 Jan 2025 & \\textbf{  Prob (F-statistic):} &  6.38e-23   \\\\\n",
       "\\textbf{Time:}             &     14:24:41     & \\textbf{  Log-Likelihood:    } &   -10049.   \\\\\n",
       "\\textbf{No. Observations:} &         937      & \\textbf{  AIC:               } & 2.011e+04   \\\\\n",
       "\\textbf{Df Residuals:}     &         933      & \\textbf{  BIC:               } & 2.012e+04   \\\\\n",
       "\\textbf{Df Model:}         &           3      & \\textbf{                     } &             \\\\\n",
       "\\textbf{Covariance Type:}  &    nonrobust     & \\textbf{                     } &             \\\\\n",
       "\\bottomrule\n",
       "\\end{tabular}\n",
       "\\begin{tabular}{lcccccc}\n",
       "                   & \\textbf{coef} & \\textbf{std err} & \\textbf{t} & \\textbf{P$> |$t$|$} & \\textbf{[0.025} & \\textbf{0.975]}  \\\\\n",
       "\\midrule\n",
       "\\textbf{Intercept} &   -4663.9476  &     2004.771     &    -2.326  &         0.020        &    -8598.331    &     -729.565     \\\\\n",
       "\\textbf{age}       &     224.2499  &       25.919     &     8.652  &         0.000        &      173.384    &      275.115     \\\\\n",
       "\\textbf{bmi}       &     263.3922  &       58.755     &     4.483  &         0.000        &      148.085    &      378.700     \\\\\n",
       "\\textbf{children}  &     633.4045  &      299.783     &     2.113  &         0.035        &       45.077    &     1221.732     \\\\\n",
       "\\bottomrule\n",
       "\\end{tabular}\n",
       "\\begin{tabular}{lclc}\n",
       "\\textbf{Omnibus:}       & 234.716 & \\textbf{  Durbin-Watson:     } &    2.050  \\\\\n",
       "\\textbf{Prob(Omnibus):} &   0.000 & \\textbf{  Jarque-Bera (JB):  } &  434.506  \\\\\n",
       "\\textbf{Skew:}          &   1.560 & \\textbf{  Prob(JB):          } & 4.45e-95  \\\\\n",
       "\\textbf{Kurtosis:}      &   4.180 & \\textbf{  Cond. No.          } &     285.  \\\\\n",
       "\\bottomrule\n",
       "\\end{tabular}\n",
       "%\\caption{OLS Regression Results}\n",
       "\\end{center}\n",
       "\n",
       "Notes: \\newline\n",
       " [1] Standard Errors assume that the covariance matrix of the errors is correctly specified."
      ],
      "text/plain": [
       "<class 'statsmodels.iolib.summary.Summary'>\n",
       "\"\"\"\n",
       "                            OLS Regression Results                            \n",
       "==============================================================================\n",
       "Dep. Variable:                charges   R-squared:                       0.108\n",
       "Model:                            OLS   Adj. R-squared:                  0.105\n",
       "Method:                 Least Squares   F-statistic:                     37.56\n",
       "Date:                Wed, 22 Jan 2025   Prob (F-statistic):           6.38e-23\n",
       "Time:                        14:24:41   Log-Likelihood:                -10049.\n",
       "No. Observations:                 937   AIC:                         2.011e+04\n",
       "Df Residuals:                     933   BIC:                         2.012e+04\n",
       "Df Model:                           3                                         \n",
       "Covariance Type:            nonrobust                                         \n",
       "==============================================================================\n",
       "                 coef    std err          t      P>|t|      [0.025      0.975]\n",
       "------------------------------------------------------------------------------\n",
       "Intercept  -4663.9476   2004.771     -2.326      0.020   -8598.331    -729.565\n",
       "age          224.2499     25.919      8.652      0.000     173.384     275.115\n",
       "bmi          263.3922     58.755      4.483      0.000     148.085     378.700\n",
       "children     633.4045    299.783      2.113      0.035      45.077    1221.732\n",
       "==============================================================================\n",
       "Omnibus:                      234.716   Durbin-Watson:                   2.050\n",
       "Prob(Omnibus):                  0.000   Jarque-Bera (JB):              434.506\n",
       "Skew:                           1.560   Prob(JB):                     4.45e-95\n",
       "Kurtosis:                       4.180   Cond. No.                         285.\n",
       "==============================================================================\n",
       "\n",
       "Notes:\n",
       "[1] Standard Errors assume that the covariance matrix of the errors is correctly specified.\n",
       "\"\"\""
      ]
     },
     "execution_count": 7,
     "metadata": {},
     "output_type": "execute_result"
    }
   ],
   "source": [
    "model_sm_mlr = smf.ols('charges ~ age + bmi + children', data = train).fit()\n",
    "model_sm_mlr.summary()"
   ]
  },
  {
   "cell_type": "code",
   "execution_count": 8,
   "metadata": {},
   "outputs": [
    {
     "name": "stdout",
     "output_type": "stream",
     "text": [
      "Test R-squared: 0.1284720382240866\n"
     ]
    }
   ],
   "source": [
    "y_pred_sm_mlr = model_sm_mlr.predict(x_test_mlr)\n",
    "y_true = y_test['charges']\n",
    "sst = np.sum((y_true - np.mean(y_true))**2)\n",
    "sse = np.sum((y_true - y_pred_sm_mlr)**2)\n",
    "\n",
    "# Calculate R-squared for the test set\n",
    "r_squared_test = 1 - (sse / sst)\n",
    "print(f\"Test R-squared: {r_squared_test}\")"
   ]
  }
 ],
 "metadata": {
  "kernelspec": {
   "display_name": ".venv",
   "language": "python",
   "name": "python3"
  },
  "language_info": {
   "codemirror_mode": {
    "name": "ipython",
    "version": 3
   },
   "file_extension": ".py",
   "mimetype": "text/x-python",
   "name": "python",
   "nbconvert_exporter": "python",
   "pygments_lexer": "ipython3",
   "version": "3.12.1"
  }
 },
 "nbformat": 4,
 "nbformat_minor": 2
}
