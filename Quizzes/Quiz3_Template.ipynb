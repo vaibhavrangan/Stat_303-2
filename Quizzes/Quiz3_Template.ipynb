{
 "cells": [
  {
   "cell_type": "raw",
   "id": "222f55cb",
   "metadata": {},
   "source": [
    "---\n",
    "title: \"Quiz 3\"\n",
    "format: \n",
    "  html:\n",
    "    toc: true\n",
    "    toc-title: Contents\n",
    "    toc-depth: 4\n",
    "    code-fold: show\n",
    "    self-contained: true\n",
    "jupyter: python3\n",
    "---"
   ]
  },
  {
   "cell_type": "code",
   "execution_count": 1,
   "id": "acf1c50c",
   "metadata": {},
   "outputs": [],
   "source": [
    "import pandas as pd\n",
    "import numpy as np\n",
    "import seaborn as sns\n",
    "import matplotlib.pyplot as plt\n",
    "import sklearn\n",
    "from sklearn.linear_model import LinearRegression\n",
    "from sklearn.metrics import mean_squared_error, mean_absolute_error, r2_score"
   ]
  },
  {
   "cell_type": "code",
   "execution_count": 2,
   "id": "085a11bb",
   "metadata": {},
   "outputs": [],
   "source": [
    "train = pd.read_csv('/Users/vaibhavrangan/Downloads/Stat_303-2/Datasets/insurance_train.csv')\n",
    "test = pd.read_csv('/Users/vaibhavrangan/Downloads/Stat_303-2/Datasets/insurance_test.csv')"
   ]
  },
  {
   "cell_type": "code",
   "execution_count": 3,
   "id": "bfbc2d75",
   "metadata": {},
   "outputs": [
    {
     "name": "stdout",
     "output_type": "stream",
     "text": [
      "[[329.16260794]] [2749.16390198]\n"
     ]
    }
   ],
   "source": [
    "model = LinearRegression()\n",
    "x_train = train[[\"bmi\"]]\n",
    "y_train = train[[\"charges\"]]\n",
    "\n",
    "model.fit(x_train, y_train)\n",
    "\n",
    "print(model.coef_, model.intercept_)"
   ]
  },
  {
   "cell_type": "code",
   "execution_count": 4,
   "id": "f32d49f8",
   "metadata": {},
   "outputs": [
    {
     "name": "stdout",
     "output_type": "stream",
     "text": [
      "12797.268231721655\n"
     ]
    }
   ],
   "source": [
    "# print test rmse \n",
    "x_test = test[[\"bmi\"]]\n",
    "y_test = test[[\"charges\"]].to_numpy()\n",
    "\n",
    "y_pred = model.predict(x_test)\n",
    "\n",
    "model_rmse = np.sqrt(mean_squared_error(y_test, y_pred))\n",
    "print(model_rmse)"
   ]
  },
  {
   "cell_type": "code",
   "execution_count": 5,
   "id": "1e78d639",
   "metadata": {},
   "outputs": [
    {
     "name": "stdout",
     "output_type": "stream",
     "text": [
      "11463.940397724198\n"
     ]
    }
   ],
   "source": [
    "y_pred_train = model.predict(x_train)\n",
    "\n",
    "model_rmse_train = np.sqrt(mean_squared_error(y_train, y_pred_train))\n",
    "print(model_rmse_train)"
   ]
  },
  {
   "cell_type": "code",
   "execution_count": 6,
   "id": "56ce36e6",
   "metadata": {},
   "outputs": [
    {
     "name": "stdout",
     "output_type": "stream",
     "text": [
      "charges    11470.062663\n",
      "dtype: float64\n"
     ]
    }
   ],
   "source": [
    "residuals = y_pred_train - y_train\n",
    "n = len(y_train)\n",
    "p = 1 # 1 predictor bmi\n",
    "rss = (residuals**2).sum()\n",
    "rse = np.sqrt(rss / (n - p))  # Residual Standard Error\n",
    "print(rse)"
   ]
  },
  {
   "cell_type": "code",
   "execution_count": null,
   "id": "890c8e54",
   "metadata": {},
   "outputs": [],
   "source": []
  }
 ],
 "metadata": {
  "kernelspec": {
   "display_name": ".venv",
   "language": "python",
   "name": "python3"
  },
  "language_info": {
   "codemirror_mode": {
    "name": "ipython",
    "version": 3
   },
   "file_extension": ".py",
   "mimetype": "text/x-python",
   "name": "python",
   "nbconvert_exporter": "python",
   "pygments_lexer": "ipython3",
   "version": "3.12.1"
  }
 },
 "nbformat": 4,
 "nbformat_minor": 5
}
