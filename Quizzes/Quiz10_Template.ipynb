{
 "cells": [
  {
   "cell_type": "raw",
   "id": "392b3d77",
   "metadata": {
    "vscode": {
     "languageId": "raw"
    }
   },
   "source": [
    "---\n",
    "title: \"Quiz 10\"\n",
    "format: \n",
    "  html:\n",
    "    toc: true\n",
    "    toc-title: Contents\n",
    "    toc-depth: 4\n",
    "    code-fold: show\n",
    "    self-contained: true\n",
    "jupyter: python3\n",
    "---"
   ]
  },
  {
   "cell_type": "code",
   "execution_count": 1,
   "id": "13a03a6d",
   "metadata": {},
   "outputs": [],
   "source": [
    "import pandas as pd\n",
    "import numpy as np\n",
    "import seaborn as sns\n",
    "import matplotlib.pyplot as plt\n",
    "import statsmodels.formula.api as smf\n",
    "import sklearn\n",
    "from sklearn.metrics import confusion_matrix\n",
    "from sklearn.metrics import precision_score\n",
    "from sklearn.metrics import recall_score\n",
    "from sklearn.metrics import f1_score\n",
    "from sklearn.metrics import roc_curve\n",
    "from sklearn.metrics import accuracy_score\n",
    "\n"
   ]
  },
  {
   "cell_type": "code",
   "execution_count": 2,
   "id": "3335336f",
   "metadata": {},
   "outputs": [],
   "source": [
    "train = pd.read_csv('/Users/vaibhavrangan/Downloads/Stat_303-2/Datasets/social_network_ads_train.csv')\n",
    "test = pd.read_csv('/Users/vaibhavrangan/Downloads/Stat_303-2/Datasets/social_network_ads_test.csv')"
   ]
  },
  {
   "cell_type": "code",
   "execution_count": 3,
   "id": "de0b6d61",
   "metadata": {},
   "outputs": [
    {
     "data": {
      "text/html": [
       "<div>\n",
       "<style scoped>\n",
       "    .dataframe tbody tr th:only-of-type {\n",
       "        vertical-align: middle;\n",
       "    }\n",
       "\n",
       "    .dataframe tbody tr th {\n",
       "        vertical-align: top;\n",
       "    }\n",
       "\n",
       "    .dataframe thead th {\n",
       "        text-align: right;\n",
       "    }\n",
       "</style>\n",
       "<table border=\"1\" class=\"dataframe\">\n",
       "  <thead>\n",
       "    <tr style=\"text-align: right;\">\n",
       "      <th></th>\n",
       "      <th>Gender</th>\n",
       "      <th>Age</th>\n",
       "      <th>EstimatedSalary</th>\n",
       "      <th>Purchased</th>\n",
       "    </tr>\n",
       "  </thead>\n",
       "  <tbody>\n",
       "    <tr>\n",
       "      <th>0</th>\n",
       "      <td>1</td>\n",
       "      <td>36</td>\n",
       "      <td>33000</td>\n",
       "      <td>0</td>\n",
       "    </tr>\n",
       "    <tr>\n",
       "      <th>1</th>\n",
       "      <td>0</td>\n",
       "      <td>39</td>\n",
       "      <td>61000</td>\n",
       "      <td>0</td>\n",
       "    </tr>\n",
       "    <tr>\n",
       "      <th>2</th>\n",
       "      <td>1</td>\n",
       "      <td>36</td>\n",
       "      <td>118000</td>\n",
       "      <td>1</td>\n",
       "    </tr>\n",
       "    <tr>\n",
       "      <th>3</th>\n",
       "      <td>1</td>\n",
       "      <td>39</td>\n",
       "      <td>122000</td>\n",
       "      <td>1</td>\n",
       "    </tr>\n",
       "    <tr>\n",
       "      <th>4</th>\n",
       "      <td>0</td>\n",
       "      <td>26</td>\n",
       "      <td>118000</td>\n",
       "      <td>0</td>\n",
       "    </tr>\n",
       "  </tbody>\n",
       "</table>\n",
       "</div>"
      ],
      "text/plain": [
       "   Gender  Age  EstimatedSalary  Purchased\n",
       "0       1   36            33000          0\n",
       "1       0   39            61000          0\n",
       "2       1   36           118000          1\n",
       "3       1   39           122000          1\n",
       "4       0   26           118000          0"
      ]
     },
     "execution_count": 3,
     "metadata": {},
     "output_type": "execute_result"
    }
   ],
   "source": [
    "# convert gender to numeric and drop userID\n",
    "train['Gender'] = train['Gender'].map({'Female': 0, 'Male': 1})\n",
    "test['Gender'] = test['Gender'].map({'Female': 0, 'Male': 1})\n",
    "\n",
    "train = train.drop('User ID', axis=1)\n",
    "test = test.drop('User ID', axis=1)\n",
    "train.head()"
   ]
  },
  {
   "cell_type": "code",
   "execution_count": 4,
   "id": "8eb70ca1",
   "metadata": {},
   "outputs": [
    {
     "data": {
      "text/plain": [
       "<Axes: xlabel='Gender', ylabel='count'>"
      ]
     },
     "execution_count": 4,
     "metadata": {},
     "output_type": "execute_result"
    },
    {
     "data": {
      "image/png": "[encoded data removed]",
      "text/plain": [
       "<Figure size 640x480 with 1 Axes>"
      ]
     },
     "metadata": {},
     "output_type": "display_data"
    }
   ],
   "source": [
    "#gender disribution plot\n",
    "sns.countplot(x='Gender', data=train)"
   ]
  },
  {
   "cell_type": "code",
   "execution_count": 5,
   "id": "5687a9fe",
   "metadata": {},
   "outputs": [
    {
     "data": {
      "text/plain": [
       "<Axes: xlabel='Gender', ylabel='EstimatedSalary'>"
      ]
     },
     "execution_count": 5,
     "metadata": {},
     "output_type": "execute_result"
    },
    {
     "data": {
      "image/png": "[encoded data removed]",
      "text/plain": [
       "<Figure size 640x480 with 1 Axes>"
      ]
     },
     "metadata": {},
     "output_type": "display_data"
    }
   ],
   "source": [
    "# plot salary against gender bar plot\n",
    "sns.barplot(x='Gender', y='EstimatedSalary', data=train)"
   ]
  },
  {
   "cell_type": "code",
   "execution_count": 6,
   "id": "176cda49",
   "metadata": {},
   "outputs": [
    {
     "data": {
      "text/plain": [
       "<Axes: xlabel='Gender', ylabel='Age'>"
      ]
     },
     "execution_count": 6,
     "metadata": {},
     "output_type": "execute_result"
    },
    {
     "data": {
      "image/png": "[encoded data removed]",
      "text/plain": [
       "<Figure size 640x480 with 1 Axes>"
      ]
     },
     "metadata": {},
     "output_type": "display_data"
    }
   ],
   "source": [
    "# gender by average age bar plot\n",
    "sns.barplot(x='Gender', y='Age', data=train)"
   ]
  },
  {
   "cell_type": "code",
   "execution_count": 7,
   "id": "86b98990",
   "metadata": {},
   "outputs": [
    {
     "data": {
      "text/plain": [
       "<Axes: xlabel='Purchased', ylabel='count'>"
      ]
     },
     "execution_count": 7,
     "metadata": {},
     "output_type": "execute_result"
    },
    {
     "data": {
      "image/png": "[encoded data removed]",
      "text/plain": [
       "<Figure size 640x480 with 1 Axes>"
      ]
     },
     "metadata": {},
     "output_type": "display_data"
    }
   ],
   "source": [
    "# count plot of purchased\n",
    "sns.countplot(x='Purchased', data=train)"
   ]
  },
  {
   "cell_type": "code",
   "execution_count": 8,
   "id": "9444abff",
   "metadata": {},
   "outputs": [
    {
     "data": {
      "text/plain": [
       "<Axes: xlabel='Age', ylabel='count'>"
      ]
     },
     "execution_count": 8,
     "metadata": {},
     "output_type": "execute_result"
    },
    {
     "data": {
      "image/png": "[encoded data removed]",
      "text/plain": [
       "<Figure size 640x480 with 1 Axes>"
      ]
     },
     "metadata": {},
     "output_type": "display_data"
    }
   ],
   "source": [
    "# age bar plot\n",
    "sns.countplot(x='Age', data=train)"
   ]
  },
  {
   "cell_type": "code",
   "execution_count": 9,
   "id": "395715fc",
   "metadata": {},
   "outputs": [],
   "source": [
    "from sklearn.preprocessing import StandardScaler\n",
    "\n",
    "train[\"Age_Bin\"] = pd.cut(train[\"Age\"], bins=5, labels=False)\n",
    "test[\"Age_Bin\"] = pd.cut(test[\"Age\"], bins=5, labels=False)\n",
    "train[\"Salary_Bin\"] = pd.cut(train[\"EstimatedSalary\"], bins=5, labels=False)\n",
    "test[\"Salary_Bin\"] = pd.cut(test[\"EstimatedSalary\"], bins=5, labels=False)\n",
    "\n",
    "scaler = StandardScaler()\n",
    "train[[\"Age\", \"EstimatedSalary\"]] = scaler.fit_transform(train[[\"Age\", \"EstimatedSalary\"]])\n",
    "test[[\"Age\", \"EstimatedSalary\"]] = scaler.transform(test[[\"Age\", \"EstimatedSalary\"]])"
   ]
  },
  {
   "cell_type": "code",
   "execution_count": 10,
   "id": "162ad659",
   "metadata": {},
   "outputs": [
    {
     "name": "stdout",
     "output_type": "stream",
     "text": [
      "Optimization terminated successfully.\n",
      "         Current function value: 0.261014\n",
      "         Iterations 9\n"
     ]
    },
    {
     "data": {
      "text/html": [
       "<table class=\"simpletable\">\n",
       "<caption>Logit Regression Results</caption>\n",
       "<tr>\n",
       "  <th>Dep. Variable:</th>       <td>Purchased</td>    <th>  No. Observations:  </th>  <td>   300</td>  \n",
       "</tr>\n",
       "<tr>\n",
       "  <th>Model:</th>                 <td>Logit</td>      <th>  Df Residuals:      </th>  <td>   293</td>  \n",
       "</tr>\n",
       "<tr>\n",
       "  <th>Method:</th>                 <td>MLE</td>       <th>  Df Model:          </th>  <td>     6</td>  \n",
       "</tr>\n",
       "<tr>\n",
       "  <th>Date:</th>            <td>Thu, 20 Feb 2025</td> <th>  Pseudo R-squ.:     </th>  <td>0.5981</td>  \n",
       "</tr>\n",
       "<tr>\n",
       "  <th>Time:</th>                <td>23:19:30</td>     <th>  Log-Likelihood:    </th> <td> -78.304</td> \n",
       "</tr>\n",
       "<tr>\n",
       "  <th>converged:</th>             <td>True</td>       <th>  LL-Null:           </th> <td> -194.85</td> \n",
       "</tr>\n",
       "<tr>\n",
       "  <th>Covariance Type:</th>     <td>nonrobust</td>    <th>  LLR p-value:       </th> <td>1.683e-47</td>\n",
       "</tr>\n",
       "</table>\n",
       "<table class=\"simpletable\">\n",
       "<tr>\n",
       "           <td></td>             <th>coef</th>     <th>std err</th>      <th>z</th>      <th>P>|z|</th>  <th>[0.025</th>    <th>0.975]</th>  \n",
       "</tr>\n",
       "<tr>\n",
       "  <th>Intercept</th>          <td>  -13.9687</td> <td>    3.016</td> <td>   -4.631</td> <td> 0.000</td> <td>  -19.880</td> <td>   -8.057</td>\n",
       "</tr>\n",
       "<tr>\n",
       "  <th>C(Gender)[T.1]</th>     <td>    0.6520</td> <td>    0.420</td> <td>    1.553</td> <td> 0.120</td> <td>   -0.171</td> <td>    1.475</td>\n",
       "</tr>\n",
       "<tr>\n",
       "  <th>Age</th>                <td>   -0.0223</td> <td>    0.958</td> <td>   -0.023</td> <td> 0.981</td> <td>   -1.900</td> <td>    1.855</td>\n",
       "</tr>\n",
       "<tr>\n",
       "  <th>EstimatedSalary</th>    <td>    1.9493</td> <td>    0.976</td> <td>    1.998</td> <td> 0.046</td> <td>    0.037</td> <td>    3.862</td>\n",
       "</tr>\n",
       "<tr>\n",
       "  <th>Age_Bin</th>            <td>    5.7285</td> <td>    1.184</td> <td>    4.840</td> <td> 0.000</td> <td>    3.409</td> <td>    8.048</td>\n",
       "</tr>\n",
       "<tr>\n",
       "  <th>Salary_Bin</th>         <td>    3.4749</td> <td>    1.118</td> <td>    3.108</td> <td> 0.002</td> <td>    1.284</td> <td>    5.666</td>\n",
       "</tr>\n",
       "<tr>\n",
       "  <th>Age_Bin:Salary_Bin</th> <td>   -1.6174</td> <td>    0.275</td> <td>   -5.881</td> <td> 0.000</td> <td>   -2.156</td> <td>   -1.078</td>\n",
       "</tr>\n",
       "</table><br/><br/>Possibly complete quasi-separation: A fraction 0.13 of observations can be<br/>perfectly predicted. This might indicate that there is complete<br/>quasi-separation. In this case some parameters will not be identified."
      ],
      "text/latex": [
       "\\begin{center}\n",
       "\\begin{tabular}{lclc}\n",
       "\\toprule\n",
       "\\textbf{Dep. Variable:}       &    Purchased     & \\textbf{  No. Observations:  } &      300    \\\\\n",
       "\\textbf{Model:}               &      Logit       & \\textbf{  Df Residuals:      } &      293    \\\\\n",
       "\\textbf{Method:}              &       MLE        & \\textbf{  Df Model:          } &        6    \\\\\n",
       "\\textbf{Date:}                & Thu, 20 Feb 2025 & \\textbf{  Pseudo R-squ.:     } &   0.5981    \\\\\n",
       "\\textbf{Time:}                &     23:19:30     & \\textbf{  Log-Likelihood:    } &   -78.304   \\\\\n",
       "\\textbf{converged:}           &       True       & \\textbf{  LL-Null:           } &   -194.85   \\\\\n",
       "\\textbf{Covariance Type:}     &    nonrobust     & \\textbf{  LLR p-value:       } & 1.683e-47   \\\\\n",
       "\\bottomrule\n",
       "\\end{tabular}\n",
       "\\begin{tabular}{lcccccc}\n",
       "                              & \\textbf{coef} & \\textbf{std err} & \\textbf{z} & \\textbf{P$> |$z$|$} & \\textbf{[0.025} & \\textbf{0.975]}  \\\\\n",
       "\\midrule\n",
       "\\textbf{Intercept}            &     -13.9687  &        3.016     &    -4.631  &         0.000        &      -19.880    &       -8.057     \\\\\n",
       "\\textbf{C(Gender)[T.1]}       &       0.6520  &        0.420     &     1.553  &         0.120        &       -0.171    &        1.475     \\\\\n",
       "\\textbf{Age}                  &      -0.0223  &        0.958     &    -0.023  &         0.981        &       -1.900    &        1.855     \\\\\n",
       "\\textbf{EstimatedSalary}      &       1.9493  &        0.976     &     1.998  &         0.046        &        0.037    &        3.862     \\\\\n",
       "\\textbf{Age\\_Bin}             &       5.7285  &        1.184     &     4.840  &         0.000        &        3.409    &        8.048     \\\\\n",
       "\\textbf{Salary\\_Bin}          &       3.4749  &        1.118     &     3.108  &         0.002        &        1.284    &        5.666     \\\\\n",
       "\\textbf{Age\\_Bin:Salary\\_Bin} &      -1.6174  &        0.275     &    -5.881  &         0.000        &       -2.156    &       -1.078     \\\\\n",
       "\\bottomrule\n",
       "\\end{tabular}\n",
       "%\\caption{Logit Regression Results}\n",
       "\\end{center}\n",
       "\n",
       "Possibly complete quasi-separation: A fraction 0.13 of observations can be \\newline\n",
       " perfectly predicted. This might indicate that there is complete \\newline\n",
       " quasi-separation. In this case some parameters will not be identified."
      ],
      "text/plain": [
       "<class 'statsmodels.iolib.summary.Summary'>\n",
       "\"\"\"\n",
       "                           Logit Regression Results                           \n",
       "==============================================================================\n",
       "Dep. Variable:              Purchased   No. Observations:                  300\n",
       "Model:                          Logit   Df Residuals:                      293\n",
       "Method:                           MLE   Df Model:                            6\n",
       "Date:                Thu, 20 Feb 2025   Pseudo R-squ.:                  0.5981\n",
       "Time:                        23:19:30   Log-Likelihood:                -78.304\n",
       "converged:                       True   LL-Null:                       -194.85\n",
       "Covariance Type:            nonrobust   LLR p-value:                 1.683e-47\n",
       "======================================================================================\n",
       "                         coef    std err          z      P>|z|      [0.025      0.975]\n",
       "--------------------------------------------------------------------------------------\n",
       "Intercept            -13.9687      3.016     -4.631      0.000     -19.880      -8.057\n",
       "C(Gender)[T.1]         0.6520      0.420      1.553      0.120      -0.171       1.475\n",
       "Age                   -0.0223      0.958     -0.023      0.981      -1.900       1.855\n",
       "EstimatedSalary        1.9493      0.976      1.998      0.046       0.037       3.862\n",
       "Age_Bin                5.7285      1.184      4.840      0.000       3.409       8.048\n",
       "Salary_Bin             3.4749      1.118      3.108      0.002       1.284       5.666\n",
       "Age_Bin:Salary_Bin    -1.6174      0.275     -5.881      0.000      -2.156      -1.078\n",
       "======================================================================================\n",
       "\n",
       "Possibly complete quasi-separation: A fraction 0.13 of observations can be\n",
       "perfectly predicted. This might indicate that there is complete\n",
       "quasi-separation. In this case some parameters will not be identified.\n",
       "\"\"\""
      ]
     },
     "execution_count": 10,
     "metadata": {},
     "output_type": "execute_result"
    }
   ],
   "source": [
    "model = smf.logit(formula = \"Purchased ~ Age + EstimatedSalary + C(Gender) + Age_Bin + Salary_Bin + Age_Bin:Salary_Bin\", data = train).fit()\n",
    "model.summary()"
   ]
  },
  {
   "cell_type": "code",
   "execution_count": 11,
   "id": "5affa2c6",
   "metadata": {},
   "outputs": [
    {
     "name": "stdout",
     "output_type": "stream",
     "text": [
      "0.92\n"
     ]
    }
   ],
   "source": [
    "pred_probs = model.predict(test)\n",
    "pred_labels = (pred_probs > 0.4).astype(int)\n",
    "\n",
    "accuracy_score = accuracy_score(test.Purchased, pred_labels)\n",
    "print(accuracy_score)"
   ]
  }
 ],
 "metadata": {
  "kernelspec": {
   "display_name": ".venv",
   "language": "python",
   "name": "python3"
  },
  "language_info": {
   "codemirror_mode": {
    "name": "ipython",
    "version": 3
   },
   "file_extension": ".py",
   "mimetype": "text/x-python",
   "name": "python",
   "nbconvert_exporter": "python",
   "pygments_lexer": "ipython3",
   "version": "3.12.1"
  }
 },
 "nbformat": 4,
 "nbformat_minor": 5
}
