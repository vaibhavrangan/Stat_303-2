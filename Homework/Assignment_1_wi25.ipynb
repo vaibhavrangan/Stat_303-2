{
 "cells": [
  {
   "cell_type": "raw",
   "id": "2d08f12d",
   "metadata": {
    "vscode": {
     "languageId": "raw"
    }
   },
   "source": [
    "---\n",
    "title: \"Assignment 1\"\n",
    "format: \n",
    "  html:\n",
    "    toc: true\n",
    "    toc-title: Contents\n",
    "    toc-depth: 4\n",
    "    code-fold: show\n",
    "    self-contained: true\n",
    "    number-sections: false\n",
    "jupyter: python3\n",
    "---"
   ]
  },
  {
   "cell_type": "markdown",
   "id": "6efe6ec7",
   "metadata": {},
   "source": [
    "## Instructions {-}\n",
    "\n",
    "1. You may talk to a friend, discuss the questions and potential directions for solving them. However, you need to write your own solutions and code separately, and not as a group activity. \n",
    "\n",
    "2. Do not write your name on the assignment.\n",
    "\n",
    "3. Write your code in the **Code cells** and your answers in the **Markdown cells** of the Jupyter notebook. Ensure that the solution is written neatly enough to for the graders to understand and follow.\n",
    "\n",
    "4. Use [Quarto](https://quarto.org/docs/output-formats/html-basics.html) to render the **.ipynb** file as HTML. You will need to open the command prompt, navigate to the directory containing the file, and use the command: `quarto render filename.ipynb --to html`. Submit the HTML file.\n",
    "\n",
    "5. There is a **bonus** question worth 15 points.\n",
    "\n",
    "6. **Five points are properly formatting the assignment**. The breakdown is as follows:\n",
    "    - Must be an HTML file rendered using Quarto **(1 point)**. *If you have a Quarto issue, you must mention the issue & quote the error you get when rendering using Quarto in the comments section of Canvas, and submit the ipynb file.* \n",
    "    - No name can be written on the assignment, nor can there be any indicator of the student’s identity—e.g. printouts of the working directory should not be included in the final submission.  **(1 point)**\n",
    "    - There aren’t excessively long outputs of extraneous information (e.g. no printouts of entire data frames without good reason, there aren’t long printouts of which iteration a loop is on, there aren’t long sections of commented-out code, etc.) **(1 point)**\n",
    "    - Final answers to each question are written in the Markdown cells. **(1 point)**\n",
    "    - There is no piece of unnecessary / redundant code, and no unnecessary / redundant text. **(1 point)**\n",
    "\n",
    "7.  The maximum possible score in the assigment is 100 + 15 (bonus question) + 5 (proper formatting) = 120 out of 100. There is no partial credit for some parts of the bonus question."
   ]
  },
  {
   "cell_type": "markdown",
   "id": "93d691ac",
   "metadata": {},
   "source": [
    "## 1) Case Studies: Regression vs Classification and Prediction vs Inference (16 points)"
   ]
  },
  {
   "cell_type": "markdown",
   "id": "76ef6e03",
   "metadata": {},
   "source": [
    "For each case below, explain (1) whether it is a classification or a regression problem and (2) whether the main purpose is prediction or inference. **You need justify your answers for credit.** "
   ]
  },
  {
   "cell_type": "markdown",
   "id": "659b081f",
   "metadata": {},
   "source": [
    "### 1a)\n",
    "You work for a company that is interested in conducting a marketing campaign. The goal of your project is to identify individuals who are likely to respond positively to a marketing campaign, based on observations of demographic variables (such as age, gender, income etc.) measured on each individual. **(2+2 points)**"
   ]
  },
  {
   "cell_type": "markdown",
   "id": "66fad595",
   "metadata": {},
   "source": [
    "This is a classification problem with the purpose of prediction. The project aims to classify individuals by their likelihood to respond positively to a marketing campaign by certain demographic variables. The project seeks to predict the behavior of all individuals and specifically identify the ones whom they predict will respond positively, making it a prediction problem."
   ]
  },
  {
   "cell_type": "markdown",
   "id": "87243d10",
   "metadata": {},
   "source": [
    "### 1b)\n",
    "For the same company, now you are working on a different project. This one is focused on understanding the impact of advertisements in different media types on the company sales. For example, you are interested in the following question: *'How large of an increase in sales is associated with a given increase in radio and TV advertising?'* **(2+2 points)**"
   ]
  },
  {
   "cell_type": "markdown",
   "id": "5c9da856",
   "metadata": {},
   "source": [
    "This is a regression problem since we are trying to find the size of the increase in sales corresponding to a unit increase in advertising. It is an inference problem because we are trying to find a relationship in the data -- one between advertising and sales."
   ]
  },
  {
   "cell_type": "markdown",
   "id": "daea437c",
   "metadata": {},
   "source": [
    "### 1c) \n",
    "A company is selling furniture and they are interested in the finding the association between demographic characteristics of customers (such as age, gender, income etc.) and if they would purchase a particular company product. **(2+2 points)**"
   ]
  },
  {
   "cell_type": "markdown",
   "id": "d50cc38f",
   "metadata": {},
   "source": [
    "This is a classification problem since we're trying to categorize customers into groups of whether or not they'd purchase the product, based on certain characteristics. Since we're trying to understand the association and not predict the behavior of future customers, this is an inference problem."
   ]
  },
  {
   "cell_type": "markdown",
   "id": "30aee047",
   "metadata": {},
   "source": [
    "### 1d)\n",
    "We are interested in forecasting the % change in the USD/Euro exchange rate using the weekly changes in the stock markets of a number of countries. We collect weekly data for all of 2023. For each week, we record the % change in the USD/Euro, the % change in the US market, the % change in the British market, and the % change in the German market. **(2+2 points)**"
   ]
  },
  {
   "cell_type": "markdown",
   "id": "d5b78411",
   "metadata": {},
   "source": [
    "This is a regression problem since we're trying to find the percent change in the exchange rate corresponding to the percent changes in these three markets. Since we're trying to forecast future movement, this is a prediction problem."
   ]
  },
  {
   "cell_type": "markdown",
   "id": "fc077572",
   "metadata": {},
   "source": [
    "## 2) Examples for Different Regression Metrics: RMSE vs MAE (8 points)"
   ]
  },
  {
   "cell_type": "markdown",
   "id": "d93c431a",
   "metadata": {},
   "source": [
    "### 2a) \n",
    "Describe a regression problem, where it will be more proper to evaluate the model performance using the root mean squared error (RMSE) metric as compared to the mean absolute error (MAE) metric. **You need to justify your answer for credit.** **(4 points)**\n",
    "\n",
    "**Note:** You are not allowed to use the datasets and examples covered in the lectures."
   ]
  },
  {
   "cell_type": "markdown",
   "id": "c31a355d",
   "metadata": {},
   "source": [
    "Suppose that researchers are trying to find the association between the delta of a particular option and the option's trading volume. For financial problems like this, we want to avoid large errors because skewing a model with large deviations and acting on that skewed and thus unrepresentative model would thus result in financial loss. Therefore, RMSE is a more appropriate metric to evaluate model performance than MAE as it is more sensitive to outliers and penalizes them more."
   ]
  },
  {
   "cell_type": "markdown",
   "id": "541a43e9",
   "metadata": {},
   "source": [
    "### 2b) \n",
    "Describe a regression problem, where it will be more proper to evaluate the model performance using the mean absolute error (MAE) metric as compared to the root mean squared error (RMSE) metric. **You need to justify your answer for credit.** **(4 points)**\n",
    "\n",
    "**Note:** You are not allowed to use the datasets and examples covered in the lectures."
   ]
  },
  {
   "cell_type": "markdown",
   "id": "fc658c6c",
   "metadata": {},
   "source": [
    "Suppose that researchers are trying to find the association between years of education and lifetime earnings and model the association with a linear regression model. In this case, evaluating model performance with MAE compared to RMSE would be appropriate because of the existence of significant outliers. The outliers would be the richest people on Earth who have a seemingly unassuming level of education (4 year degree) but whose incomes deviate so far from the rest of the data. To avoid these outliers dramatically skewing the error measurement, we should take the MAE since it doesn't square the errors."
   ]
  },
  {
   "cell_type": "markdown",
   "id": "e9a72080",
   "metadata": {},
   "source": [
    "## 3) Simple Linear Regression: Formulation (3 points)"
   ]
  },
  {
   "cell_type": "markdown",
   "id": "da830ac0",
   "metadata": {},
   "source": [
    "When asked to state the simple linear regression model, a students wrote it as follows: $E(Y_i) = \\beta_0 + \\beta_1X_i + \\epsilon_i$. Is this correct **(1 point)**? Justify your answer **(2 points)**."
   ]
  },
  {
   "cell_type": "markdown",
   "id": "c3bfb9d1",
   "metadata": {},
   "source": [
    "This is incorrect: the linear model calculates $Y_i$, not $E(Y_i)$. Taking the expectation of both sides of the linear regression model $Y_i = \\beta_0 + \\beta_1X_i + \\epsilon_i$, we should get $E(Y_i) = \\beta_0 + \\beta_1X_i$ because we assume that the expected value of the irreducible error $\\epsilon_i$ is 0."
   ]
  },
  {
   "cell_type": "markdown",
   "id": "4393cced-a26a-47a9-a23d-cba029eeaf27",
   "metadata": {},
   "source": [
    "## 4) Modeling the Petrol Consumption in U.S. States (58 points)\n",
    "\n",
    "Read **petrol_consumption_train.csv**. Assume that each observation is a U.S. state. For each observation, the data has the following variables as its five columns: \n",
    "\n",
    "`Petrol_tax`: Petrol tax (cents per gallon) \n",
    "\n",
    "`Per_capita_income`: Average income (dollars) \n",
    "\n",
    "`Paved_highways`: Paved Highways (miles) \n",
    "\n",
    "`Prop_license`: Proportion of population with driver's licenses \n",
    "\n",
    "`Petrol_consumption`: Consumption of petrol (millions of gallons)"
   ]
  },
  {
   "cell_type": "code",
   "execution_count": 1,
   "id": "d688c2c5",
   "metadata": {},
   "outputs": [
    {
     "data": {
      "text/html": [
       "<div>\n",
       "<style scoped>\n",
       "    .dataframe tbody tr th:only-of-type {\n",
       "        vertical-align: middle;\n",
       "    }\n",
       "\n",
       "    .dataframe tbody tr th {\n",
       "        vertical-align: top;\n",
       "    }\n",
       "\n",
       "    .dataframe thead th {\n",
       "        text-align: right;\n",
       "    }\n",
       "</style>\n",
       "<table border=\"1\" class=\"dataframe\">\n",
       "  <thead>\n",
       "    <tr style=\"text-align: right;\">\n",
       "      <th></th>\n",
       "      <th>Petrol_tax</th>\n",
       "      <th>Per_capita_income</th>\n",
       "      <th>Paved_highways</th>\n",
       "      <th>Prop_license</th>\n",
       "      <th>Petrol_consumption</th>\n",
       "    </tr>\n",
       "  </thead>\n",
       "  <tbody>\n",
       "    <tr>\n",
       "      <th>0</th>\n",
       "      <td>9.0</td>\n",
       "      <td>3571</td>\n",
       "      <td>1976</td>\n",
       "      <td>0.525</td>\n",
       "      <td>541</td>\n",
       "    </tr>\n",
       "    <tr>\n",
       "      <th>1</th>\n",
       "      <td>9.0</td>\n",
       "      <td>4092</td>\n",
       "      <td>1250</td>\n",
       "      <td>0.572</td>\n",
       "      <td>524</td>\n",
       "    </tr>\n",
       "    <tr>\n",
       "      <th>2</th>\n",
       "      <td>9.0</td>\n",
       "      <td>3865</td>\n",
       "      <td>1586</td>\n",
       "      <td>0.580</td>\n",
       "      <td>561</td>\n",
       "    </tr>\n",
       "    <tr>\n",
       "      <th>3</th>\n",
       "      <td>7.5</td>\n",
       "      <td>4870</td>\n",
       "      <td>2351</td>\n",
       "      <td>0.529</td>\n",
       "      <td>414</td>\n",
       "    </tr>\n",
       "    <tr>\n",
       "      <th>4</th>\n",
       "      <td>8.0</td>\n",
       "      <td>4399</td>\n",
       "      <td>431</td>\n",
       "      <td>0.544</td>\n",
       "      <td>410</td>\n",
       "    </tr>\n",
       "  </tbody>\n",
       "</table>\n",
       "</div>"
      ],
      "text/plain": [
       "   Petrol_tax  Per_capita_income  Paved_highways  Prop_license  \\\n",
       "0         9.0               3571            1976         0.525   \n",
       "1         9.0               4092            1250         0.572   \n",
       "2         9.0               3865            1586         0.580   \n",
       "3         7.5               4870            2351         0.529   \n",
       "4         8.0               4399             431         0.544   \n",
       "\n",
       "   Petrol_consumption  \n",
       "0                 541  \n",
       "1                 524  \n",
       "2                 561  \n",
       "3                 414  \n",
       "4                 410  "
      ]
     },
     "execution_count": 1,
     "metadata": {},
     "output_type": "execute_result"
    }
   ],
   "source": [
    "import pandas as pd\n",
    "import numpy as np\n",
    "import statsmodels.formula.api as smf\n",
    "import statsmodels.api as sm\n",
    "import seaborn as sns\n",
    "import matplotlib.pyplot as plt\n",
    "from matplotlib.patches import Patch\n",
    "from matplotlib.lines import Line2D\n",
    "from sklearn.linear_model import LinearRegression\n",
    "from sklearn.metrics import mean_squared_error, mean_absolute_error, r2_score\n",
    "\n",
    "petrol_train = pd.read_csv(\"/Users/vaibhavrangan/Downloads/Stat_303-2/Datasets/petrol_consumption_train.csv\")\n",
    "petrol_train.head()"
   ]
  },
  {
   "cell_type": "markdown",
   "id": "2270390b-eb12-458d-a5fd-68a0b13be9bc",
   "metadata": {},
   "source": [
    "### 4a) \n",
    "Create a pairwise plot of all the variables in the dataset. **(1 point)** Print the correlation matrix of all the variables as well. **(1 point)** Which variable has the highest linear correlation with `Petrol_consumption`? **(1 point)**\n",
    "\n",
    "**Note:** Remember that a pairwise plot is a visualization tool that you can find in the seaborn library."
   ]
  },
  {
   "cell_type": "code",
   "execution_count": 2,
   "id": "3b9e93bc",
   "metadata": {},
   "outputs": [
    {
     "data": {
      "image/png": "[encoded data removed]",
      "text/plain": [
       "<Figure size 1250x1250 with 30 Axes>"
      ]
     },
     "metadata": {},
     "output_type": "display_data"
    }
   ],
   "source": [
    "sns.pairplot(petrol_train);"
   ]
  },
  {
   "cell_type": "code",
   "execution_count": 3,
   "id": "1508ddef",
   "metadata": {},
   "outputs": [
    {
     "data": {
      "text/html": [
       "<div>\n",
       "<style scoped>\n",
       "    .dataframe tbody tr th:only-of-type {\n",
       "        vertical-align: middle;\n",
       "    }\n",
       "\n",
       "    .dataframe tbody tr th {\n",
       "        vertical-align: top;\n",
       "    }\n",
       "\n",
       "    .dataframe thead th {\n",
       "        text-align: right;\n",
       "    }\n",
       "</style>\n",
       "<table border=\"1\" class=\"dataframe\">\n",
       "  <thead>\n",
       "    <tr style=\"text-align: right;\">\n",
       "      <th></th>\n",
       "      <th>Petrol_tax</th>\n",
       "      <th>Per_capita_income</th>\n",
       "      <th>Paved_highways</th>\n",
       "      <th>Prop_license</th>\n",
       "      <th>Petrol_consumption</th>\n",
       "    </tr>\n",
       "  </thead>\n",
       "  <tbody>\n",
       "    <tr>\n",
       "      <th>Petrol_tax</th>\n",
       "      <td>1.000000</td>\n",
       "      <td>0.082359</td>\n",
       "      <td>-0.660022</td>\n",
       "      <td>-0.223920</td>\n",
       "      <td>-0.393415</td>\n",
       "    </tr>\n",
       "    <tr>\n",
       "      <th>Per_capita_income</th>\n",
       "      <td>0.082359</td>\n",
       "      <td>1.000000</td>\n",
       "      <td>0.040256</td>\n",
       "      <td>0.048153</td>\n",
       "      <td>-0.314039</td>\n",
       "    </tr>\n",
       "    <tr>\n",
       "      <th>Paved_highways</th>\n",
       "      <td>-0.660022</td>\n",
       "      <td>0.040256</td>\n",
       "      <td>1.000000</td>\n",
       "      <td>-0.037998</td>\n",
       "      <td>0.098117</td>\n",
       "    </tr>\n",
       "    <tr>\n",
       "      <th>Prop_license</th>\n",
       "      <td>-0.223920</td>\n",
       "      <td>0.048153</td>\n",
       "      <td>-0.037998</td>\n",
       "      <td>1.000000</td>\n",
       "      <td>0.718303</td>\n",
       "    </tr>\n",
       "    <tr>\n",
       "      <th>Petrol_consumption</th>\n",
       "      <td>-0.393415</td>\n",
       "      <td>-0.314039</td>\n",
       "      <td>0.098117</td>\n",
       "      <td>0.718303</td>\n",
       "      <td>1.000000</td>\n",
       "    </tr>\n",
       "  </tbody>\n",
       "</table>\n",
       "</div>"
      ],
      "text/plain": [
       "                    Petrol_tax  Per_capita_income  Paved_highways  \\\n",
       "Petrol_tax            1.000000           0.082359       -0.660022   \n",
       "Per_capita_income     0.082359           1.000000        0.040256   \n",
       "Paved_highways       -0.660022           0.040256        1.000000   \n",
       "Prop_license         -0.223920           0.048153       -0.037998   \n",
       "Petrol_consumption   -0.393415          -0.314039        0.098117   \n",
       "\n",
       "                    Prop_license  Petrol_consumption  \n",
       "Petrol_tax             -0.223920           -0.393415  \n",
       "Per_capita_income       0.048153           -0.314039  \n",
       "Paved_highways         -0.037998            0.098117  \n",
       "Prop_license            1.000000            0.718303  \n",
       "Petrol_consumption      0.718303            1.000000  "
      ]
     },
     "execution_count": 3,
     "metadata": {},
     "output_type": "execute_result"
    }
   ],
   "source": [
    "# print correlation matrix\n",
    "petrol_train.corr()"
   ]
  },
  {
   "cell_type": "markdown",
   "id": "de17b7d7",
   "metadata": {},
   "source": [
    "Prop_license has the highest linear correlation with Petrol_consumption"
   ]
  },
  {
   "cell_type": "markdown",
   "id": "d9a01ec9",
   "metadata": {},
   "source": [
    "### 4b) \n",
    "Fit a simple linear regression model to predict `Petrol_consumption` using the column you found in **part a** as the only predictor. Print the model summary. **(3 points)**"
   ]
  },
  {
   "cell_type": "code",
   "execution_count": 4,
   "id": "0594247c",
   "metadata": {},
   "outputs": [
    {
     "data": {
      "text/html": [
       "<table class=\"simpletable\">\n",
       "<caption>OLS Regression Results</caption>\n",
       "<tr>\n",
       "  <th>Dep. Variable:</th>    <td>Petrol_consumption</td> <th>  R-squared:         </th> <td>   0.516</td>\n",
       "</tr>\n",
       "<tr>\n",
       "  <th>Model:</th>                    <td>OLS</td>        <th>  Adj. R-squared:    </th> <td>   0.503</td>\n",
       "</tr>\n",
       "<tr>\n",
       "  <th>Method:</th>              <td>Least Squares</td>   <th>  F-statistic:       </th> <td>   40.51</td>\n",
       "</tr>\n",
       "<tr>\n",
       "  <th>Date:</th>              <td>Mon, 20 Jan 2025</td>  <th>  Prob (F-statistic):</th> <td>1.80e-07</td>\n",
       "</tr>\n",
       "<tr>\n",
       "  <th>Time:</th>                  <td>16:34:15</td>      <th>  Log-Likelihood:    </th> <td> -231.59</td>\n",
       "</tr>\n",
       "<tr>\n",
       "  <th>No. Observations:</th>       <td>    40</td>       <th>  AIC:               </th> <td>   467.2</td>\n",
       "</tr>\n",
       "<tr>\n",
       "  <th>Df Residuals:</th>           <td>    38</td>       <th>  BIC:               </th> <td>   470.5</td>\n",
       "</tr>\n",
       "<tr>\n",
       "  <th>Df Model:</th>               <td>     1</td>       <th>                     </th>     <td> </td>   \n",
       "</tr>\n",
       "<tr>\n",
       "  <th>Covariance Type:</th>       <td>nonrobust</td>     <th>                     </th>     <td> </td>   \n",
       "</tr>\n",
       "</table>\n",
       "<table class=\"simpletable\">\n",
       "<tr>\n",
       "        <td></td>          <th>coef</th>     <th>std err</th>      <th>t</th>      <th>P>|t|</th>  <th>[0.025</th>    <th>0.975]</th>  \n",
       "</tr>\n",
       "<tr>\n",
       "  <th>Intercept</th>    <td> -267.6155</td> <td>  132.038</td> <td>   -2.027</td> <td> 0.050</td> <td> -534.912</td> <td>   -0.319</td>\n",
       "</tr>\n",
       "<tr>\n",
       "  <th>Prop_license</th> <td> 1479.1803</td> <td>  232.414</td> <td>    6.364</td> <td> 0.000</td> <td> 1008.682</td> <td> 1949.678</td>\n",
       "</tr>\n",
       "</table>\n",
       "<table class=\"simpletable\">\n",
       "<tr>\n",
       "  <th>Omnibus:</th>       <td> 5.963</td> <th>  Durbin-Watson:     </th> <td>   1.280</td>\n",
       "</tr>\n",
       "<tr>\n",
       "  <th>Prob(Omnibus):</th> <td> 0.051</td> <th>  Jarque-Bera (JB):  </th> <td>   4.620</td>\n",
       "</tr>\n",
       "<tr>\n",
       "  <th>Skew:</th>          <td> 0.762</td> <th>  Prob(JB):          </th> <td>  0.0993</td>\n",
       "</tr>\n",
       "<tr>\n",
       "  <th>Kurtosis:</th>      <td> 3.670</td> <th>  Cond. No.          </th> <td>    23.9</td>\n",
       "</tr>\n",
       "</table><br/><br/>Notes:<br/>[1] Standard Errors assume that the covariance matrix of the errors is correctly specified."
      ],
      "text/latex": [
       "\\begin{center}\n",
       "\\begin{tabular}{lclc}\n",
       "\\toprule\n",
       "\\textbf{Dep. Variable:}    & Petrol\\_consumption & \\textbf{  R-squared:         } &     0.516   \\\\\n",
       "\\textbf{Model:}            &         OLS         & \\textbf{  Adj. R-squared:    } &     0.503   \\\\\n",
       "\\textbf{Method:}           &    Least Squares    & \\textbf{  F-statistic:       } &     40.51   \\\\\n",
       "\\textbf{Date:}             &   Mon, 20 Jan 2025  & \\textbf{  Prob (F-statistic):} &  1.80e-07   \\\\\n",
       "\\textbf{Time:}             &       16:34:15      & \\textbf{  Log-Likelihood:    } &   -231.59   \\\\\n",
       "\\textbf{No. Observations:} &            40       & \\textbf{  AIC:               } &     467.2   \\\\\n",
       "\\textbf{Df Residuals:}     &            38       & \\textbf{  BIC:               } &     470.5   \\\\\n",
       "\\textbf{Df Model:}         &             1       & \\textbf{                     } &             \\\\\n",
       "\\textbf{Covariance Type:}  &      nonrobust      & \\textbf{                     } &             \\\\\n",
       "\\bottomrule\n",
       "\\end{tabular}\n",
       "\\begin{tabular}{lcccccc}\n",
       "                       & \\textbf{coef} & \\textbf{std err} & \\textbf{t} & \\textbf{P$> |$t$|$} & \\textbf{[0.025} & \\textbf{0.975]}  \\\\\n",
       "\\midrule\n",
       "\\textbf{Intercept}     &    -267.6155  &      132.038     &    -2.027  &         0.050        &     -534.912    &       -0.319     \\\\\n",
       "\\textbf{Prop\\_license} &    1479.1803  &      232.414     &     6.364  &         0.000        &     1008.682    &     1949.678     \\\\\n",
       "\\bottomrule\n",
       "\\end{tabular}\n",
       "\\begin{tabular}{lclc}\n",
       "\\textbf{Omnibus:}       &  5.963 & \\textbf{  Durbin-Watson:     } &    1.280  \\\\\n",
       "\\textbf{Prob(Omnibus):} &  0.051 & \\textbf{  Jarque-Bera (JB):  } &    4.620  \\\\\n",
       "\\textbf{Skew:}          &  0.762 & \\textbf{  Prob(JB):          } &   0.0993  \\\\\n",
       "\\textbf{Kurtosis:}      &  3.670 & \\textbf{  Cond. No.          } &     23.9  \\\\\n",
       "\\bottomrule\n",
       "\\end{tabular}\n",
       "%\\caption{OLS Regression Results}\n",
       "\\end{center}\n",
       "\n",
       "Notes: \\newline\n",
       " [1] Standard Errors assume that the covariance matrix of the errors is correctly specified."
      ],
      "text/plain": [
       "<class 'statsmodels.iolib.summary.Summary'>\n",
       "\"\"\"\n",
       "                            OLS Regression Results                            \n",
       "==============================================================================\n",
       "Dep. Variable:     Petrol_consumption   R-squared:                       0.516\n",
       "Model:                            OLS   Adj. R-squared:                  0.503\n",
       "Method:                 Least Squares   F-statistic:                     40.51\n",
       "Date:                Mon, 20 Jan 2025   Prob (F-statistic):           1.80e-07\n",
       "Time:                        16:34:15   Log-Likelihood:                -231.59\n",
       "No. Observations:                  40   AIC:                             467.2\n",
       "Df Residuals:                      38   BIC:                             470.5\n",
       "Df Model:                           1                                         \n",
       "Covariance Type:            nonrobust                                         \n",
       "================================================================================\n",
       "                   coef    std err          t      P>|t|      [0.025      0.975]\n",
       "--------------------------------------------------------------------------------\n",
       "Intercept     -267.6155    132.038     -2.027      0.050    -534.912      -0.319\n",
       "Prop_license  1479.1803    232.414      6.364      0.000    1008.682    1949.678\n",
       "==============================================================================\n",
       "Omnibus:                        5.963   Durbin-Watson:                   1.280\n",
       "Prob(Omnibus):                  0.051   Jarque-Bera (JB):                4.620\n",
       "Skew:                           0.762   Prob(JB):                       0.0993\n",
       "Kurtosis:                       3.670   Cond. No.                         23.9\n",
       "==============================================================================\n",
       "\n",
       "Notes:\n",
       "[1] Standard Errors assume that the covariance matrix of the errors is correctly specified.\n",
       "\"\"\""
      ]
     },
     "execution_count": 4,
     "metadata": {},
     "output_type": "execute_result"
    }
   ],
   "source": [
    "ols_object = smf.ols(formula = \"Petrol_consumption~Prop_license\", data = petrol_train)\n",
    "model = ols_object.fit()\n",
    "model.summary()"
   ]
  },
  {
   "cell_type": "markdown",
   "id": "9b7486df",
   "metadata": {},
   "source": [
    "### 4c) \n",
    "When asked for a point estimate of the expected petrol consumption for a state where the proportion of population with driver's license is 54.4\\%, a person gave the estimate 488 million gallons because that is the mean value of `Petrol_consumption` for the two observations of `Prop_license = 0.544` pieces in the dataset. Is there an issue with this approach? Explain. **(2 points)** If there is an issue, then suggest a better approach and use it to estimate the expected petrol consumption for a state where the proportion of population with driver's license is 54.4\\%. **(2 points)**"
   ]
  },
  {
   "cell_type": "markdown",
   "id": "3593a751",
   "metadata": {},
   "source": [
    "This approach is incorrect since it ignores the overall relationship between Prop_license and Petrol_consumption and instead bases the point estimate solely on the values of the two observations, which could be wildly inaccurate or otherwise subject to significant variance. A better approach would be to plug 0.544 and the values for $\\beta_0$ and $\\beta_1$ we found through the regression model into $Y_i = \\beta_0 + \\beta_1X_i$ to find the corresponding $Y_i$ value."
   ]
  },
  {
   "cell_type": "code",
   "execution_count": 17,
   "id": "c4616adb",
   "metadata": {},
   "outputs": [
    {
     "name": "stdout",
     "output_type": "stream",
     "text": [
      "537.0585613839467\n"
     ]
    }
   ],
   "source": [
    "point_estimate = 0.544*model.params[\"Prop_license\"] + model.params[\"Intercept\"]\n",
    "print(point_estimate)"
   ]
  },
  {
   "cell_type": "markdown",
   "id": "619bdc1b",
   "metadata": {},
   "source": [
    "### 4d) \n",
    "What is the increase in petrol consumption for an increase of 0.05 in the predictor? **(3 points)**"
   ]
  },
  {
   "cell_type": "code",
   "execution_count": 5,
   "id": "b6d40fb8",
   "metadata": {},
   "outputs": [
    {
     "name": "stdout",
     "output_type": "stream",
     "text": [
      "73.95901660689238\n"
     ]
    }
   ],
   "source": [
    "beta_1 = model.params[\"Prop_license\"]\n",
    "increase = beta_1*0.05\n",
    "print(increase)"
   ]
  },
  {
   "cell_type": "markdown",
   "id": "aa369a53",
   "metadata": {},
   "source": [
    "### 4e)\n",
    "Does petrol consumption have a statistically significant relationship with the predictor? **You need to justify your answer for credit**. **(3 points)**"
   ]
  },
  {
   "cell_type": "markdown",
   "id": "7fb6487c",
   "metadata": {},
   "source": [
    "Petrol consumption has a statistically significant relationship with Prop_license because the p-value for the coefficient of Prop_license is 0, allowing us to reject the null hypothesis that $\\beta_1 = 0$. We thus conclude that there is a statistically significant relationship between the predictor and response."
   ]
  },
  {
   "cell_type": "markdown",
   "id": "e224b584",
   "metadata": {},
   "source": [
    "### 4f) \n",
    "How much of the variation in petrol consumption can be explained by its linear relationship with the predictor? **(2 points)**"
   ]
  },
  {
   "cell_type": "markdown",
   "id": "4bf98e36",
   "metadata": {},
   "source": [
    "51.6% of the variation in petrol consumption can be explained by its linear relationship with the predictor because the $R^2$ value is 0.516."
   ]
  },
  {
   "cell_type": "markdown",
   "id": "571380f8",
   "metadata": {},
   "source": [
    "### 4g) \n",
    "Predict the petrol consumption for a state in which 50% of the population has a driver’s license. **(2 points)** What are the confidence interval **(2 points)** and the prediction interval **(2 points)** for your prediction? Which interval is wider? **(1 points)** Why? **(2 points)** "
   ]
  },
  {
   "cell_type": "code",
   "execution_count": 6,
   "id": "42e9dd6f",
   "metadata": {},
   "outputs": [
    {
     "name": "stdout",
     "output_type": "stream",
     "text": [
      "471.97462676988135\n"
     ]
    }
   ],
   "source": [
    "beta_0 = model.params[\"Intercept\"]\n",
    "pred = beta_0 + beta_1*0.5\n",
    "print(pred)"
   ]
  },
  {
   "cell_type": "code",
   "execution_count": 7,
   "id": "8838e974",
   "metadata": {},
   "outputs": [
    {
     "name": "stdout",
     "output_type": "stream",
     "text": [
      "[[431.69679993 512.25245361]]\n"
     ]
    }
   ],
   "source": [
    "new_data = pd.DataFrame({\"Prop_license\": [0.5]})\n",
    "prediction = model.get_prediction(new_data)\n",
    "conf_int = prediction.conf_int()\n",
    "print(conf_int)"
   ]
  },
  {
   "cell_type": "code",
   "execution_count": 8,
   "id": "5ba5cd5e",
   "metadata": {},
   "outputs": [
    {
     "name": "stdout",
     "output_type": "stream",
     "text": [
      "mean_ci_lower    431.696800\n",
      "mean_ci_upper    512.252454\n",
      "Name: 0, dtype: float64\n",
      "obs_ci_lower    302.822725\n",
      "obs_ci_upper    641.126528\n",
      "Name: 0, dtype: float64\n"
     ]
    }
   ],
   "source": [
    "summary_frame = prediction.summary_frame(alpha = 0.05)\n",
    "confidence_interval = summary_frame[['mean_ci_lower', 'mean_ci_upper']].iloc[0]\n",
    "print(confidence_interval)\n",
    "prediction_interval = summary_frame[[\"obs_ci_lower\", \"obs_ci_upper\"]].iloc[0]\n",
    "print(prediction_interval)"
   ]
  },
  {
   "cell_type": "markdown",
   "id": "12ad367f",
   "metadata": {},
   "source": [
    "The prediction interval is wider because it incorporates both the error in estimating Y (model uncertainty) and the variation in the response data that is not explained by the model (irreducible error), in order to provide a range for an individual observation. This contrasts with confidence intervals, which provide a range for the mean response, and thus only account for the model uncertainty."
   ]
  },
  {
   "cell_type": "markdown",
   "id": "786b15d3",
   "metadata": {},
   "source": [
    "### 4h)\n",
    "Predict the petrol consumption for a state in which 10% of the population has a driver’s license. **(3 points)** Are you getting a reasonable outcome? **(1 point)** Why or why not? **(2 points)**"
   ]
  },
  {
   "cell_type": "code",
   "execution_count": 9,
   "id": "65780509",
   "metadata": {},
   "outputs": [
    {
     "name": "stdout",
     "output_type": "stream",
     "text": [
      "-119.69750608525763\n"
     ]
    }
   ],
   "source": [
    "point_est = beta_0 + 0.1*beta_1\n",
    "print(point_est)\n"
   ]
  },
  {
   "cell_type": "code",
   "execution_count": 10,
   "id": "fdc932f4",
   "metadata": {},
   "outputs": [
    {
     "name": "stdout",
     "output_type": "stream",
     "text": [
      "0.451\n",
      "0.724\n"
     ]
    }
   ],
   "source": [
    "# print range of petrol_train[\"Prop_license\"]\n",
    "print(petrol_train[\"Prop_license\"].min())\n",
    "print(petrol_train[\"Prop_license\"].max())"
   ]
  },
  {
   "cell_type": "markdown",
   "metadata": {},
   "source": [
    "I am not getting a reasonable outcome (I got a negative number and petrol consumption can never be negative). This is because the range of Prop_license that I fitted the regression model on is between 0.451 and 0.724. Thus, when I plug in a value like 0.1 that is outside the range of observed data used to fit the model, the model extrapolates the relationship it found for points [0.451, 0.724] to points outside that range that may not follow that relationship and in this case, 0.1 doesn't. "
   ]
  },
  {
   "cell_type": "markdown",
   "id": "112c3de4",
   "metadata": {},
   "source": [
    "### 4i) \n",
    "What is the residual standard error of the model? **(3 points)**"
   ]
  },
  {
   "cell_type": "code",
   "execution_count": 30,
   "id": "118b3a0d",
   "metadata": {},
   "outputs": [
    {
     "data": {
      "text/plain": [
       "np.float64(81.15342760294637)"
      ]
     },
     "execution_count": 30,
     "metadata": {},
     "output_type": "execute_result"
    }
   ],
   "source": [
    "np.sqrt(model.mse_resid)\n"
   ]
  },
  {
   "cell_type": "markdown",
   "id": "7f4ee6cd",
   "metadata": {},
   "source": [
    "### 4j) \n",
    "Using the trained model, predict the petrol consumption of the observations in **petrol_consumption_test.csv** **(2 points)** and find the RMSE. **(2 points)** What is the unit of this RMSE value? **(1 point)** "
   ]
  },
  {
   "cell_type": "code",
   "execution_count": 12,
   "id": "01a105c5",
   "metadata": {},
   "outputs": [
    {
     "name": "stdout",
     "output_type": "stream",
     "text": [
      "80.13903941152408\n"
     ]
    }
   ],
   "source": [
    "petrol_test = pd.read_csv(\"/Users/vaibhavrangan/Downloads/Stat_303-2/Datasets/petrol_consumption_test.csv\")\n",
    "pred_petrol_consumption = model.predict(petrol_test)\n",
    "rmse = np.sqrt(((petrol_test[\"Petrol_consumption\"] - pred_petrol_consumption)**2).mean())\n",
    "print(rmse)"
   ]
  },
  {
   "cell_type": "markdown",
   "id": "6f07b390",
   "metadata": {},
   "source": [
    "The unit of the RMSE value is the same unit as Petrol_consumption."
   ]
  },
  {
   "cell_type": "markdown",
   "id": "28011b87",
   "metadata": {},
   "source": [
    "### 4k) \n",
    "Based on the answers to **part i** and **part j**, do you think the model is overfitting? **You need to justify your answer for credit.** **(3 points)**"
   ]
  },
  {
   "cell_type": "markdown",
   "id": "5ffe86fa",
   "metadata": {},
   "source": [
    "The model is not overfitting because its RSE on training data (81) is very close to its RMSE on unseen data (80), meaning its performance on train data is highly comparable to its performance on test data."
   ]
  },
  {
   "cell_type": "markdown",
   "id": "77139d9b",
   "metadata": {},
   "source": [
    "### 4l) \n",
    "Make a scatterplot of `Petrol_consumption` vs. the predictor using **petrol_consumption_test.csv**. **(1 point)** Over the scatterplot, plot the regression line **(1 point)**, the prediction interval **(2 points)**, and the confidence interval. **(2 points)** \n",
    "\n",
    "Make sure that regression line, prediction interval lines, and confidence interval lines have different colors. **(1 point)** Display a legend that correctly labels the lines as well. **(1 point)** Note that you need two lines of the same color to plot an interval."
   ]
  },
  {
   "cell_type": "code",
   "execution_count": 13,
   "id": "78a50be7",
   "metadata": {},
   "outputs": [
    {
     "data": {
      "text/plain": [
       "<matplotlib.legend.Legend at 0x12bb6d190>"
      ]
     },
     "execution_count": 13,
     "metadata": {},
     "output_type": "execute_result"
    },
    {
     "data": {
      "image/png": "[encoded data removed]",
      "text/plain": [
       "<Figure size 640x480 with 1 Axes>"
      ]
     },
     "metadata": {},
     "output_type": "display_data"
    }
   ],
   "source": [
    "predictions = model.get_prediction(petrol_test)\n",
    "predictions_table = predictions.summary_frame()\n",
    "\n",
    "ax = sns.scatterplot(x = petrol_test[\"Prop_license\"], y = petrol_test[\"Petrol_consumption\"], color = \"red\");\n",
    "sns.lineplot(x =petrol_test[\"Prop_license\"], y = pred_petrol_consumption, color = \"orange\" )\n",
    "sns.lineplot(x =petrol_test[\"Prop_license\"], y = predictions_table.mean_ci_lower, color = \"blue\")\n",
    "sns.lineplot(x =petrol_test[\"Prop_license\"], y = predictions_table.mean_ci_upper, color = \"blue\")\n",
    "sns.lineplot(x =petrol_test[\"Prop_license\"], y = predictions_table.obs_ci_lower, color = \"green\")\n",
    "sns.lineplot(x =petrol_test[\"Prop_license\"], y = predictions_table.obs_ci_upper, color = \"green\")\n",
    "\n",
    "legend_elements = [Line2D([0], [0], color='orange', label='Mean prediction'),\n",
    "                   Line2D([0], [0], color='blue', label='Confidence interval'),\n",
    "                  Line2D([0], [0], color='green', label='Prediction interval')]\n",
    "ax.legend(handles=legend_elements, loc='upper left')\n"
   ]
  },
  {
   "cell_type": "markdown",
   "id": "f090b275",
   "metadata": {},
   "source": [
    "### 4m)\n",
    "The dataset consists of 40 US States. If you combine this data with the data of the remaining 10 US States, are you likely to obtain narrower confidence and prediction intervals in the plot developed in the previous question, for the same level of confidence? Justify your answer. **(2 points)**. \n",
    "\n",
    "If yes, then can you gaurantee that the width of these intervals will reduce? Justify your answer. If no, then can you gaurantee that the width of these intervals will not reduce? Justify your answer. **(2 points)**"
   ]
  },
  {
   "cell_type": "markdown",
   "id": "7b200c2f",
   "metadata": {},
   "source": [
    "Assuming the data from the remaining 10 states is independent and identically distributed, adding it will likely reduce the width of the confidence and prediction intervals for the same level of confidence. This is because more data increases the precision of the estimates of the parameters of the model, thus narrowing the confidence and prediction intervals."
   ]
  },
  {
   "cell_type": "markdown",
   "id": "f6a1a96c",
   "metadata": {},
   "source": [
    "### 4n)\n",
    "Find the correlation between `Petrol_consumption` and the rest of the variables in **petrol_consumption_train.csv**. Which column would have the lowest R-squared value when used as the predictor for a Simple Linear Regression model to predict `Petrol_consumption`? Note that you can directly answer this question from the correlation values and do not need to develop any more linear regression models. **(2 points)**"
   ]
  },
  {
   "cell_type": "code",
   "execution_count": 16,
   "id": "b03f2e49",
   "metadata": {},
   "outputs": [
    {
     "name": "stdout",
     "output_type": "stream",
     "text": [
      "Petrol_tax           -0.393415\n",
      "Per_capita_income    -0.314039\n",
      "Paved_highways        0.098117\n",
      "Prop_license          0.718303\n",
      "Petrol_consumption    1.000000\n",
      "Name: Petrol_consumption, dtype: float64\n"
     ]
    }
   ],
   "source": [
    "corrs = petrol_train.corr()[\"Petrol_consumption\"]\n",
    "print(corrs)"
   ]
  },
  {
   "cell_type": "markdown",
   "id": "73e67a5e",
   "metadata": {},
   "source": [
    "Paved_highways would have the lowest $R^2$ value because it has the smallest correlation coefficient by magnitude."
   ]
  },
  {
   "cell_type": "markdown",
   "id": "4c77627d",
   "metadata": {},
   "source": [
    "## 5) Reproducing the Results with Scikit-Learn (15 points)"
   ]
  },
  {
   "cell_type": "markdown",
   "id": "29a26a67",
   "metadata": {},
   "source": [
    "### 5a)\n",
    "Using the same datasets, same response and the same predictor as **Question 4**, reproduce the following outputs with scikit-learn:\n",
    "\n",
    "- Model RMSE for test data **(3 points)**\n",
    "- R-squared value of the model **(3 points)**\n",
    "- Residual standard error of the model **(3 points)**\n",
    "\n",
    "**Note that you are only allowed to use scikit-learn, pandas, and numpy tools for this question. Any other libraries will not receive any credit.**"
   ]
  },
  {
   "cell_type": "code",
   "execution_count": 32,
   "id": "6dd6ddb8",
   "metadata": {},
   "outputs": [
    {
     "name": "stdout",
     "output_type": "stream",
     "text": [
      "Model RMSE for test data:  80.13903941152402\n",
      "Train R^2:  0.5159591573694481\n",
      "Test R^2:  0.08084083229313976\n",
      "RSE:  81.15342760294637\n"
     ]
    }
   ],
   "source": [
    "model_skl = LinearRegression()\n",
    "\n",
    "x_train = petrol_train[[\"Prop_license\"]]\n",
    "y_train = petrol_train[\"Petrol_consumption\"]\n",
    "\n",
    "model_skl.fit(x_train,y_train)\n",
    "\n",
    "x_test = petrol_test[[\"Prop_license\"]]\n",
    "y_test = petrol_test[\"Petrol_consumption\"].to_numpy()\n",
    "\n",
    "y_pred = model_skl.predict(x_test)\n",
    "\n",
    "test_rmse = np.sqrt(np.mean((y_pred - y_test)**2))\n",
    "print(\"Model RMSE for test data: \", test_rmse)\n",
    "\n",
    "y_pred_train = model.predict(x_train)\n",
    "train_r2 = r2_score(y_train, y_pred_train)\n",
    "test_r2 = r2_score(y_test, y_pred)\n",
    "print(\"Train R^2: \", train_r2)\n",
    "print(\"Test R^2: \", test_r2)\n",
    "\n",
    "resids = y_train - y_pred_train\n",
    "rss = np.sum(resids**2)\n",
    "n = len(y_train)\n",
    "p = x_train.shape[1] + 1\n",
    "rse = np.sqrt(rss / (n - p))\n",
    "print(\"RSE: \", rse)"
   ]
  },
  {
   "cell_type": "markdown",
   "id": "e52e3655",
   "metadata": {},
   "source": [
    "### 5b)\n",
    "Which of the model outputs from **Question 4** cannot be reproduced using scikit-learn? Give two answers. **(2+2 points)** What does this tell about scikit-learn? **(2 points)**"
   ]
  },
  {
   "cell_type": "markdown",
   "id": "759dbe3c",
   "metadata": {},
   "source": [
    "The t-statistics and p-values can't be reproduced using scikit-learn. This tells us that scikit-learn may not be the best option for inference problems where we are trying to learn more about a relationship between variables in great detail."
   ]
  },
  {
   "cell_type": "markdown",
   "id": "28c213fd",
   "metadata": {},
   "source": [
    "## 6) Bonus Question (15 points)\n",
    "\n",
    "Please note that the bonus question requires you to look more into the usage of the tools we covered in class and it will be necessary to do your own research. We strongly suggest attempting it after you are done with the rest of the assignment. "
   ]
  },
  {
   "cell_type": "markdown",
   "id": "450a9c7f",
   "metadata": {},
   "source": [
    "### 6a)\n",
    "Fit a simple linear regression model to predict `Petrol_consumption` based on the predictor in **Question 4**, but **without an intercept term**. **(5 points - no partial credit)**\n",
    "\n",
    "Without an intercept means that the equation becomes $Y = \\beta_1X$. The intercept term, $\\beta_0$, becomes 0.\n",
    "\n",
    "**Note: You must answer this part correctly to qualify for the bonus points in the following parts.**"
   ]
  },
  {
   "cell_type": "code",
   "execution_count": 38,
   "id": "c1cff3b3",
   "metadata": {},
   "outputs": [
    {
     "name": "stdout",
     "output_type": "stream",
     "text": [
      "Coefficient:  1010.3503904411267\n"
     ]
    }
   ],
   "source": [
    "model_noint = sm.OLS(y_train, x_train).fit()\n",
    "print(\"Coefficient: \", model_noint.params[\"Prop_license\"])\n"
   ]
  },
  {
   "cell_type": "markdown",
   "id": "be041d59",
   "metadata": {},
   "source": [
    "### 6b) \n",
    "Predict the petrol consumption for the observations in **petrol_consumption_test.csv** using the model without an intercept and find the RMSE. **(1+2 points)** Then, print the summary and find the R-squared. **(2 points)**"
   ]
  },
  {
   "cell_type": "code",
   "execution_count": 39,
   "id": "e50f00e6",
   "metadata": {},
   "outputs": [
    {
     "name": "stdout",
     "output_type": "stream",
     "text": [
      "Test RMSE:  76.39874449255201\n"
     ]
    },
    {
     "data": {
      "text/html": [
       "<table class=\"simpletable\">\n",
       "<caption>OLS Regression Results</caption>\n",
       "<tr>\n",
       "  <th>Dep. Variable:</th>    <td>Petrol_consumption</td> <th>  R-squared (uncentered):</th>      <td>   0.979</td>\n",
       "</tr>\n",
       "<tr>\n",
       "  <th>Model:</th>                    <td>OLS</td>        <th>  Adj. R-squared (uncentered):</th> <td>   0.979</td>\n",
       "</tr>\n",
       "<tr>\n",
       "  <th>Method:</th>              <td>Least Squares</td>   <th>  F-statistic:       </th>          <td>   1853.</td>\n",
       "</tr>\n",
       "<tr>\n",
       "  <th>Date:</th>              <td>Mon, 20 Jan 2025</td>  <th>  Prob (F-statistic):</th>          <td>1.71e-34</td>\n",
       "</tr>\n",
       "<tr>\n",
       "  <th>Time:</th>                  <td>17:07:13</td>      <th>  Log-Likelihood:    </th>          <td> -233.64</td>\n",
       "</tr>\n",
       "<tr>\n",
       "  <th>No. Observations:</th>       <td>    40</td>       <th>  AIC:               </th>          <td>   469.3</td>\n",
       "</tr>\n",
       "<tr>\n",
       "  <th>Df Residuals:</th>           <td>    39</td>       <th>  BIC:               </th>          <td>   471.0</td>\n",
       "</tr>\n",
       "<tr>\n",
       "  <th>Df Model:</th>               <td>     1</td>       <th>                     </th>              <td> </td>   \n",
       "</tr>\n",
       "<tr>\n",
       "  <th>Covariance Type:</th>       <td>nonrobust</td>     <th>                     </th>              <td> </td>   \n",
       "</tr>\n",
       "</table>\n",
       "<table class=\"simpletable\">\n",
       "<tr>\n",
       "        <td></td>          <th>coef</th>     <th>std err</th>      <th>t</th>      <th>P>|t|</th>  <th>[0.025</th>    <th>0.975]</th>  \n",
       "</tr>\n",
       "<tr>\n",
       "  <th>Prop_license</th> <td> 1010.3504</td> <td>   23.469</td> <td>   43.051</td> <td> 0.000</td> <td>  962.880</td> <td> 1057.821</td>\n",
       "</tr>\n",
       "</table>\n",
       "<table class=\"simpletable\">\n",
       "<tr>\n",
       "  <th>Omnibus:</th>       <td>13.327</td> <th>  Durbin-Watson:     </th> <td>   0.991</td>\n",
       "</tr>\n",
       "<tr>\n",
       "  <th>Prob(Omnibus):</th> <td> 0.001</td> <th>  Jarque-Bera (JB):  </th> <td>  15.181</td>\n",
       "</tr>\n",
       "<tr>\n",
       "  <th>Skew:</th>          <td> 1.081</td> <th>  Prob(JB):          </th> <td>0.000505</td>\n",
       "</tr>\n",
       "<tr>\n",
       "  <th>Kurtosis:</th>      <td> 5.105</td> <th>  Cond. No.          </th> <td>    1.00</td>\n",
       "</tr>\n",
       "</table><br/><br/>Notes:<br/>[1] R² is computed without centering (uncentered) since the model does not contain a constant.<br/>[2] Standard Errors assume that the covariance matrix of the errors is correctly specified."
      ],
      "text/latex": [
       "\\begin{center}\n",
       "\\begin{tabular}{lclc}\n",
       "\\toprule\n",
       "\\textbf{Dep. Variable:}    & Petrol\\_consumption & \\textbf{  R-squared (uncentered):}      &     0.979   \\\\\n",
       "\\textbf{Model:}            &         OLS         & \\textbf{  Adj. R-squared (uncentered):} &     0.979   \\\\\n",
       "\\textbf{Method:}           &    Least Squares    & \\textbf{  F-statistic:       }          &     1853.   \\\\\n",
       "\\textbf{Date:}             &   Mon, 20 Jan 2025  & \\textbf{  Prob (F-statistic):}          &  1.71e-34   \\\\\n",
       "\\textbf{Time:}             &       17:07:13      & \\textbf{  Log-Likelihood:    }          &   -233.64   \\\\\n",
       "\\textbf{No. Observations:} &            40       & \\textbf{  AIC:               }          &     469.3   \\\\\n",
       "\\textbf{Df Residuals:}     &            39       & \\textbf{  BIC:               }          &     471.0   \\\\\n",
       "\\textbf{Df Model:}         &             1       & \\textbf{                     }          &             \\\\\n",
       "\\textbf{Covariance Type:}  &      nonrobust      & \\textbf{                     }          &             \\\\\n",
       "\\bottomrule\n",
       "\\end{tabular}\n",
       "\\begin{tabular}{lcccccc}\n",
       "                       & \\textbf{coef} & \\textbf{std err} & \\textbf{t} & \\textbf{P$> |$t$|$} & \\textbf{[0.025} & \\textbf{0.975]}  \\\\\n",
       "\\midrule\n",
       "\\textbf{Prop\\_license} &    1010.3504  &       23.469     &    43.051  &         0.000        &      962.880    &     1057.821     \\\\\n",
       "\\bottomrule\n",
       "\\end{tabular}\n",
       "\\begin{tabular}{lclc}\n",
       "\\textbf{Omnibus:}       & 13.327 & \\textbf{  Durbin-Watson:     } &    0.991  \\\\\n",
       "\\textbf{Prob(Omnibus):} &  0.001 & \\textbf{  Jarque-Bera (JB):  } &   15.181  \\\\\n",
       "\\textbf{Skew:}          &  1.081 & \\textbf{  Prob(JB):          } & 0.000505  \\\\\n",
       "\\textbf{Kurtosis:}      &  5.105 & \\textbf{  Cond. No.          } &     1.00  \\\\\n",
       "\\bottomrule\n",
       "\\end{tabular}\n",
       "%\\caption{OLS Regression Results}\n",
       "\\end{center}\n",
       "\n",
       "Notes: \\newline\n",
       " [1] R² is computed without centering (uncentered) since the model does not contain a constant. \\newline\n",
       " [2] Standard Errors assume that the covariance matrix of the errors is correctly specified."
      ],
      "text/plain": [
       "<class 'statsmodels.iolib.summary.Summary'>\n",
       "\"\"\"\n",
       "                                 OLS Regression Results                                \n",
       "=======================================================================================\n",
       "Dep. Variable:     Petrol_consumption   R-squared (uncentered):                   0.979\n",
       "Model:                            OLS   Adj. R-squared (uncentered):              0.979\n",
       "Method:                 Least Squares   F-statistic:                              1853.\n",
       "Date:                Mon, 20 Jan 2025   Prob (F-statistic):                    1.71e-34\n",
       "Time:                        17:07:13   Log-Likelihood:                         -233.64\n",
       "No. Observations:                  40   AIC:                                      469.3\n",
       "Df Residuals:                      39   BIC:                                      471.0\n",
       "Df Model:                           1                                                  \n",
       "Covariance Type:            nonrobust                                                  \n",
       "================================================================================\n",
       "                   coef    std err          t      P>|t|      [0.025      0.975]\n",
       "--------------------------------------------------------------------------------\n",
       "Prop_license  1010.3504     23.469     43.051      0.000     962.880    1057.821\n",
       "==============================================================================\n",
       "Omnibus:                       13.327   Durbin-Watson:                   0.991\n",
       "Prob(Omnibus):                  0.001   Jarque-Bera (JB):               15.181\n",
       "Skew:                           1.081   Prob(JB):                     0.000505\n",
       "Kurtosis:                       5.105   Cond. No.                         1.00\n",
       "==============================================================================\n",
       "\n",
       "Notes:\n",
       "[1] R² is computed without centering (uncentered) since the model does not contain a constant.\n",
       "[2] Standard Errors assume that the covariance matrix of the errors is correctly specified.\n",
       "\"\"\""
      ]
     },
     "execution_count": 39,
     "metadata": {},
     "output_type": "execute_result"
    }
   ],
   "source": [
    "y_pred_noint = model_noint.predict(x_test)\n",
    "test_rmse_noint = np.sqrt(np.mean((y_pred_noint - y_test)**2))\n",
    "print(\"Test RMSE: \", test_rmse_noint)\n",
    "\n",
    "model_noint.summary()"
   ]
  },
  {
   "cell_type": "code",
   "execution_count": 40,
   "id": "39974db6",
   "metadata": {},
   "outputs": [
    {
     "data": {
      "text/plain": [
       "np.float64(0.9793909012306616)"
      ]
     },
     "execution_count": 40,
     "metadata": {},
     "output_type": "execute_result"
    }
   ],
   "source": [
    "model_noint.rsquared"
   ]
  },
  {
   "cell_type": "markdown",
   "id": "461fac34",
   "metadata": {},
   "source": [
    "### 6c)\n",
    "The RMSE for the models with and without the intercept are similar, which indicates that both models are almost equally good. However, the R-squared for the model without intercept is much higher than the R-squared for the model with the intercept. Why? Justify your answer. **(5 points - no partial credit)**"
   ]
  },
  {
   "cell_type": "markdown",
   "id": "d9466e2b",
   "metadata": {},
   "source": [
    "According to Note 1 of the summary table, the R^2 value for the model without an intercept was calculated without centering the y-values about the mean. Instead, the total sum of squares is calculated as the sum of all of the squares of the y values. When a model has an intercept, the TSS is calculated as the sum of the squares of the difference between each y value and y bar. The difference between each y value and y bar (y_i - y bar) will usually be smaller than y_i so the TSS is much larger without an intercept. Thus, because $R^2 = 1 - (RSS/TSS)$, the $R^2$ value is much higher when the model doesn't have an intercept."
   ]
  }
 ],
 "metadata": {
  "kernelspec": {
   "display_name": ".venv",
   "language": "python",
   "name": "python3"
  },
  "language_info": {
   "codemirror_mode": {
    "name": "ipython",
    "version": 3
   },
   "file_extension": ".py",
   "mimetype": "text/x-python",
   "name": "python",
   "nbconvert_exporter": "python",
   "pygments_lexer": "ipython3",
   "version": "3.12.1"
  }
 },
 "nbformat": 4,
 "nbformat_minor": 5
}
