{
 "cells": [
  {
   "cell_type": "raw",
   "id": "2d08f12d",
   "metadata": {},
   "source": [
    "---\n",
    "title: \"Assignment 2\"\n",
    "format: \n",
    "  html:\n",
    "    toc: true\n",
    "    toc-title: Contents\n",
    "    toc-depth: 4\n",
    "    code-fold: show\n",
    "    self-contained: true\n",
    "    number-sections: false\n",
    "jupyter: python3\n",
    "---"
   ]
  },
  {
   "cell_type": "markdown",
   "id": "6efe6ec7",
   "metadata": {},
   "source": [
    "## Instructions {-}\n",
    "\n",
    "1. You may talk to a friend, discuss the questions and potential directions for solving them. However, you need to write your own solutions and code separately, and not as a group activity. \n",
    "\n",
    "2. Write your code in the **Code cells** and your answers in the **Markdown cells** of the Jupyter notebook. Ensure that the solution is written neatly enough to for the graders to understand and follow.\n",
    "\n",
    "3. Use [Quarto](https://quarto.org/docs/output-formats/html-basics.html) to render the **.ipynb** file as HTML. You will need to open the command prompt, navigate to the directory containing the file, and use the command: `quarto render filename.ipynb --to html`. Submit the HTML file.\n",
    "\n",
    "4. The assignment is worth 100 points, and is due on **Sunday, 4th February 2024 at 11:59 pm**. \n",
    "\n",
    "\n",
    "5. **Five points are properly formatting the assignment**. The breakdown is as follows:\n",
    "    - Must be an HTML file rendered using Quarto **(1 point)**. *If you have a Quarto issue, you must mention the issue & quote the error you get when rendering using Quarto in the comments section of Canvas, and submit the ipynb file.* \n",
    "    - No name can be written on the assignment, nor can there be any indicator of the student’s identity—e.g. printouts of the working directory should not be included in the final submission.  **(1 point)**\n",
    "    - There aren’t excessively long outputs of extraneous information (e.g. no printouts of entire data frames without good reason, there aren’t long printouts of which iteration a loop is on, there aren’t long sections of commented-out code, etc.) **(1 point)**\n",
    "    - Final answers to each question are written in the Markdown cells. **(1 point)**\n",
    "    - There is no piece of unnecessary / redundant code, and no unnecessary / redundant text. **(1 point)**\n",
    "\n",
    "6.  The maximum possible score in the assigment is 105 + 5 (proper formatting) = 110 out of 100."
   ]
  },
  {
   "cell_type": "code",
   "execution_count": 1,
   "id": "22089f3f",
   "metadata": {},
   "outputs": [],
   "source": [
    "import numpy as np\n",
    "import pandas as pd\n",
    "import statsmodels.api as sm\n",
    "import statsmodels.formula.api as smf\n",
    "import matplotlib.pyplot as plt\n",
    "import seaborn as sns\n",
    "from sklearn.linear_model import LinearRegression\n",
    "from sklearn.metrics import mean_squared_error, mean_absolute_error, r2_score"
   ]
  },
  {
   "cell_type": "markdown",
   "id": "93d691ac",
   "metadata": {},
   "source": [
    "## 1) Multiple Linear Regression (24 points)"
   ]
  },
  {
   "cell_type": "markdown",
   "id": "76ef6e03",
   "metadata": {},
   "source": [
    "A study was conducted on 97 male patients with prostate cancer who were due to receive a radical prostatectomy (complete removal of the prostate). The **prostate.csv** file contains data on 9 measurements taken from these 97 patients. Each row (observation) represents a patient and each column (variable) represents a measurement. The description of variables can be found here: https://rafalab.github.io/pages/649/prostate.html"
   ]
  },
  {
   "cell_type": "markdown",
   "id": "659b081f",
   "metadata": {},
   "source": [
    "### 1a) \n",
    "Fit a linear regression model with `lpsa` as the response and all the other variables as the predictors. Print its summary. **(2 points)** Write down the **optimal equation** that predicts `lpsa` using the predictors. **(2 points)**"
   ]
  },
  {
   "cell_type": "code",
   "execution_count": 54,
   "id": "f6d1597f",
   "metadata": {},
   "outputs": [
    {
     "data": {
      "text/html": [
       "<table class=\"simpletable\">\n",
       "<caption>OLS Regression Results</caption>\n",
       "<tr>\n",
       "  <th>Dep. Variable:</th>          <td>lpsa</td>       <th>  R-squared:         </th> <td>   0.655</td>\n",
       "</tr>\n",
       "<tr>\n",
       "  <th>Model:</th>                   <td>OLS</td>       <th>  Adj. R-squared:    </th> <td>   0.623</td>\n",
       "</tr>\n",
       "<tr>\n",
       "  <th>Method:</th>             <td>Least Squares</td>  <th>  F-statistic:       </th> <td>   20.86</td>\n",
       "</tr>\n",
       "<tr>\n",
       "  <th>Date:</th>             <td>Wed, 29 Jan 2025</td> <th>  Prob (F-statistic):</th> <td>2.24e-17</td>\n",
       "</tr>\n",
       "<tr>\n",
       "  <th>Time:</th>                 <td>20:00:16</td>     <th>  Log-Likelihood:    </th> <td> -99.476</td>\n",
       "</tr>\n",
       "<tr>\n",
       "  <th>No. Observations:</th>      <td>    97</td>      <th>  AIC:               </th> <td>   217.0</td>\n",
       "</tr>\n",
       "<tr>\n",
       "  <th>Df Residuals:</th>          <td>    88</td>      <th>  BIC:               </th> <td>   240.1</td>\n",
       "</tr>\n",
       "<tr>\n",
       "  <th>Df Model:</th>              <td>     8</td>      <th>                     </th>     <td> </td>   \n",
       "</tr>\n",
       "<tr>\n",
       "  <th>Covariance Type:</th>      <td>nonrobust</td>    <th>                     </th>     <td> </td>   \n",
       "</tr>\n",
       "</table>\n",
       "<table class=\"simpletable\">\n",
       "<tr>\n",
       "      <td></td>         <th>coef</th>     <th>std err</th>      <th>t</th>      <th>P>|t|</th>  <th>[0.025</th>    <th>0.975]</th>  \n",
       "</tr>\n",
       "<tr>\n",
       "  <th>Intercept</th> <td>    0.6693</td> <td>    1.296</td> <td>    0.516</td> <td> 0.607</td> <td>   -1.907</td> <td>    3.246</td>\n",
       "</tr>\n",
       "<tr>\n",
       "  <th>lcavol</th>    <td>    0.5870</td> <td>    0.088</td> <td>    6.677</td> <td> 0.000</td> <td>    0.412</td> <td>    0.762</td>\n",
       "</tr>\n",
       "<tr>\n",
       "  <th>lweight</th>   <td>    0.4545</td> <td>    0.170</td> <td>    2.673</td> <td> 0.009</td> <td>    0.117</td> <td>    0.792</td>\n",
       "</tr>\n",
       "<tr>\n",
       "  <th>age</th>       <td>   -0.0196</td> <td>    0.011</td> <td>   -1.758</td> <td> 0.082</td> <td>   -0.042</td> <td>    0.003</td>\n",
       "</tr>\n",
       "<tr>\n",
       "  <th>lbph</th>      <td>    0.1071</td> <td>    0.058</td> <td>    1.832</td> <td> 0.070</td> <td>   -0.009</td> <td>    0.223</td>\n",
       "</tr>\n",
       "<tr>\n",
       "  <th>svi</th>       <td>    0.7662</td> <td>    0.244</td> <td>    3.136</td> <td> 0.002</td> <td>    0.281</td> <td>    1.252</td>\n",
       "</tr>\n",
       "<tr>\n",
       "  <th>lcp</th>       <td>   -0.1055</td> <td>    0.091</td> <td>   -1.159</td> <td> 0.250</td> <td>   -0.286</td> <td>    0.075</td>\n",
       "</tr>\n",
       "<tr>\n",
       "  <th>gleason</th>   <td>    0.0451</td> <td>    0.157</td> <td>    0.287</td> <td> 0.775</td> <td>   -0.268</td> <td>    0.358</td>\n",
       "</tr>\n",
       "<tr>\n",
       "  <th>pgg45</th>     <td>    0.0045</td> <td>    0.004</td> <td>    1.024</td> <td> 0.309</td> <td>   -0.004</td> <td>    0.013</td>\n",
       "</tr>\n",
       "</table>\n",
       "<table class=\"simpletable\">\n",
       "<tr>\n",
       "  <th>Omnibus:</th>       <td> 0.235</td> <th>  Durbin-Watson:     </th> <td>   1.507</td>\n",
       "</tr>\n",
       "<tr>\n",
       "  <th>Prob(Omnibus):</th> <td> 0.889</td> <th>  Jarque-Bera (JB):  </th> <td>   0.026</td>\n",
       "</tr>\n",
       "<tr>\n",
       "  <th>Skew:</th>          <td>-0.017</td> <th>  Prob(JB):          </th> <td>   0.987</td>\n",
       "</tr>\n",
       "<tr>\n",
       "  <th>Kurtosis:</th>      <td> 3.073</td> <th>  Cond. No.          </th> <td>1.28e+03</td>\n",
       "</tr>\n",
       "</table><br/><br/>Notes:<br/>[1] Standard Errors assume that the covariance matrix of the errors is correctly specified.<br/>[2] The condition number is large, 1.28e+03. This might indicate that there are<br/>strong multicollinearity or other numerical problems."
      ],
      "text/latex": [
       "\\begin{center}\n",
       "\\begin{tabular}{lclc}\n",
       "\\toprule\n",
       "\\textbf{Dep. Variable:}    &       lpsa       & \\textbf{  R-squared:         } &     0.655   \\\\\n",
       "\\textbf{Model:}            &       OLS        & \\textbf{  Adj. R-squared:    } &     0.623   \\\\\n",
       "\\textbf{Method:}           &  Least Squares   & \\textbf{  F-statistic:       } &     20.86   \\\\\n",
       "\\textbf{Date:}             & Wed, 29 Jan 2025 & \\textbf{  Prob (F-statistic):} &  2.24e-17   \\\\\n",
       "\\textbf{Time:}             &     20:00:16     & \\textbf{  Log-Likelihood:    } &   -99.476   \\\\\n",
       "\\textbf{No. Observations:} &          97      & \\textbf{  AIC:               } &     217.0   \\\\\n",
       "\\textbf{Df Residuals:}     &          88      & \\textbf{  BIC:               } &     240.1   \\\\\n",
       "\\textbf{Df Model:}         &           8      & \\textbf{                     } &             \\\\\n",
       "\\textbf{Covariance Type:}  &    nonrobust     & \\textbf{                     } &             \\\\\n",
       "\\bottomrule\n",
       "\\end{tabular}\n",
       "\\begin{tabular}{lcccccc}\n",
       "                   & \\textbf{coef} & \\textbf{std err} & \\textbf{t} & \\textbf{P$> |$t$|$} & \\textbf{[0.025} & \\textbf{0.975]}  \\\\\n",
       "\\midrule\n",
       "\\textbf{Intercept} &       0.6693  &        1.296     &     0.516  &         0.607        &       -1.907    &        3.246     \\\\\n",
       "\\textbf{lcavol}    &       0.5870  &        0.088     &     6.677  &         0.000        &        0.412    &        0.762     \\\\\n",
       "\\textbf{lweight}   &       0.4545  &        0.170     &     2.673  &         0.009        &        0.117    &        0.792     \\\\\n",
       "\\textbf{age}       &      -0.0196  &        0.011     &    -1.758  &         0.082        &       -0.042    &        0.003     \\\\\n",
       "\\textbf{lbph}      &       0.1071  &        0.058     &     1.832  &         0.070        &       -0.009    &        0.223     \\\\\n",
       "\\textbf{svi}       &       0.7662  &        0.244     &     3.136  &         0.002        &        0.281    &        1.252     \\\\\n",
       "\\textbf{lcp}       &      -0.1055  &        0.091     &    -1.159  &         0.250        &       -0.286    &        0.075     \\\\\n",
       "\\textbf{gleason}   &       0.0451  &        0.157     &     0.287  &         0.775        &       -0.268    &        0.358     \\\\\n",
       "\\textbf{pgg45}     &       0.0045  &        0.004     &     1.024  &         0.309        &       -0.004    &        0.013     \\\\\n",
       "\\bottomrule\n",
       "\\end{tabular}\n",
       "\\begin{tabular}{lclc}\n",
       "\\textbf{Omnibus:}       &  0.235 & \\textbf{  Durbin-Watson:     } &    1.507  \\\\\n",
       "\\textbf{Prob(Omnibus):} &  0.889 & \\textbf{  Jarque-Bera (JB):  } &    0.026  \\\\\n",
       "\\textbf{Skew:}          & -0.017 & \\textbf{  Prob(JB):          } &    0.987  \\\\\n",
       "\\textbf{Kurtosis:}      &  3.073 & \\textbf{  Cond. No.          } & 1.28e+03  \\\\\n",
       "\\bottomrule\n",
       "\\end{tabular}\n",
       "%\\caption{OLS Regression Results}\n",
       "\\end{center}\n",
       "\n",
       "Notes: \\newline\n",
       " [1] Standard Errors assume that the covariance matrix of the errors is correctly specified. \\newline\n",
       " [2] The condition number is large, 1.28e+03. This might indicate that there are \\newline\n",
       " strong multicollinearity or other numerical problems."
      ],
      "text/plain": [
       "<class 'statsmodels.iolib.summary.Summary'>\n",
       "\"\"\"\n",
       "                            OLS Regression Results                            \n",
       "==============================================================================\n",
       "Dep. Variable:                   lpsa   R-squared:                       0.655\n",
       "Model:                            OLS   Adj. R-squared:                  0.623\n",
       "Method:                 Least Squares   F-statistic:                     20.86\n",
       "Date:                Wed, 29 Jan 2025   Prob (F-statistic):           2.24e-17\n",
       "Time:                        20:00:16   Log-Likelihood:                -99.476\n",
       "No. Observations:                  97   AIC:                             217.0\n",
       "Df Residuals:                      88   BIC:                             240.1\n",
       "Df Model:                           8                                         \n",
       "Covariance Type:            nonrobust                                         \n",
       "==============================================================================\n",
       "                 coef    std err          t      P>|t|      [0.025      0.975]\n",
       "------------------------------------------------------------------------------\n",
       "Intercept      0.6693      1.296      0.516      0.607      -1.907       3.246\n",
       "lcavol         0.5870      0.088      6.677      0.000       0.412       0.762\n",
       "lweight        0.4545      0.170      2.673      0.009       0.117       0.792\n",
       "age           -0.0196      0.011     -1.758      0.082      -0.042       0.003\n",
       "lbph           0.1071      0.058      1.832      0.070      -0.009       0.223\n",
       "svi            0.7662      0.244      3.136      0.002       0.281       1.252\n",
       "lcp           -0.1055      0.091     -1.159      0.250      -0.286       0.075\n",
       "gleason        0.0451      0.157      0.287      0.775      -0.268       0.358\n",
       "pgg45          0.0045      0.004      1.024      0.309      -0.004       0.013\n",
       "==============================================================================\n",
       "Omnibus:                        0.235   Durbin-Watson:                   1.507\n",
       "Prob(Omnibus):                  0.889   Jarque-Bera (JB):                0.026\n",
       "Skew:                          -0.017   Prob(JB):                        0.987\n",
       "Kurtosis:                       3.073   Cond. No.                     1.28e+03\n",
       "==============================================================================\n",
       "\n",
       "Notes:\n",
       "[1] Standard Errors assume that the covariance matrix of the errors is correctly specified.\n",
       "[2] The condition number is large, 1.28e+03. This might indicate that there are\n",
       "strong multicollinearity or other numerical problems.\n",
       "\"\"\""
      ]
     },
     "execution_count": 54,
     "metadata": {},
     "output_type": "execute_result"
    }
   ],
   "source": [
    "prostate_data = pd.read_csv(\"/Users/vaibhavrangan/Downloads/Stat_303-2/Datasets/prostate.csv\")\n",
    "\n",
    "model_prostate = smf.ols('lpsa ~ lcavol + lweight + age + lbph + svi + lcp + gleason + pgg45', data = prostate_data).fit()\n",
    "model_prostate.summary()"
   ]
  },
  {
   "cell_type": "markdown",
   "id": "180bdab5",
   "metadata": {},
   "source": [
    "lpsa = 0.6693 + 0.5870*lcavol + 0.4545*lweight - 0.0196*age + 0.1071*lbph + 0.7662*svi - 0.1055*lcp + 0.0451*gleason + 0.0045*pgg45"
   ]
  },
  {
   "cell_type": "markdown",
   "id": "22f8a862",
   "metadata": {},
   "source": [
    "### 1b) \n",
    "Is the **overall regression** statistically significant? In other words, is there a statistically significant relationship between the response and at least one predictor? **You need to justify your answer for credit. (2 points)**"
   ]
  },
  {
   "cell_type": "markdown",
   "id": "ecde3241",
   "metadata": {},
   "source": [
    "Yes, the overall regression is statistically significant because the p-value of the F-statistic (2.24e-17) is less than 0.05. "
   ]
  },
  {
   "cell_type": "markdown",
   "id": "c3ed81e7",
   "metadata": {},
   "source": [
    "### 1c) \n",
    "What does the optimal coefficient of `svi` tell us as a numeric output? Make sure you include the predictor, (`svi`) the response (`lpsa`) and the other predictors in your answer. **(2 points)**"
   ]
  },
  {
   "cell_type": "markdown",
   "id": "b6a08669",
   "metadata": {},
   "source": [
    "The optimal coefficient of svi represents the effect of svi on lpsa, controlling for the other predictors. Holding all other predictors constant, a 1 unit increase in svi increases lpsa by 0.7662 units."
   ]
  },
  {
   "cell_type": "markdown",
   "id": "d6078275",
   "metadata": {},
   "source": [
    "### 1d) \n",
    "Check the $p$-values of `gleason` and `age`. Are these predictors statistically significant? **You need to justify your answer for credit. (2 points)**"
   ]
  },
  {
   "cell_type": "markdown",
   "id": "5f7682e4",
   "metadata": {},
   "source": [
    "No, neither predictor is statistically significant because both p-values are greater than 0.05."
   ]
  },
  {
   "cell_type": "markdown",
   "id": "6ead16d0",
   "metadata": {},
   "source": [
    "### 1e)\n",
    "Check the 95% Confidence Interval of `age`. How can you relate it to its p-value and statistical significance, which you found in the previous part? **(2 points)**"
   ]
  },
  {
   "cell_type": "markdown",
   "id": "a1fb6d07",
   "metadata": {},
   "source": [
    "The 95% confidence interval of age includes 0, implying that it is not statistically significant because the null hypothesis of the coefficient of age being 0 is within the 95% confidence interval. This results in a p-value greater than 0.05, which is what we observe."
   ]
  },
  {
   "cell_type": "markdown",
   "id": "94a09a29",
   "metadata": {},
   "source": [
    "### 1f) \n",
    "This question requires some thinking, and bringing your 303-1 and 303-2 knowledge together.  \n",
    "\n",
    "Fit a **simple** linear regression model on `lpsa` against `gleason` and check the $p$-value of `gleason` using the summary. **(2 point)** Did the statistical significance of `gleason` change in the absence of other predictors? **(1 point)** Why or why not? **(3 points)**\n",
    "\n",
    "**Hints:**\n",
    "\n",
    "1) You need to compare this model with the Multiple Linear Regression model you created above.\n",
    "2) Printing a correlation matrix of all the predictors should be useful."
   ]
  },
  {
   "cell_type": "code",
   "execution_count": 55,
   "id": "2d3664ce",
   "metadata": {},
   "outputs": [
    {
     "data": {
      "text/html": [
       "<table class=\"simpletable\">\n",
       "<caption>OLS Regression Results</caption>\n",
       "<tr>\n",
       "  <th>Dep. Variable:</th>          <td>lpsa</td>       <th>  R-squared:         </th> <td>   0.136</td>\n",
       "</tr>\n",
       "<tr>\n",
       "  <th>Model:</th>                   <td>OLS</td>       <th>  Adj. R-squared:    </th> <td>   0.127</td>\n",
       "</tr>\n",
       "<tr>\n",
       "  <th>Method:</th>             <td>Least Squares</td>  <th>  F-statistic:       </th> <td>   14.97</td>\n",
       "</tr>\n",
       "<tr>\n",
       "  <th>Date:</th>             <td>Wed, 29 Jan 2025</td> <th>  Prob (F-statistic):</th> <td>0.000200</td>\n",
       "</tr>\n",
       "<tr>\n",
       "  <th>Time:</th>                 <td>20:03:04</td>     <th>  Log-Likelihood:    </th> <td> -143.96</td>\n",
       "</tr>\n",
       "<tr>\n",
       "  <th>No. Observations:</th>      <td>    97</td>      <th>  AIC:               </th> <td>   291.9</td>\n",
       "</tr>\n",
       "<tr>\n",
       "  <th>Df Residuals:</th>          <td>    95</td>      <th>  BIC:               </th> <td>   297.1</td>\n",
       "</tr>\n",
       "<tr>\n",
       "  <th>Df Model:</th>              <td>     1</td>      <th>                     </th>     <td> </td>   \n",
       "</tr>\n",
       "<tr>\n",
       "  <th>Covariance Type:</th>      <td>nonrobust</td>    <th>                     </th>     <td> </td>   \n",
       "</tr>\n",
       "</table>\n",
       "<table class=\"simpletable\">\n",
       "<tr>\n",
       "      <td></td>         <th>coef</th>     <th>std err</th>      <th>t</th>      <th>P>|t|</th>  <th>[0.025</th>    <th>0.975]</th>  \n",
       "</tr>\n",
       "<tr>\n",
       "  <th>Intercept</th> <td>   -1.5044</td> <td>    1.035</td> <td>   -1.453</td> <td> 0.149</td> <td>   -3.559</td> <td>    0.550</td>\n",
       "</tr>\n",
       "<tr>\n",
       "  <th>gleason</th>   <td>    0.5898</td> <td>    0.152</td> <td>    3.869</td> <td> 0.000</td> <td>    0.287</td> <td>    0.892</td>\n",
       "</tr>\n",
       "</table>\n",
       "<table class=\"simpletable\">\n",
       "<tr>\n",
       "  <th>Omnibus:</th>       <td> 2.099</td> <th>  Durbin-Watson:     </th> <td>   0.245</td>\n",
       "</tr>\n",
       "<tr>\n",
       "  <th>Prob(Omnibus):</th> <td> 0.350</td> <th>  Jarque-Bera (JB):  </th> <td>   1.526</td>\n",
       "</tr>\n",
       "<tr>\n",
       "  <th>Skew:</th>          <td> 0.178</td> <th>  Prob(JB):          </th> <td>   0.466</td>\n",
       "</tr>\n",
       "<tr>\n",
       "  <th>Kurtosis:</th>      <td> 3.501</td> <th>  Cond. No.          </th> <td>    65.6</td>\n",
       "</tr>\n",
       "</table><br/><br/>Notes:<br/>[1] Standard Errors assume that the covariance matrix of the errors is correctly specified."
      ],
      "text/latex": [
       "\\begin{center}\n",
       "\\begin{tabular}{lclc}\n",
       "\\toprule\n",
       "\\textbf{Dep. Variable:}    &       lpsa       & \\textbf{  R-squared:         } &     0.136   \\\\\n",
       "\\textbf{Model:}            &       OLS        & \\textbf{  Adj. R-squared:    } &     0.127   \\\\\n",
       "\\textbf{Method:}           &  Least Squares   & \\textbf{  F-statistic:       } &     14.97   \\\\\n",
       "\\textbf{Date:}             & Wed, 29 Jan 2025 & \\textbf{  Prob (F-statistic):} &  0.000200   \\\\\n",
       "\\textbf{Time:}             &     20:03:04     & \\textbf{  Log-Likelihood:    } &   -143.96   \\\\\n",
       "\\textbf{No. Observations:} &          97      & \\textbf{  AIC:               } &     291.9   \\\\\n",
       "\\textbf{Df Residuals:}     &          95      & \\textbf{  BIC:               } &     297.1   \\\\\n",
       "\\textbf{Df Model:}         &           1      & \\textbf{                     } &             \\\\\n",
       "\\textbf{Covariance Type:}  &    nonrobust     & \\textbf{                     } &             \\\\\n",
       "\\bottomrule\n",
       "\\end{tabular}\n",
       "\\begin{tabular}{lcccccc}\n",
       "                   & \\textbf{coef} & \\textbf{std err} & \\textbf{t} & \\textbf{P$> |$t$|$} & \\textbf{[0.025} & \\textbf{0.975]}  \\\\\n",
       "\\midrule\n",
       "\\textbf{Intercept} &      -1.5044  &        1.035     &    -1.453  &         0.149        &       -3.559    &        0.550     \\\\\n",
       "\\textbf{gleason}   &       0.5898  &        0.152     &     3.869  &         0.000        &        0.287    &        0.892     \\\\\n",
       "\\bottomrule\n",
       "\\end{tabular}\n",
       "\\begin{tabular}{lclc}\n",
       "\\textbf{Omnibus:}       &  2.099 & \\textbf{  Durbin-Watson:     } &    0.245  \\\\\n",
       "\\textbf{Prob(Omnibus):} &  0.350 & \\textbf{  Jarque-Bera (JB):  } &    1.526  \\\\\n",
       "\\textbf{Skew:}          &  0.178 & \\textbf{  Prob(JB):          } &    0.466  \\\\\n",
       "\\textbf{Kurtosis:}      &  3.501 & \\textbf{  Cond. No.          } &     65.6  \\\\\n",
       "\\bottomrule\n",
       "\\end{tabular}\n",
       "%\\caption{OLS Regression Results}\n",
       "\\end{center}\n",
       "\n",
       "Notes: \\newline\n",
       " [1] Standard Errors assume that the covariance matrix of the errors is correctly specified."
      ],
      "text/plain": [
       "<class 'statsmodels.iolib.summary.Summary'>\n",
       "\"\"\"\n",
       "                            OLS Regression Results                            \n",
       "==============================================================================\n",
       "Dep. Variable:                   lpsa   R-squared:                       0.136\n",
       "Model:                            OLS   Adj. R-squared:                  0.127\n",
       "Method:                 Least Squares   F-statistic:                     14.97\n",
       "Date:                Wed, 29 Jan 2025   Prob (F-statistic):           0.000200\n",
       "Time:                        20:03:04   Log-Likelihood:                -143.96\n",
       "No. Observations:                  97   AIC:                             291.9\n",
       "Df Residuals:                      95   BIC:                             297.1\n",
       "Df Model:                           1                                         \n",
       "Covariance Type:            nonrobust                                         \n",
       "==============================================================================\n",
       "                 coef    std err          t      P>|t|      [0.025      0.975]\n",
       "------------------------------------------------------------------------------\n",
       "Intercept     -1.5044      1.035     -1.453      0.149      -3.559       0.550\n",
       "gleason        0.5898      0.152      3.869      0.000       0.287       0.892\n",
       "==============================================================================\n",
       "Omnibus:                        2.099   Durbin-Watson:                   0.245\n",
       "Prob(Omnibus):                  0.350   Jarque-Bera (JB):                1.526\n",
       "Skew:                           0.178   Prob(JB):                        0.466\n",
       "Kurtosis:                       3.501   Cond. No.                         65.6\n",
       "==============================================================================\n",
       "\n",
       "Notes:\n",
       "[1] Standard Errors assume that the covariance matrix of the errors is correctly specified.\n",
       "\"\"\""
      ]
     },
     "execution_count": 55,
     "metadata": {},
     "output_type": "execute_result"
    }
   ],
   "source": [
    "model_gleason = smf.ols('lpsa ~ gleason', data = prostate_data).fit()\n",
    "model_gleason.summary()"
   ]
  },
  {
   "cell_type": "markdown",
   "id": "3f757c2e",
   "metadata": {},
   "source": [
    "The p-value of gleason is 0.0000, which is less than 0.05, indicating that gleason is statistically significant. This is a change from the multiple linear regression model, where gleason was not statistically significant. This is most likely due to the fact that gleason is correlated with other variables that are statistically significant in affecting lpsa."
   ]
  },
  {
   "cell_type": "code",
   "execution_count": 58,
   "id": "9cad5abd",
   "metadata": {},
   "outputs": [
    {
     "data": {
      "text/html": [
       "<div>\n",
       "<style scoped>\n",
       "    .dataframe tbody tr th:only-of-type {\n",
       "        vertical-align: middle;\n",
       "    }\n",
       "\n",
       "    .dataframe tbody tr th {\n",
       "        vertical-align: top;\n",
       "    }\n",
       "\n",
       "    .dataframe thead th {\n",
       "        text-align: right;\n",
       "    }\n",
       "</style>\n",
       "<table border=\"1\" class=\"dataframe\">\n",
       "  <thead>\n",
       "    <tr style=\"text-align: right;\">\n",
       "      <th></th>\n",
       "      <th>lcavol</th>\n",
       "      <th>lweight</th>\n",
       "      <th>age</th>\n",
       "      <th>lbph</th>\n",
       "      <th>svi</th>\n",
       "      <th>lcp</th>\n",
       "      <th>gleason</th>\n",
       "      <th>pgg45</th>\n",
       "      <th>lpsa</th>\n",
       "    </tr>\n",
       "  </thead>\n",
       "  <tbody>\n",
       "    <tr>\n",
       "      <th>lcavol</th>\n",
       "      <td>1.000000</td>\n",
       "      <td>0.194128</td>\n",
       "      <td>0.225000</td>\n",
       "      <td>0.027350</td>\n",
       "      <td>0.538845</td>\n",
       "      <td>0.675311</td>\n",
       "      <td>0.432417</td>\n",
       "      <td>0.433652</td>\n",
       "      <td>0.734460</td>\n",
       "    </tr>\n",
       "    <tr>\n",
       "      <th>lweight</th>\n",
       "      <td>0.194128</td>\n",
       "      <td>1.000000</td>\n",
       "      <td>0.307525</td>\n",
       "      <td>0.434932</td>\n",
       "      <td>0.108778</td>\n",
       "      <td>0.100239</td>\n",
       "      <td>-0.001283</td>\n",
       "      <td>0.050846</td>\n",
       "      <td>0.354122</td>\n",
       "    </tr>\n",
       "    <tr>\n",
       "      <th>age</th>\n",
       "      <td>0.225000</td>\n",
       "      <td>0.307525</td>\n",
       "      <td>1.000000</td>\n",
       "      <td>0.350186</td>\n",
       "      <td>0.117658</td>\n",
       "      <td>0.127668</td>\n",
       "      <td>0.268892</td>\n",
       "      <td>0.276112</td>\n",
       "      <td>0.169593</td>\n",
       "    </tr>\n",
       "    <tr>\n",
       "      <th>lbph</th>\n",
       "      <td>0.027350</td>\n",
       "      <td>0.434932</td>\n",
       "      <td>0.350186</td>\n",
       "      <td>1.000000</td>\n",
       "      <td>-0.085843</td>\n",
       "      <td>-0.006999</td>\n",
       "      <td>0.077820</td>\n",
       "      <td>0.078460</td>\n",
       "      <td>0.179810</td>\n",
       "    </tr>\n",
       "    <tr>\n",
       "      <th>svi</th>\n",
       "      <td>0.538845</td>\n",
       "      <td>0.108778</td>\n",
       "      <td>0.117658</td>\n",
       "      <td>-0.085843</td>\n",
       "      <td>1.000000</td>\n",
       "      <td>0.673111</td>\n",
       "      <td>0.320412</td>\n",
       "      <td>0.457648</td>\n",
       "      <td>0.566218</td>\n",
       "    </tr>\n",
       "    <tr>\n",
       "      <th>lcp</th>\n",
       "      <td>0.675311</td>\n",
       "      <td>0.100239</td>\n",
       "      <td>0.127668</td>\n",
       "      <td>-0.006999</td>\n",
       "      <td>0.673111</td>\n",
       "      <td>1.000000</td>\n",
       "      <td>0.514830</td>\n",
       "      <td>0.631528</td>\n",
       "      <td>0.548813</td>\n",
       "    </tr>\n",
       "    <tr>\n",
       "      <th>gleason</th>\n",
       "      <td>0.432417</td>\n",
       "      <td>-0.001283</td>\n",
       "      <td>0.268892</td>\n",
       "      <td>0.077820</td>\n",
       "      <td>0.320412</td>\n",
       "      <td>0.514830</td>\n",
       "      <td>1.000000</td>\n",
       "      <td>0.751905</td>\n",
       "      <td>0.368987</td>\n",
       "    </tr>\n",
       "    <tr>\n",
       "      <th>pgg45</th>\n",
       "      <td>0.433652</td>\n",
       "      <td>0.050846</td>\n",
       "      <td>0.276112</td>\n",
       "      <td>0.078460</td>\n",
       "      <td>0.457648</td>\n",
       "      <td>0.631528</td>\n",
       "      <td>0.751905</td>\n",
       "      <td>1.000000</td>\n",
       "      <td>0.422316</td>\n",
       "    </tr>\n",
       "    <tr>\n",
       "      <th>lpsa</th>\n",
       "      <td>0.734460</td>\n",
       "      <td>0.354122</td>\n",
       "      <td>0.169593</td>\n",
       "      <td>0.179810</td>\n",
       "      <td>0.566218</td>\n",
       "      <td>0.548813</td>\n",
       "      <td>0.368987</td>\n",
       "      <td>0.422316</td>\n",
       "      <td>1.000000</td>\n",
       "    </tr>\n",
       "  </tbody>\n",
       "</table>\n",
       "</div>"
      ],
      "text/plain": [
       "           lcavol   lweight       age      lbph       svi       lcp   gleason  \\\n",
       "lcavol   1.000000  0.194128  0.225000  0.027350  0.538845  0.675311  0.432417   \n",
       "lweight  0.194128  1.000000  0.307525  0.434932  0.108778  0.100239 -0.001283   \n",
       "age      0.225000  0.307525  1.000000  0.350186  0.117658  0.127668  0.268892   \n",
       "lbph     0.027350  0.434932  0.350186  1.000000 -0.085843 -0.006999  0.077820   \n",
       "svi      0.538845  0.108778  0.117658 -0.085843  1.000000  0.673111  0.320412   \n",
       "lcp      0.675311  0.100239  0.127668 -0.006999  0.673111  1.000000  0.514830   \n",
       "gleason  0.432417 -0.001283  0.268892  0.077820  0.320412  0.514830  1.000000   \n",
       "pgg45    0.433652  0.050846  0.276112  0.078460  0.457648  0.631528  0.751905   \n",
       "lpsa     0.734460  0.354122  0.169593  0.179810  0.566218  0.548813  0.368987   \n",
       "\n",
       "            pgg45      lpsa  \n",
       "lcavol   0.433652  0.734460  \n",
       "lweight  0.050846  0.354122  \n",
       "age      0.276112  0.169593  \n",
       "lbph     0.078460  0.179810  \n",
       "svi      0.457648  0.566218  \n",
       "lcp      0.631528  0.548813  \n",
       "gleason  0.751905  0.368987  \n",
       "pgg45    1.000000  0.422316  \n",
       "lpsa     0.422316  1.000000  "
      ]
     },
     "execution_count": 58,
     "metadata": {},
     "output_type": "execute_result"
    }
   ],
   "source": [
    "# correlation matrix between gleason and other predictors\n",
    "prostate_data.corr()"
   ]
  },
  {
   "cell_type": "markdown",
   "id": "33959e37",
   "metadata": {},
   "source": [
    "As we can observe from the correlation matrix, gleason is correlated with svi and lcavol, which are both statistically significant. The correlation between gleason and two statistically significant predictors explains why gleason is not statistically significant in the multiple linear regression model but is significant in the simple linear regression model."
   ]
  },
  {
   "cell_type": "markdown",
   "id": "44711ae8",
   "metadata": {},
   "source": [
    "### 1g) \n",
    "Predict the `lpsa` of a **65 year old** man with `lcavol` = 1.35, `lweight` = 3.65, `lbph` = 0.1, `svi` = 0.22, `lcp` = -0.18, `gleason` = 6.75, and `pgg45` = 25. Find the 95% confidence and prediction intervals as well. **(2 points)**"
   ]
  },
  {
   "cell_type": "code",
   "execution_count": 57,
   "id": "20bbc212",
   "metadata": {},
   "outputs": [
    {
     "name": "stdout",
     "output_type": "stream",
     "text": [
      "2.46028780190132\n",
      "2.3151126235425927 2.6054629802600475\n",
      "1.0449953936887166 3.875580210113924\n"
     ]
    }
   ],
   "source": [
    "lpsa_pred = model_prostate.get_prediction({\n",
    "    'lcavol': 1.35,\n",
    "    'lweight': 3.65,\n",
    "    'age': 65,\n",
    "    'lbph': 0.1,\n",
    "    'svi': 0.22,\n",
    "    'lcp': -0.18,\n",
    "    'gleason': 6.75,\n",
    "    'pgg45': 25\n",
    "})\n",
    "\n",
    "print(lpsa_pred.summary_frame()[\"mean\"][0])\n",
    "print(lpsa_pred.summary_frame()[\"mean_ci_lower\"][0], lpsa_pred.summary_frame()[\"mean_ci_upper\"][0])\n",
    "print(lpsa_pred.summary_frame()[\"obs_ci_lower\"][0], lpsa_pred.summary_frame()[\"obs_ci_upper\"][0])"
   ]
  },
  {
   "cell_type": "markdown",
   "id": "5b35da18",
   "metadata": {},
   "source": [
    "### 1h) \n",
    "In the Multiple Linear Regression model with all the predictors, you should see a total of five predictors that appear to be statistically insignificant. Why is it not a good idea to directly conclude that all of them are statistically insignificant? **(2 points)** Implement the additional test that concludes the statistical insignificance of all five predictors. **(2 points)**\n",
    "\n",
    "**Hint:** `f_test()` method"
   ]
  },
  {
   "cell_type": "markdown",
   "id": "65c22598",
   "metadata": {},
   "source": [
    "It's not a good idea to directly conclude that all 5 are statistically insignificant because some of the predictors might be correlated with one another (which some are), artificially inflating standard errors and p-values."
   ]
  },
  {
   "cell_type": "code",
   "execution_count": 60,
   "id": "ec43e874",
   "metadata": {},
   "outputs": [
    {
     "name": "stdout",
     "output_type": "stream",
     "text": [
      "<F test: F=1.443386923695784, p=0.21673336075540298, df_denom=88, df_num=5>\n"
     ]
    }
   ],
   "source": [
    "hypothesis = \"(age = 0, lbph = 0, lcp = 0, gleason = 0, pgg45 = 0)\"\n",
    "f_test = model_prostate.f_test(hypothesis)\n",
    "print(f_test)"
   ]
  },
  {
   "cell_type": "markdown",
   "id": "4c5e3809",
   "metadata": {},
   "source": [
    "The p-value of the f-test (0.218) is greater than 0.05, indicating that all 5 predictors are statistically insignificant."
   ]
  },
  {
   "cell_type": "markdown",
   "id": "4393cced-a26a-47a9-a23d-cba029eeaf27",
   "metadata": {},
   "source": [
    "## 2) Multiple Linear Regression with Variable Transformations (22 points)\n",
    "\n",
    "The **infmort.csv** file has the infant mortality data of different countries in the world. The `mortality` column represents the infant mortality rate with \"deaths per 1000 infants\" as the unit. The `income` column represents the per capita income in USD. The other columns should be self-explanatory. (This is an old dataset, as can be seen from some country names.)"
   ]
  },
  {
   "cell_type": "code",
   "execution_count": 6,
   "id": "c1bd369c",
   "metadata": {},
   "outputs": [],
   "source": [
    "infmort_data = pd.read_csv(\"/Users/vaibhavrangan/Downloads/Stat_303-2/Datasets/infmort.csv\")\n"
   ]
  },
  {
   "cell_type": "markdown",
   "id": "ed4d2211",
   "metadata": {},
   "source": [
    "### 2a) \n",
    "Start your analysis by creating (i) a boxplot of log(`mortality`) for each `region` and (ii) a boxplot of `income` for each `region`. Note that the `region` column has the continent names. **(3 points)**\n",
    "\n",
    "**Note:** You need to use np.log, which is the natural log. This is to better distinguish the mortality values."
   ]
  },
  {
   "cell_type": "code",
   "execution_count": 7,
   "id": "f1464fbf",
   "metadata": {},
   "outputs": [
    {
     "data": {
      "image/png": "[encoded data removed]",
      "text/plain": [
       "<Figure size 640x480 with 1 Axes>"
      ]
     },
     "metadata": {},
     "output_type": "display_data"
    }
   ],
   "source": [
    "infmort_data['log_mortality'] = np.log(infmort_data['mortality'])\n",
    "sns.boxplot(x=\"region\", y=\"log_mortality\", data=infmort_data);\n"
   ]
  },
  {
   "cell_type": "code",
   "execution_count": 8,
   "id": "95c55730",
   "metadata": {},
   "outputs": [
    {
     "data": {
      "image/png": "[encoded data removed]",
      "text/plain": [
       "<Figure size 640x480 with 1 Axes>"
      ]
     },
     "metadata": {},
     "output_type": "display_data"
    }
   ],
   "source": [
    "sns.boxplot(x=\"region\", y = \"income\", data = infmort_data);\n"
   ]
  },
  {
   "cell_type": "markdown",
   "id": "9d4aa9e8",
   "metadata": {},
   "source": [
    "### 2b) \n",
    "In the previous part, you should see that Europe has the lowest infant mortality rate on average, but it also has the highest per capita income on average. Our goal is to see if Europe still has the lowest mortality rate if we remove the effect of income. We will try to find an answer for the rest of this question.\n",
    "\n",
    "Create four scatter plots: (i) `mortality` against `income`, (ii) log(`mortality`) against `income`, (iii) `mortality` against log(`income`), and (iv) log(`mortality`) against log(`income`). **(3 points)** Based on the plots, create an appropriate model to predict the mortality rate as a function of per capita income. Print the model summary. **(2 points)**"
   ]
  },
  {
   "cell_type": "code",
   "execution_count": 9,
   "id": "d46f5246",
   "metadata": {},
   "outputs": [
    {
     "data": {
      "image/png": "[encoded data removed]",
      "text/plain": [
       "<Figure size 640x480 with 1 Axes>"
      ]
     },
     "metadata": {},
     "output_type": "display_data"
    }
   ],
   "source": [
    "# mortality against income scatterplot\n",
    "sns.scatterplot(x = \"income\", y = \"mortality\", data = infmort_data);"
   ]
  },
  {
   "cell_type": "code",
   "execution_count": 10,
   "id": "d2c1e925",
   "metadata": {},
   "outputs": [
    {
     "data": {
      "image/png": "[encoded data removed]",
      "text/plain": [
       "<Figure size 640x480 with 1 Axes>"
      ]
     },
     "metadata": {},
     "output_type": "display_data"
    }
   ],
   "source": [
    "sns.scatterplot(x = \"income\", y = \"log_mortality\", data = infmort_data);"
   ]
  },
  {
   "cell_type": "code",
   "execution_count": 11,
   "id": "e5e5c4e6",
   "metadata": {},
   "outputs": [],
   "source": [
    "infmort_data['log_income'] = np.log(infmort_data['income'])"
   ]
  },
  {
   "cell_type": "code",
   "execution_count": 12,
   "id": "fbb5c1d7",
   "metadata": {},
   "outputs": [
    {
     "data": {
      "image/png": "[encoded data removed]",
      "text/plain": [
       "<Figure size 640x480 with 1 Axes>"
      ]
     },
     "metadata": {},
     "output_type": "display_data"
    }
   ],
   "source": [
    "sns.scatterplot(x = \"log_income\", y = \"mortality\", data = infmort_data);"
   ]
  },
  {
   "cell_type": "code",
   "execution_count": 13,
   "id": "6c74ec1a",
   "metadata": {},
   "outputs": [
    {
     "data": {
      "image/png": "[encoded data removed]",
      "text/plain": [
       "<Figure size 640x480 with 1 Axes>"
      ]
     },
     "metadata": {},
     "output_type": "display_data"
    }
   ],
   "source": [
    "sns.scatterplot(x = \"log_income\", y = \"log_mortality\", data = infmort_data);"
   ]
  },
  {
   "cell_type": "code",
   "execution_count": 14,
   "id": "c6862b3a",
   "metadata": {},
   "outputs": [
    {
     "data": {
      "text/html": [
       "<table class=\"simpletable\">\n",
       "<caption>OLS Regression Results</caption>\n",
       "<tr>\n",
       "  <th>Dep. Variable:</th>      <td>log_mortality</td>  <th>  R-squared:         </th> <td>   0.502</td>\n",
       "</tr>\n",
       "<tr>\n",
       "  <th>Model:</th>                   <td>OLS</td>       <th>  Adj. R-squared:    </th> <td>   0.497</td>\n",
       "</tr>\n",
       "<tr>\n",
       "  <th>Method:</th>             <td>Least Squares</td>  <th>  F-statistic:       </th> <td>   99.84</td>\n",
       "</tr>\n",
       "<tr>\n",
       "  <th>Date:</th>             <td>Wed, 29 Jan 2025</td> <th>  Prob (F-statistic):</th> <td>1.14e-16</td>\n",
       "</tr>\n",
       "<tr>\n",
       "  <th>Time:</th>                 <td>16:55:11</td>     <th>  Log-Likelihood:    </th> <td> -104.34</td>\n",
       "</tr>\n",
       "<tr>\n",
       "  <th>No. Observations:</th>      <td>   101</td>      <th>  AIC:               </th> <td>   212.7</td>\n",
       "</tr>\n",
       "<tr>\n",
       "  <th>Df Residuals:</th>          <td>    99</td>      <th>  BIC:               </th> <td>   217.9</td>\n",
       "</tr>\n",
       "<tr>\n",
       "  <th>Df Model:</th>              <td>     1</td>      <th>                     </th>     <td> </td>   \n",
       "</tr>\n",
       "<tr>\n",
       "  <th>Covariance Type:</th>      <td>nonrobust</td>    <th>                     </th>     <td> </td>   \n",
       "</tr>\n",
       "</table>\n",
       "<table class=\"simpletable\">\n",
       "<tr>\n",
       "       <td></td>         <th>coef</th>     <th>std err</th>      <th>t</th>      <th>P>|t|</th>  <th>[0.025</th>    <th>0.975]</th>  \n",
       "</tr>\n",
       "<tr>\n",
       "  <th>Intercept</th>  <td>    7.1458</td> <td>    0.317</td> <td>   22.575</td> <td> 0.000</td> <td>    6.518</td> <td>    7.774</td>\n",
       "</tr>\n",
       "<tr>\n",
       "  <th>log_income</th> <td>   -0.5118</td> <td>    0.051</td> <td>   -9.992</td> <td> 0.000</td> <td>   -0.613</td> <td>   -0.410</td>\n",
       "</tr>\n",
       "</table>\n",
       "<table class=\"simpletable\">\n",
       "<tr>\n",
       "  <th>Omnibus:</th>       <td>38.668</td> <th>  Durbin-Watson:     </th> <td>   1.898</td>\n",
       "</tr>\n",
       "<tr>\n",
       "  <th>Prob(Omnibus):</th> <td> 0.000</td> <th>  Jarque-Bera (JB):  </th> <td> 129.408</td>\n",
       "</tr>\n",
       "<tr>\n",
       "  <th>Skew:</th>          <td> 1.255</td> <th>  Prob(JB):          </th> <td>7.93e-29</td>\n",
       "</tr>\n",
       "<tr>\n",
       "  <th>Kurtosis:</th>      <td> 7.945</td> <th>  Cond. No.          </th> <td>    29.3</td>\n",
       "</tr>\n",
       "</table><br/><br/>Notes:<br/>[1] Standard Errors assume that the covariance matrix of the errors is correctly specified."
      ],
      "text/latex": [
       "\\begin{center}\n",
       "\\begin{tabular}{lclc}\n",
       "\\toprule\n",
       "\\textbf{Dep. Variable:}    &  log\\_mortality  & \\textbf{  R-squared:         } &     0.502   \\\\\n",
       "\\textbf{Model:}            &       OLS        & \\textbf{  Adj. R-squared:    } &     0.497   \\\\\n",
       "\\textbf{Method:}           &  Least Squares   & \\textbf{  F-statistic:       } &     99.84   \\\\\n",
       "\\textbf{Date:}             & Wed, 29 Jan 2025 & \\textbf{  Prob (F-statistic):} &  1.14e-16   \\\\\n",
       "\\textbf{Time:}             &     16:55:11     & \\textbf{  Log-Likelihood:    } &   -104.34   \\\\\n",
       "\\textbf{No. Observations:} &         101      & \\textbf{  AIC:               } &     212.7   \\\\\n",
       "\\textbf{Df Residuals:}     &          99      & \\textbf{  BIC:               } &     217.9   \\\\\n",
       "\\textbf{Df Model:}         &           1      & \\textbf{                     } &             \\\\\n",
       "\\textbf{Covariance Type:}  &    nonrobust     & \\textbf{                     } &             \\\\\n",
       "\\bottomrule\n",
       "\\end{tabular}\n",
       "\\begin{tabular}{lcccccc}\n",
       "                     & \\textbf{coef} & \\textbf{std err} & \\textbf{t} & \\textbf{P$> |$t$|$} & \\textbf{[0.025} & \\textbf{0.975]}  \\\\\n",
       "\\midrule\n",
       "\\textbf{Intercept}   &       7.1458  &        0.317     &    22.575  &         0.000        &        6.518    &        7.774     \\\\\n",
       "\\textbf{log\\_income} &      -0.5118  &        0.051     &    -9.992  &         0.000        &       -0.613    &       -0.410     \\\\\n",
       "\\bottomrule\n",
       "\\end{tabular}\n",
       "\\begin{tabular}{lclc}\n",
       "\\textbf{Omnibus:}       & 38.668 & \\textbf{  Durbin-Watson:     } &    1.898  \\\\\n",
       "\\textbf{Prob(Omnibus):} &  0.000 & \\textbf{  Jarque-Bera (JB):  } &  129.408  \\\\\n",
       "\\textbf{Skew:}          &  1.255 & \\textbf{  Prob(JB):          } & 7.93e-29  \\\\\n",
       "\\textbf{Kurtosis:}      &  7.945 & \\textbf{  Cond. No.          } &     29.3  \\\\\n",
       "\\bottomrule\n",
       "\\end{tabular}\n",
       "%\\caption{OLS Regression Results}\n",
       "\\end{center}\n",
       "\n",
       "Notes: \\newline\n",
       " [1] Standard Errors assume that the covariance matrix of the errors is correctly specified."
      ],
      "text/plain": [
       "<class 'statsmodels.iolib.summary.Summary'>\n",
       "\"\"\"\n",
       "                            OLS Regression Results                            \n",
       "==============================================================================\n",
       "Dep. Variable:          log_mortality   R-squared:                       0.502\n",
       "Model:                            OLS   Adj. R-squared:                  0.497\n",
       "Method:                 Least Squares   F-statistic:                     99.84\n",
       "Date:                Wed, 29 Jan 2025   Prob (F-statistic):           1.14e-16\n",
       "Time:                        16:55:11   Log-Likelihood:                -104.34\n",
       "No. Observations:                 101   AIC:                             212.7\n",
       "Df Residuals:                      99   BIC:                             217.9\n",
       "Df Model:                           1                                         \n",
       "Covariance Type:            nonrobust                                         \n",
       "==============================================================================\n",
       "                 coef    std err          t      P>|t|      [0.025      0.975]\n",
       "------------------------------------------------------------------------------\n",
       "Intercept      7.1458      0.317     22.575      0.000       6.518       7.774\n",
       "log_income    -0.5118      0.051     -9.992      0.000      -0.613      -0.410\n",
       "==============================================================================\n",
       "Omnibus:                       38.668   Durbin-Watson:                   1.898\n",
       "Prob(Omnibus):                  0.000   Jarque-Bera (JB):              129.408\n",
       "Skew:                           1.255   Prob(JB):                     7.93e-29\n",
       "Kurtosis:                       7.945   Cond. No.                         29.3\n",
       "==============================================================================\n",
       "\n",
       "Notes:\n",
       "[1] Standard Errors assume that the covariance matrix of the errors is correctly specified.\n",
       "\"\"\""
      ]
     },
     "execution_count": 14,
     "metadata": {},
     "output_type": "execute_result"
    }
   ],
   "source": [
    "inc_mort_model = smf.ols('log_mortality ~ log_income', data = infmort_data).fit()\n",
    "inc_mort_model.summary()"
   ]
  },
  {
   "cell_type": "markdown",
   "id": "bd66954e",
   "metadata": {},
   "source": [
    "### 2c) \n",
    "Update the model you created in the previous part by adding `region` as a predictor. Print the model summary. **(2 points)**"
   ]
  },
  {
   "cell_type": "code",
   "execution_count": 15,
   "id": "ceff7836",
   "metadata": {},
   "outputs": [
    {
     "data": {
      "text/html": [
       "<table class=\"simpletable\">\n",
       "<caption>OLS Regression Results</caption>\n",
       "<tr>\n",
       "  <th>Dep. Variable:</th>      <td>log_mortality</td>  <th>  R-squared:         </th> <td>   0.616</td>\n",
       "</tr>\n",
       "<tr>\n",
       "  <th>Model:</th>                   <td>OLS</td>       <th>  Adj. R-squared:    </th> <td>   0.600</td>\n",
       "</tr>\n",
       "<tr>\n",
       "  <th>Method:</th>             <td>Least Squares</td>  <th>  F-statistic:       </th> <td>   38.55</td>\n",
       "</tr>\n",
       "<tr>\n",
       "  <th>Date:</th>             <td>Wed, 29 Jan 2025</td> <th>  Prob (F-statistic):</th> <td>3.29e-19</td>\n",
       "</tr>\n",
       "<tr>\n",
       "  <th>Time:</th>                 <td>16:55:11</td>     <th>  Log-Likelihood:    </th> <td> -91.189</td>\n",
       "</tr>\n",
       "<tr>\n",
       "  <th>No. Observations:</th>      <td>   101</td>      <th>  AIC:               </th> <td>   192.4</td>\n",
       "</tr>\n",
       "<tr>\n",
       "  <th>Df Residuals:</th>          <td>    96</td>      <th>  BIC:               </th> <td>   205.5</td>\n",
       "</tr>\n",
       "<tr>\n",
       "  <th>Df Model:</th>              <td>     4</td>      <th>                     </th>     <td> </td>   \n",
       "</tr>\n",
       "<tr>\n",
       "  <th>Covariance Type:</th>      <td>nonrobust</td>    <th>                     </th>     <td> </td>   \n",
       "</tr>\n",
       "</table>\n",
       "<table class=\"simpletable\">\n",
       "<tr>\n",
       "            <td></td>               <th>coef</th>     <th>std err</th>      <th>t</th>      <th>P>|t|</th>  <th>[0.025</th>    <th>0.975]</th>  \n",
       "</tr>\n",
       "<tr>\n",
       "  <th>Intercept</th>             <td>    6.4030</td> <td>    0.358</td> <td>   17.871</td> <td> 0.000</td> <td>    5.692</td> <td>    7.114</td>\n",
       "</tr>\n",
       "<tr>\n",
       "  <th>C(region)[T.Americas]</th> <td>   -0.6022</td> <td>    0.190</td> <td>   -3.166</td> <td> 0.002</td> <td>   -0.980</td> <td>   -0.225</td>\n",
       "</tr>\n",
       "<tr>\n",
       "  <th>C(region)[T.Asia]</th>     <td>   -0.7233</td> <td>    0.163</td> <td>   -4.431</td> <td> 0.000</td> <td>   -1.047</td> <td>   -0.399</td>\n",
       "</tr>\n",
       "<tr>\n",
       "  <th>C(region)[T.Europe]</th>   <td>   -1.2028</td> <td>    0.259</td> <td>   -4.647</td> <td> 0.000</td> <td>   -1.717</td> <td>   -0.689</td>\n",
       "</tr>\n",
       "<tr>\n",
       "  <th>log_income</th>            <td>   -0.2994</td> <td>    0.067</td> <td>   -4.441</td> <td> 0.000</td> <td>   -0.433</td> <td>   -0.166</td>\n",
       "</tr>\n",
       "</table>\n",
       "<table class=\"simpletable\">\n",
       "<tr>\n",
       "  <th>Omnibus:</th>       <td>44.959</td> <th>  Durbin-Watson:     </th> <td>   1.847</td>\n",
       "</tr>\n",
       "<tr>\n",
       "  <th>Prob(Omnibus):</th> <td> 0.000</td> <th>  Jarque-Bera (JB):  </th> <td> 174.758</td>\n",
       "</tr>\n",
       "<tr>\n",
       "  <th>Skew:</th>          <td> 1.428</td> <th>  Prob(JB):          </th> <td>1.13e-38</td>\n",
       "</tr>\n",
       "<tr>\n",
       "  <th>Kurtosis:</th>      <td> 8.777</td> <th>  Cond. No.          </th> <td>    42.8</td>\n",
       "</tr>\n",
       "</table><br/><br/>Notes:<br/>[1] Standard Errors assume that the covariance matrix of the errors is correctly specified."
      ],
      "text/latex": [
       "\\begin{center}\n",
       "\\begin{tabular}{lclc}\n",
       "\\toprule\n",
       "\\textbf{Dep. Variable:}        &  log\\_mortality  & \\textbf{  R-squared:         } &     0.616   \\\\\n",
       "\\textbf{Model:}                &       OLS        & \\textbf{  Adj. R-squared:    } &     0.600   \\\\\n",
       "\\textbf{Method:}               &  Least Squares   & \\textbf{  F-statistic:       } &     38.55   \\\\\n",
       "\\textbf{Date:}                 & Wed, 29 Jan 2025 & \\textbf{  Prob (F-statistic):} &  3.29e-19   \\\\\n",
       "\\textbf{Time:}                 &     16:55:11     & \\textbf{  Log-Likelihood:    } &   -91.189   \\\\\n",
       "\\textbf{No. Observations:}     &         101      & \\textbf{  AIC:               } &     192.4   \\\\\n",
       "\\textbf{Df Residuals:}         &          96      & \\textbf{  BIC:               } &     205.5   \\\\\n",
       "\\textbf{Df Model:}             &           4      & \\textbf{                     } &             \\\\\n",
       "\\textbf{Covariance Type:}      &    nonrobust     & \\textbf{                     } &             \\\\\n",
       "\\bottomrule\n",
       "\\end{tabular}\n",
       "\\begin{tabular}{lcccccc}\n",
       "                               & \\textbf{coef} & \\textbf{std err} & \\textbf{t} & \\textbf{P$> |$t$|$} & \\textbf{[0.025} & \\textbf{0.975]}  \\\\\n",
       "\\midrule\n",
       "\\textbf{Intercept}             &       6.4030  &        0.358     &    17.871  &         0.000        &        5.692    &        7.114     \\\\\n",
       "\\textbf{C(region)[T.Americas]} &      -0.6022  &        0.190     &    -3.166  &         0.002        &       -0.980    &       -0.225     \\\\\n",
       "\\textbf{C(region)[T.Asia]}     &      -0.7233  &        0.163     &    -4.431  &         0.000        &       -1.047    &       -0.399     \\\\\n",
       "\\textbf{C(region)[T.Europe]}   &      -1.2028  &        0.259     &    -4.647  &         0.000        &       -1.717    &       -0.689     \\\\\n",
       "\\textbf{log\\_income}           &      -0.2994  &        0.067     &    -4.441  &         0.000        &       -0.433    &       -0.166     \\\\\n",
       "\\bottomrule\n",
       "\\end{tabular}\n",
       "\\begin{tabular}{lclc}\n",
       "\\textbf{Omnibus:}       & 44.959 & \\textbf{  Durbin-Watson:     } &    1.847  \\\\\n",
       "\\textbf{Prob(Omnibus):} &  0.000 & \\textbf{  Jarque-Bera (JB):  } &  174.758  \\\\\n",
       "\\textbf{Skew:}          &  1.428 & \\textbf{  Prob(JB):          } & 1.13e-38  \\\\\n",
       "\\textbf{Kurtosis:}      &  8.777 & \\textbf{  Cond. No.          } &     42.8  \\\\\n",
       "\\bottomrule\n",
       "\\end{tabular}\n",
       "%\\caption{OLS Regression Results}\n",
       "\\end{center}\n",
       "\n",
       "Notes: \\newline\n",
       " [1] Standard Errors assume that the covariance matrix of the errors is correctly specified."
      ],
      "text/plain": [
       "<class 'statsmodels.iolib.summary.Summary'>\n",
       "\"\"\"\n",
       "                            OLS Regression Results                            \n",
       "==============================================================================\n",
       "Dep. Variable:          log_mortality   R-squared:                       0.616\n",
       "Model:                            OLS   Adj. R-squared:                  0.600\n",
       "Method:                 Least Squares   F-statistic:                     38.55\n",
       "Date:                Wed, 29 Jan 2025   Prob (F-statistic):           3.29e-19\n",
       "Time:                        16:55:11   Log-Likelihood:                -91.189\n",
       "No. Observations:                 101   AIC:                             192.4\n",
       "Df Residuals:                      96   BIC:                             205.5\n",
       "Df Model:                           4                                         \n",
       "Covariance Type:            nonrobust                                         \n",
       "=========================================================================================\n",
       "                            coef    std err          t      P>|t|      [0.025      0.975]\n",
       "-----------------------------------------------------------------------------------------\n",
       "Intercept                 6.4030      0.358     17.871      0.000       5.692       7.114\n",
       "C(region)[T.Americas]    -0.6022      0.190     -3.166      0.002      -0.980      -0.225\n",
       "C(region)[T.Asia]        -0.7233      0.163     -4.431      0.000      -1.047      -0.399\n",
       "C(region)[T.Europe]      -1.2028      0.259     -4.647      0.000      -1.717      -0.689\n",
       "log_income               -0.2994      0.067     -4.441      0.000      -0.433      -0.166\n",
       "==============================================================================\n",
       "Omnibus:                       44.959   Durbin-Watson:                   1.847\n",
       "Prob(Omnibus):                  0.000   Jarque-Bera (JB):              174.758\n",
       "Skew:                           1.428   Prob(JB):                     1.13e-38\n",
       "Kurtosis:                       8.777   Cond. No.                         42.8\n",
       "==============================================================================\n",
       "\n",
       "Notes:\n",
       "[1] Standard Errors assume that the covariance matrix of the errors is correctly specified.\n",
       "\"\"\""
      ]
     },
     "execution_count": 15,
     "metadata": {},
     "output_type": "execute_result"
    }
   ],
   "source": [
    "region_inc_mort_model = smf.ols('log_mortality ~ log_income+C(region)', data = infmort_data).fit()\n",
    "region_inc_mort_model.summary()"
   ]
  },
  {
   "cell_type": "markdown",
   "id": "1044acb2",
   "metadata": {},
   "source": [
    "### 2d) \n",
    "Use the model developed in the previous part to compute a new `adjusted_mortality` variable for each observation in the data. **(5 points)** Adjusted mortality rate is the mortality rate after removing the estimated effect of income. You need to calculate it with the following steps:\n",
    "\n",
    "- Multiply the (transformed) income column with its optimal coefficient. This is the estimated effect of income.\n",
    "- Subtract the product from the (transformed) response column. This removes the estimated effect of income.\n",
    "- You may need to do a inverse transformation to calculate the actual adjusted mortality rate values.\n",
    "\n",
    "Make a boxplot of log(`adjusted_mortality`) for each `region`. **(2 points)**"
   ]
  },
  {
   "cell_type": "code",
   "execution_count": 16,
   "id": "73ae71e7",
   "metadata": {},
   "outputs": [
    {
     "data": {
      "image/png": "[encoded data removed]",
      "text/plain": [
       "<Figure size 640x480 with 1 Axes>"
      ]
     },
     "metadata": {},
     "output_type": "display_data"
    }
   ],
   "source": [
    "coefficients = region_inc_mort_model.params\n",
    "infmort_data[\"adjusted_mortality\"] = np.exp(infmort_data[\"log_mortality\"] - infmort_data[\"log_income\"]*coefficients[\"log_income\"])\n",
    "\n",
    "sns.boxplot(x = \"region\", y = \"adjusted_mortality\", data = infmort_data);"
   ]
  },
  {
   "cell_type": "markdown",
   "id": "625e8845",
   "metadata": {},
   "source": [
    "### 2e) \n",
    "Using the plots in parts **a** and **d**, answer the following questions: \n",
    "\n",
    "(i) Does Europe still have the lowest mortality rate on average after removing the effect of income? \n",
    "\n",
    "(ii) How did the distribution of values among different continents change after removing the effect of income? How did the comparison of different continents change? Does any non-European country have a lower mortality rate than all the European countries after removing the effect of income?\n",
    "\n",
    "**(5 points)**"
   ]
  },
  {
   "cell_type": "markdown",
   "id": "4a0e3351",
   "metadata": {},
   "source": [
    "Yes, Europe still has the lowest average mortality rate after removing the effect of income. However, there is at least an Asian nation with a lower mortality rate than all the European countries after removing the effect of income. The relative rankings of the continents are mostly unchanged, except for the Americas having a slightly higher mortality rate than Asia after removing the effect of income."
   ]
  },
  {
   "cell_type": "markdown",
   "id": "efce62bb",
   "metadata": {},
   "source": [
    "## 3) Variable Transformations and Interactions (38 points)"
   ]
  },
  {
   "cell_type": "markdown",
   "id": "b2bf78af",
   "metadata": {},
   "source": [
    "The **soc_ind.csv** dataset contains many social indicators of a number of countries. Each row is a country and each column is a social indicator. The column names should be clear on what the variables represent. The GDP per capita will be the response variable throughout this question."
   ]
  },
  {
   "cell_type": "code",
   "execution_count": 31,
   "id": "20ec9e71",
   "metadata": {},
   "outputs": [],
   "source": [
    "socind_data = pd.read_csv(\"/Users/vaibhavrangan/Downloads/Stat_303-2/Datasets/soc_ind.csv\")"
   ]
  },
  {
   "cell_type": "markdown",
   "id": "5b1e102b",
   "metadata": {},
   "source": [
    "### 3a) \n",
    "Using correlations, find out the most useful predictor for a simple linear regression model with `gdpPerCapita` as the response. You can ignore categorical variables for now. Let that predictor be $P$. **(2 points)**"
   ]
  },
  {
   "cell_type": "code",
   "execution_count": 18,
   "id": "eb7a119c",
   "metadata": {},
   "outputs": [
    {
     "name": "stdout",
     "output_type": "stream",
     "text": [
      "lifeFemale\n"
     ]
    }
   ],
   "source": [
    "corr_matrix = socind_data.select_dtypes(include=['number']).corr()\n",
    "gdp_corr = corr_matrix[\"gdpPerCapita\"].drop(\"gdpPerCapita\")\n",
    "p = gdp_corr.idxmax()\n",
    "print(p)"
   ]
  },
  {
   "cell_type": "markdown",
   "id": "788c19e9",
   "metadata": {},
   "source": [
    "### 3b) \n",
    "Create a scatterplot of `gdpPerCapita` vs $P$. Does the relationship between `gdpPerCapita` and $P$ seem linear or non-linear? **(2 points)**"
   ]
  },
  {
   "cell_type": "code",
   "execution_count": 19,
   "id": "e409acc3",
   "metadata": {},
   "outputs": [
    {
     "data": {
      "image/png": "[encoded data removed]",
      "text/plain": [
       "<Figure size 640x480 with 1 Axes>"
      ]
     },
     "metadata": {},
     "output_type": "display_data"
    }
   ],
   "source": [
    "sns.scatterplot(x = p, y = \"gdpPerCapita\", data = socind_data);"
   ]
  },
  {
   "cell_type": "markdown",
   "id": "fb26425e",
   "metadata": {},
   "source": [
    "Data appears nonlinear"
   ]
  },
  {
   "cell_type": "markdown",
   "id": "697731a7",
   "metadata": {},
   "source": [
    "### 3c) \n",
    "If the relationship in the previous part is non-linear, create three models: \n",
    "\n",
    "- Only with $P$\n",
    "- With $P$ and its quadratic term\n",
    "- With $P$, its quadratic term and its cubic term\n",
    "\n",
    "**(2x3 = 6 points)**\n",
    "\n",
    "Compare the $R$-squared values of the models. **(2 points)**"
   ]
  },
  {
   "cell_type": "code",
   "execution_count": 20,
   "id": "84595cb9",
   "metadata": {},
   "outputs": [
    {
     "name": "stdout",
     "output_type": "stream",
     "text": [
      "0.3648504777962376\n",
      "0.4962409765820259\n",
      "0.5216581673999947\n"
     ]
    }
   ],
   "source": [
    "only_p = smf.ols('gdpPerCapita ~ lifeFemale', data = socind_data).fit()\n",
    "print(only_p.rsquared)\n",
    "\n",
    "quad_p = smf.ols('gdpPerCapita ~ lifeFemale + I(lifeFemale**2)', data=socind_data).fit()\n",
    "print(quad_p.rsquared)\n",
    "\n",
    "cubic_p = smf.ols('gdpPerCapita ~  lifeFemale + I(lifeFemale**2) + I(lifeFemale**3)', data=socind_data).fit()\n",
    "print(cubic_p.rsquared)"
   ]
  },
  {
   "cell_type": "markdown",
   "id": "6ac457cf",
   "metadata": {},
   "source": [
    "### 3d) \n",
    "On the same figure:\n",
    "\n",
    "- create the scatterplot in part b.\n",
    "- plot the linear regression line (only using $P$)\n",
    "- plot the polynomial regression curve that includes the quadratic and cubic terms.\n",
    "- add a legend to distinguish the linear and cubic fits.\n",
    "\n",
    "**(6 points)**"
   ]
  },
  {
   "cell_type": "code",
   "execution_count": 21,
   "id": "d03fd396",
   "metadata": {},
   "outputs": [
    {
     "data": {
      "text/plain": [
       "<matplotlib.legend.Legend at 0x139956a50>"
      ]
     },
     "execution_count": 21,
     "metadata": {},
     "output_type": "execute_result"
    },
    {
     "data": {
      "image/png": "[encoded data removed]",
      "text/plain": [
       "<Figure size 640x480 with 1 Axes>"
      ]
     },
     "metadata": {},
     "output_type": "display_data"
    }
   ],
   "source": [
    "y_pred_linear = only_p.predict(socind_data)\n",
    "y_pred_quad = quad_p.predict(socind_data)\n",
    "y_pred_cubic = cubic_p.predict(socind_data)\n",
    "\n",
    "sns.scatterplot(x = p, y = \"gdpPerCapita\", data = socind_data);\n",
    "sns.lineplot(x = socind_data[p], y = y_pred_linear, color = \"orange\", label = \"linear\")\n",
    "sns.lineplot(x = socind_data[p], y = y_pred_quad, color = \"blue\", label = \"quadratic\")\n",
    "sns.lineplot(x = socind_data[p], y = y_pred_cubic, color = \"green\", label = \"cubic\")\n",
    "\n",
    "plt.legend()"
   ]
  },
  {
   "cell_type": "markdown",
   "id": "16b84ba5",
   "metadata": {},
   "source": [
    "### 3e) \n",
    "Develop a model to predict `gdpPerCapita` using $P$ and `continent` as predictors. (No higher-order terms.) \n",
    "\n",
    "1. Which continent creates the baseline? **(2 points)** Write down its equation. **(2 points)** \n",
    "\n",
    "2. For a given value of $P$, are there any continents that **do not** have a statistically significant difference of predicted `gdpPerCapita` from the baseline continent? If yes, then which ones, and why? If no, then why not? You need to justify your answers for credit. **(4 points)**"
   ]
  },
  {
   "cell_type": "code",
   "execution_count": 22,
   "id": "a5d97161",
   "metadata": {},
   "outputs": [
    {
     "data": {
      "text/html": [
       "<table class=\"simpletable\">\n",
       "<caption>OLS Regression Results</caption>\n",
       "<tr>\n",
       "  <th>Dep. Variable:</th>      <td>gdpPerCapita</td>   <th>  R-squared:         </th> <td>   0.508</td>\n",
       "</tr>\n",
       "<tr>\n",
       "  <th>Model:</th>                   <td>OLS</td>       <th>  Adj. R-squared:    </th> <td>   0.488</td>\n",
       "</tr>\n",
       "<tr>\n",
       "  <th>Method:</th>             <td>Least Squares</td>  <th>  F-statistic:       </th> <td>   25.43</td>\n",
       "</tr>\n",
       "<tr>\n",
       "  <th>Date:</th>             <td>Wed, 29 Jan 2025</td> <th>  Prob (F-statistic):</th> <td>1.28e-20</td>\n",
       "</tr>\n",
       "<tr>\n",
       "  <th>Time:</th>                 <td>16:55:11</td>     <th>  Log-Likelihood:    </th> <td> -1723.6</td>\n",
       "</tr>\n",
       "<tr>\n",
       "  <th>No. Observations:</th>      <td>   155</td>      <th>  AIC:               </th> <td>   3461.</td>\n",
       "</tr>\n",
       "<tr>\n",
       "  <th>Df Residuals:</th>          <td>   148</td>      <th>  BIC:               </th> <td>   3483.</td>\n",
       "</tr>\n",
       "<tr>\n",
       "  <th>Df Model:</th>              <td>     6</td>      <th>                     </th>     <td> </td>   \n",
       "</tr>\n",
       "<tr>\n",
       "  <th>Covariance Type:</th>      <td>nonrobust</td>    <th>                     </th>     <td> </td>   \n",
       "</tr>\n",
       "</table>\n",
       "<table class=\"simpletable\">\n",
       "<tr>\n",
       "                <td></td>                   <th>coef</th>     <th>std err</th>      <th>t</th>      <th>P>|t|</th>  <th>[0.025</th>    <th>0.975]</th>  \n",
       "</tr>\n",
       "<tr>\n",
       "  <th>Intercept</th>                     <td>-7.208e+04</td> <td> 1.14e+04</td> <td>   -6.305</td> <td> 0.000</td> <td>-9.47e+04</td> <td>-4.95e+04</td>\n",
       "</tr>\n",
       "<tr>\n",
       "  <th>C(continent)[T.Asia]</th>          <td> 1324.7980</td> <td> 4805.099</td> <td>    0.276</td> <td> 0.783</td> <td>-8170.667</td> <td> 1.08e+04</td>\n",
       "</tr>\n",
       "<tr>\n",
       "  <th>C(continent)[T.Europe]</th>        <td> 9167.0203</td> <td> 5785.650</td> <td>    1.584</td> <td> 0.115</td> <td>-2266.134</td> <td> 2.06e+04</td>\n",
       "</tr>\n",
       "<tr>\n",
       "  <th>C(continent)[T.North America]</th> <td>-1.446e+04</td> <td> 5947.502</td> <td>   -2.431</td> <td> 0.016</td> <td>-2.62e+04</td> <td>-2704.270</td>\n",
       "</tr>\n",
       "<tr>\n",
       "  <th>C(continent)[T.Oceania]</th>       <td>-1.429e+04</td> <td> 6063.764</td> <td>   -2.357</td> <td> 0.020</td> <td>-2.63e+04</td> <td>-2307.304</td>\n",
       "</tr>\n",
       "<tr>\n",
       "  <th>C(continent)[T.South America]</th> <td>-1.329e+04</td> <td> 6462.516</td> <td>   -2.056</td> <td> 0.042</td> <td>-2.61e+04</td> <td> -516.198</td>\n",
       "</tr>\n",
       "<tr>\n",
       "  <th>lifeFemale</th>                    <td> 1393.4213</td> <td>  194.062</td> <td>    7.180</td> <td> 0.000</td> <td> 1009.931</td> <td> 1776.911</td>\n",
       "</tr>\n",
       "</table>\n",
       "<table class=\"simpletable\">\n",
       "<tr>\n",
       "  <th>Omnibus:</th>       <td>67.873</td> <th>  Durbin-Watson:     </th> <td>   1.942</td>\n",
       "</tr>\n",
       "<tr>\n",
       "  <th>Prob(Omnibus):</th> <td> 0.000</td> <th>  Jarque-Bera (JB):  </th> <td> 231.081</td>\n",
       "</tr>\n",
       "<tr>\n",
       "  <th>Skew:</th>          <td> 1.701</td> <th>  Prob(JB):          </th> <td>6.63e-51</td>\n",
       "</tr>\n",
       "<tr>\n",
       "  <th>Kurtosis:</th>      <td> 7.920</td> <th>  Cond. No.          </th> <td>    721.</td>\n",
       "</tr>\n",
       "</table><br/><br/>Notes:<br/>[1] Standard Errors assume that the covariance matrix of the errors is correctly specified."
      ],
      "text/latex": [
       "\\begin{center}\n",
       "\\begin{tabular}{lclc}\n",
       "\\toprule\n",
       "\\textbf{Dep. Variable:}                &   gdpPerCapita   & \\textbf{  R-squared:         } &     0.508   \\\\\n",
       "\\textbf{Model:}                        &       OLS        & \\textbf{  Adj. R-squared:    } &     0.488   \\\\\n",
       "\\textbf{Method:}                       &  Least Squares   & \\textbf{  F-statistic:       } &     25.43   \\\\\n",
       "\\textbf{Date:}                         & Wed, 29 Jan 2025 & \\textbf{  Prob (F-statistic):} &  1.28e-20   \\\\\n",
       "\\textbf{Time:}                         &     16:55:11     & \\textbf{  Log-Likelihood:    } &   -1723.6   \\\\\n",
       "\\textbf{No. Observations:}             &         155      & \\textbf{  AIC:               } &     3461.   \\\\\n",
       "\\textbf{Df Residuals:}                 &         148      & \\textbf{  BIC:               } &     3483.   \\\\\n",
       "\\textbf{Df Model:}                     &           6      & \\textbf{                     } &             \\\\\n",
       "\\textbf{Covariance Type:}              &    nonrobust     & \\textbf{                     } &             \\\\\n",
       "\\bottomrule\n",
       "\\end{tabular}\n",
       "\\begin{tabular}{lcccccc}\n",
       "                                       & \\textbf{coef} & \\textbf{std err} & \\textbf{t} & \\textbf{P$> |$t$|$} & \\textbf{[0.025} & \\textbf{0.975]}  \\\\\n",
       "\\midrule\n",
       "\\textbf{Intercept}                     &   -7.208e+04  &     1.14e+04     &    -6.305  &         0.000        &    -9.47e+04    &    -4.95e+04     \\\\\n",
       "\\textbf{C(continent)[T.Asia]}          &    1324.7980  &     4805.099     &     0.276  &         0.783        &    -8170.667    &     1.08e+04     \\\\\n",
       "\\textbf{C(continent)[T.Europe]}        &    9167.0203  &     5785.650     &     1.584  &         0.115        &    -2266.134    &     2.06e+04     \\\\\n",
       "\\textbf{C(continent)[T.North America]} &   -1.446e+04  &     5947.502     &    -2.431  &         0.016        &    -2.62e+04    &    -2704.270     \\\\\n",
       "\\textbf{C(continent)[T.Oceania]}       &   -1.429e+04  &     6063.764     &    -2.357  &         0.020        &    -2.63e+04    &    -2307.304     \\\\\n",
       "\\textbf{C(continent)[T.South America]} &   -1.329e+04  &     6462.516     &    -2.056  &         0.042        &    -2.61e+04    &     -516.198     \\\\\n",
       "\\textbf{lifeFemale}                    &    1393.4213  &      194.062     &     7.180  &         0.000        &     1009.931    &     1776.911     \\\\\n",
       "\\bottomrule\n",
       "\\end{tabular}\n",
       "\\begin{tabular}{lclc}\n",
       "\\textbf{Omnibus:}       & 67.873 & \\textbf{  Durbin-Watson:     } &    1.942  \\\\\n",
       "\\textbf{Prob(Omnibus):} &  0.000 & \\textbf{  Jarque-Bera (JB):  } &  231.081  \\\\\n",
       "\\textbf{Skew:}          &  1.701 & \\textbf{  Prob(JB):          } & 6.63e-51  \\\\\n",
       "\\textbf{Kurtosis:}      &  7.920 & \\textbf{  Cond. No.          } &     721.  \\\\\n",
       "\\bottomrule\n",
       "\\end{tabular}\n",
       "%\\caption{OLS Regression Results}\n",
       "\\end{center}\n",
       "\n",
       "Notes: \\newline\n",
       " [1] Standard Errors assume that the covariance matrix of the errors is correctly specified."
      ],
      "text/plain": [
       "<class 'statsmodels.iolib.summary.Summary'>\n",
       "\"\"\"\n",
       "                            OLS Regression Results                            \n",
       "==============================================================================\n",
       "Dep. Variable:           gdpPerCapita   R-squared:                       0.508\n",
       "Model:                            OLS   Adj. R-squared:                  0.488\n",
       "Method:                 Least Squares   F-statistic:                     25.43\n",
       "Date:                Wed, 29 Jan 2025   Prob (F-statistic):           1.28e-20\n",
       "Time:                        16:55:11   Log-Likelihood:                -1723.6\n",
       "No. Observations:                 155   AIC:                             3461.\n",
       "Df Residuals:                     148   BIC:                             3483.\n",
       "Df Model:                           6                                         \n",
       "Covariance Type:            nonrobust                                         \n",
       "=================================================================================================\n",
       "                                    coef    std err          t      P>|t|      [0.025      0.975]\n",
       "-------------------------------------------------------------------------------------------------\n",
       "Intercept                     -7.208e+04   1.14e+04     -6.305      0.000   -9.47e+04   -4.95e+04\n",
       "C(continent)[T.Asia]           1324.7980   4805.099      0.276      0.783   -8170.667    1.08e+04\n",
       "C(continent)[T.Europe]         9167.0203   5785.650      1.584      0.115   -2266.134    2.06e+04\n",
       "C(continent)[T.North America] -1.446e+04   5947.502     -2.431      0.016   -2.62e+04   -2704.270\n",
       "C(continent)[T.Oceania]       -1.429e+04   6063.764     -2.357      0.020   -2.63e+04   -2307.304\n",
       "C(continent)[T.South America] -1.329e+04   6462.516     -2.056      0.042   -2.61e+04    -516.198\n",
       "lifeFemale                     1393.4213    194.062      7.180      0.000    1009.931    1776.911\n",
       "==============================================================================\n",
       "Omnibus:                       67.873   Durbin-Watson:                   1.942\n",
       "Prob(Omnibus):                  0.000   Jarque-Bera (JB):              231.081\n",
       "Skew:                           1.701   Prob(JB):                     6.63e-51\n",
       "Kurtosis:                       7.920   Cond. No.                         721.\n",
       "==============================================================================\n",
       "\n",
       "Notes:\n",
       "[1] Standard Errors assume that the covariance matrix of the errors is correctly specified.\n",
       "\"\"\""
      ]
     },
     "execution_count": 22,
     "metadata": {},
     "output_type": "execute_result"
    }
   ],
   "source": [
    "p_and_continent = smf.ols('gdpPerCapita ~ lifeFemale + C(continent)', data = socind_data).fit()\n",
    "p_and_continent.summary()"
   ]
  },
  {
   "cell_type": "markdown",
   "id": "9c3f53e5",
   "metadata": {},
   "source": [
    "Africa creates the baseline. The equation relating gdpPerCapita to lifeFemale for Africa is:\n",
    "gdpPerCapita = -7.208e+04 + 1393.4213*lifeFemale"
   ]
  },
  {
   "cell_type": "markdown",
   "id": "1669e70d",
   "metadata": {},
   "source": [
    "For a given value of lifeFemale, Asia and Europe do not have a statistically significant difference of predicted gdpPerCapita from the baseline continent because the p-value for both continents is greater than 0.05."
   ]
  },
  {
   "cell_type": "markdown",
   "id": "c577df23",
   "metadata": {},
   "source": [
    "### 3f) \n",
    "The model developed in the previous part has a limitation. It assumes that the increase in predicted `gdpPerCapita` with a unit increase in $P$ does not depend on the `continent`. \n",
    "\n",
    "Eliminate this limitation by including the interaction of `continent` with $P$ in the model. Print the model summary of the model with interactions. **(2 points)** Which continent has the closest increase in predicted `gdpPerCapita` to the baseline continent with a unit increase in $P$. Which continent has the furthest? **You need to justify your answers for credit.** **(5 points)**"
   ]
  },
  {
   "cell_type": "code",
   "execution_count": 23,
   "id": "f285d6da",
   "metadata": {},
   "outputs": [
    {
     "data": {
      "text/html": [
       "<table class=\"simpletable\">\n",
       "<caption>OLS Regression Results</caption>\n",
       "<tr>\n",
       "  <th>Dep. Variable:</th>      <td>gdpPerCapita</td>   <th>  R-squared:         </th> <td>   0.605</td>\n",
       "</tr>\n",
       "<tr>\n",
       "  <th>Model:</th>                   <td>OLS</td>       <th>  Adj. R-squared:    </th> <td>   0.574</td>\n",
       "</tr>\n",
       "<tr>\n",
       "  <th>Method:</th>             <td>Least Squares</td>  <th>  F-statistic:       </th> <td>   19.90</td>\n",
       "</tr>\n",
       "<tr>\n",
       "  <th>Date:</th>             <td>Wed, 29 Jan 2025</td> <th>  Prob (F-statistic):</th> <td>7.99e-24</td>\n",
       "</tr>\n",
       "<tr>\n",
       "  <th>Time:</th>                 <td>16:55:11</td>     <th>  Log-Likelihood:    </th> <td> -1706.6</td>\n",
       "</tr>\n",
       "<tr>\n",
       "  <th>No. Observations:</th>      <td>   155</td>      <th>  AIC:               </th> <td>   3437.</td>\n",
       "</tr>\n",
       "<tr>\n",
       "  <th>Df Residuals:</th>          <td>   143</td>      <th>  BIC:               </th> <td>   3474.</td>\n",
       "</tr>\n",
       "<tr>\n",
       "  <th>Df Model:</th>              <td>    11</td>      <th>                     </th>     <td> </td>   \n",
       "</tr>\n",
       "<tr>\n",
       "  <th>Covariance Type:</th>      <td>nonrobust</td>    <th>                     </th>     <td> </td>   \n",
       "</tr>\n",
       "</table>\n",
       "<table class=\"simpletable\">\n",
       "<tr>\n",
       "                      <td></td>                        <th>coef</th>     <th>std err</th>      <th>t</th>      <th>P>|t|</th>  <th>[0.025</th>    <th>0.975]</th>  \n",
       "</tr>\n",
       "<tr>\n",
       "  <th>Intercept</th>                                <td>-1.723e+04</td> <td> 1.53e+04</td> <td>   -1.129</td> <td> 0.261</td> <td>-4.74e+04</td> <td> 1.29e+04</td>\n",
       "</tr>\n",
       "<tr>\n",
       "  <th>C(continent)[T.Asia]</th>                     <td>-1.094e+05</td> <td> 2.63e+04</td> <td>   -4.156</td> <td> 0.000</td> <td>-1.61e+05</td> <td>-5.74e+04</td>\n",
       "</tr>\n",
       "<tr>\n",
       "  <th>C(continent)[T.Europe]</th>                   <td>-2.774e+05</td> <td> 6.63e+04</td> <td>   -4.185</td> <td> 0.000</td> <td>-4.08e+05</td> <td>-1.46e+05</td>\n",
       "</tr>\n",
       "<tr>\n",
       "  <th>C(continent)[T.North America]</th>            <td>  -6.6e+04</td> <td> 4.88e+04</td> <td>   -1.352</td> <td> 0.178</td> <td>-1.62e+05</td> <td> 3.05e+04</td>\n",
       "</tr>\n",
       "<tr>\n",
       "  <th>C(continent)[T.Oceania]</th>                  <td>-1.367e+05</td> <td> 5.78e+04</td> <td>   -2.364</td> <td> 0.019</td> <td>-2.51e+05</td> <td>-2.24e+04</td>\n",
       "</tr>\n",
       "<tr>\n",
       "  <th>C(continent)[T.South America]</th>            <td>-7830.3082</td> <td> 8.18e+04</td> <td>   -0.096</td> <td> 0.924</td> <td>-1.69e+05</td> <td> 1.54e+05</td>\n",
       "</tr>\n",
       "<tr>\n",
       "  <th>lifeFemale</th>                               <td>  428.5595</td> <td>  264.214</td> <td>    1.622</td> <td> 0.107</td> <td>  -93.711</td> <td>  950.830</td>\n",
       "</tr>\n",
       "<tr>\n",
       "  <th>lifeFemale:C(continent)[T.Asia]</th>          <td> 1755.1049</td> <td>  400.782</td> <td>    4.379</td> <td> 0.000</td> <td>  962.882</td> <td> 2547.328</td>\n",
       "</tr>\n",
       "<tr>\n",
       "  <th>lifeFemale:C(continent)[T.Europe]</th>        <td> 3944.6364</td> <td>  869.916</td> <td>    4.535</td> <td> 0.000</td> <td> 2225.080</td> <td> 5664.193</td>\n",
       "</tr>\n",
       "<tr>\n",
       "  <th>lifeFemale:C(continent)[T.North America]</th> <td>  921.1328</td> <td>  667.359</td> <td>    1.380</td> <td> 0.170</td> <td> -398.031</td> <td> 2240.297</td>\n",
       "</tr>\n",
       "<tr>\n",
       "  <th>lifeFemale:C(continent)[T.Oceania]</th>       <td> 1898.4382</td> <td>  812.766</td> <td>    2.336</td> <td> 0.021</td> <td>  291.851</td> <td> 3505.026</td>\n",
       "</tr>\n",
       "<tr>\n",
       "  <th>lifeFemale:C(continent)[T.South America]</th> <td>  135.3138</td> <td> 1134.388</td> <td>    0.119</td> <td> 0.905</td> <td>-2107.022</td> <td> 2377.650</td>\n",
       "</tr>\n",
       "</table>\n",
       "<table class=\"simpletable\">\n",
       "<tr>\n",
       "  <th>Omnibus:</th>       <td>73.348</td> <th>  Durbin-Watson:     </th> <td>   1.900</td>\n",
       "</tr>\n",
       "<tr>\n",
       "  <th>Prob(Omnibus):</th> <td> 0.000</td> <th>  Jarque-Bera (JB):  </th> <td> 290.376</td>\n",
       "</tr>\n",
       "<tr>\n",
       "  <th>Skew:</th>          <td> 1.785</td> <th>  Prob(JB):          </th> <td>8.82e-64</td>\n",
       "</tr>\n",
       "<tr>\n",
       "  <th>Kurtosis:</th>      <td> 8.676</td> <th>  Cond. No.          </th> <td>5.23e+03</td>\n",
       "</tr>\n",
       "</table><br/><br/>Notes:<br/>[1] Standard Errors assume that the covariance matrix of the errors is correctly specified.<br/>[2] The condition number is large, 5.23e+03. This might indicate that there are<br/>strong multicollinearity or other numerical problems."
      ],
      "text/latex": [
       "\\begin{center}\n",
       "\\begin{tabular}{lclc}\n",
       "\\toprule\n",
       "\\textbf{Dep. Variable:}                           &   gdpPerCapita   & \\textbf{  R-squared:         } &     0.605   \\\\\n",
       "\\textbf{Model:}                                   &       OLS        & \\textbf{  Adj. R-squared:    } &     0.574   \\\\\n",
       "\\textbf{Method:}                                  &  Least Squares   & \\textbf{  F-statistic:       } &     19.90   \\\\\n",
       "\\textbf{Date:}                                    & Wed, 29 Jan 2025 & \\textbf{  Prob (F-statistic):} &  7.99e-24   \\\\\n",
       "\\textbf{Time:}                                    &     16:55:11     & \\textbf{  Log-Likelihood:    } &   -1706.6   \\\\\n",
       "\\textbf{No. Observations:}                        &         155      & \\textbf{  AIC:               } &     3437.   \\\\\n",
       "\\textbf{Df Residuals:}                            &         143      & \\textbf{  BIC:               } &     3474.   \\\\\n",
       "\\textbf{Df Model:}                                &          11      & \\textbf{                     } &             \\\\\n",
       "\\textbf{Covariance Type:}                         &    nonrobust     & \\textbf{                     } &             \\\\\n",
       "\\bottomrule\n",
       "\\end{tabular}\n",
       "\\begin{tabular}{lcccccc}\n",
       "                                                  & \\textbf{coef} & \\textbf{std err} & \\textbf{t} & \\textbf{P$> |$t$|$} & \\textbf{[0.025} & \\textbf{0.975]}  \\\\\n",
       "\\midrule\n",
       "\\textbf{Intercept}                                &   -1.723e+04  &     1.53e+04     &    -1.129  &         0.261        &    -4.74e+04    &     1.29e+04     \\\\\n",
       "\\textbf{C(continent)[T.Asia]}                     &   -1.094e+05  &     2.63e+04     &    -4.156  &         0.000        &    -1.61e+05    &    -5.74e+04     \\\\\n",
       "\\textbf{C(continent)[T.Europe]}                   &   -2.774e+05  &     6.63e+04     &    -4.185  &         0.000        &    -4.08e+05    &    -1.46e+05     \\\\\n",
       "\\textbf{C(continent)[T.North America]}            &     -6.6e+04  &     4.88e+04     &    -1.352  &         0.178        &    -1.62e+05    &     3.05e+04     \\\\\n",
       "\\textbf{C(continent)[T.Oceania]}                  &   -1.367e+05  &     5.78e+04     &    -2.364  &         0.019        &    -2.51e+05    &    -2.24e+04     \\\\\n",
       "\\textbf{C(continent)[T.South America]}            &   -7830.3082  &     8.18e+04     &    -0.096  &         0.924        &    -1.69e+05    &     1.54e+05     \\\\\n",
       "\\textbf{lifeFemale}                               &     428.5595  &      264.214     &     1.622  &         0.107        &      -93.711    &      950.830     \\\\\n",
       "\\textbf{lifeFemale:C(continent)[T.Asia]}          &    1755.1049  &      400.782     &     4.379  &         0.000        &      962.882    &     2547.328     \\\\\n",
       "\\textbf{lifeFemale:C(continent)[T.Europe]}        &    3944.6364  &      869.916     &     4.535  &         0.000        &     2225.080    &     5664.193     \\\\\n",
       "\\textbf{lifeFemale:C(continent)[T.North America]} &     921.1328  &      667.359     &     1.380  &         0.170        &     -398.031    &     2240.297     \\\\\n",
       "\\textbf{lifeFemale:C(continent)[T.Oceania]}       &    1898.4382  &      812.766     &     2.336  &         0.021        &      291.851    &     3505.026     \\\\\n",
       "\\textbf{lifeFemale:C(continent)[T.South America]} &     135.3138  &     1134.388     &     0.119  &         0.905        &    -2107.022    &     2377.650     \\\\\n",
       "\\bottomrule\n",
       "\\end{tabular}\n",
       "\\begin{tabular}{lclc}\n",
       "\\textbf{Omnibus:}       & 73.348 & \\textbf{  Durbin-Watson:     } &    1.900  \\\\\n",
       "\\textbf{Prob(Omnibus):} &  0.000 & \\textbf{  Jarque-Bera (JB):  } &  290.376  \\\\\n",
       "\\textbf{Skew:}          &  1.785 & \\textbf{  Prob(JB):          } & 8.82e-64  \\\\\n",
       "\\textbf{Kurtosis:}      &  8.676 & \\textbf{  Cond. No.          } & 5.23e+03  \\\\\n",
       "\\bottomrule\n",
       "\\end{tabular}\n",
       "%\\caption{OLS Regression Results}\n",
       "\\end{center}\n",
       "\n",
       "Notes: \\newline\n",
       " [1] Standard Errors assume that the covariance matrix of the errors is correctly specified. \\newline\n",
       " [2] The condition number is large, 5.23e+03. This might indicate that there are \\newline\n",
       " strong multicollinearity or other numerical problems."
      ],
      "text/plain": [
       "<class 'statsmodels.iolib.summary.Summary'>\n",
       "\"\"\"\n",
       "                            OLS Regression Results                            \n",
       "==============================================================================\n",
       "Dep. Variable:           gdpPerCapita   R-squared:                       0.605\n",
       "Model:                            OLS   Adj. R-squared:                  0.574\n",
       "Method:                 Least Squares   F-statistic:                     19.90\n",
       "Date:                Wed, 29 Jan 2025   Prob (F-statistic):           7.99e-24\n",
       "Time:                        16:55:11   Log-Likelihood:                -1706.6\n",
       "No. Observations:                 155   AIC:                             3437.\n",
       "Df Residuals:                     143   BIC:                             3474.\n",
       "Df Model:                          11                                         \n",
       "Covariance Type:            nonrobust                                         \n",
       "============================================================================================================\n",
       "                                               coef    std err          t      P>|t|      [0.025      0.975]\n",
       "------------------------------------------------------------------------------------------------------------\n",
       "Intercept                                -1.723e+04   1.53e+04     -1.129      0.261   -4.74e+04    1.29e+04\n",
       "C(continent)[T.Asia]                     -1.094e+05   2.63e+04     -4.156      0.000   -1.61e+05   -5.74e+04\n",
       "C(continent)[T.Europe]                   -2.774e+05   6.63e+04     -4.185      0.000   -4.08e+05   -1.46e+05\n",
       "C(continent)[T.North America]              -6.6e+04   4.88e+04     -1.352      0.178   -1.62e+05    3.05e+04\n",
       "C(continent)[T.Oceania]                  -1.367e+05   5.78e+04     -2.364      0.019   -2.51e+05   -2.24e+04\n",
       "C(continent)[T.South America]            -7830.3082   8.18e+04     -0.096      0.924   -1.69e+05    1.54e+05\n",
       "lifeFemale                                 428.5595    264.214      1.622      0.107     -93.711     950.830\n",
       "lifeFemale:C(continent)[T.Asia]           1755.1049    400.782      4.379      0.000     962.882    2547.328\n",
       "lifeFemale:C(continent)[T.Europe]         3944.6364    869.916      4.535      0.000    2225.080    5664.193\n",
       "lifeFemale:C(continent)[T.North America]   921.1328    667.359      1.380      0.170    -398.031    2240.297\n",
       "lifeFemale:C(continent)[T.Oceania]        1898.4382    812.766      2.336      0.021     291.851    3505.026\n",
       "lifeFemale:C(continent)[T.South America]   135.3138   1134.388      0.119      0.905   -2107.022    2377.650\n",
       "==============================================================================\n",
       "Omnibus:                       73.348   Durbin-Watson:                   1.900\n",
       "Prob(Omnibus):                  0.000   Jarque-Bera (JB):              290.376\n",
       "Skew:                           1.785   Prob(JB):                     8.82e-64\n",
       "Kurtosis:                       8.676   Cond. No.                     5.23e+03\n",
       "==============================================================================\n",
       "\n",
       "Notes:\n",
       "[1] Standard Errors assume that the covariance matrix of the errors is correctly specified.\n",
       "[2] The condition number is large, 5.23e+03. This might indicate that there are\n",
       "strong multicollinearity or other numerical problems.\n",
       "\"\"\""
      ]
     },
     "execution_count": 23,
     "metadata": {},
     "output_type": "execute_result"
    }
   ],
   "source": [
    "interaction_model = smf.ols('gdpPerCapita ~ lifeFemale + C(continent) + lifeFemale*C(continent)', data = socind_data).fit()\n",
    "interaction_model.summary()"
   ]
  },
  {
   "cell_type": "markdown",
   "id": "aa5505b3",
   "metadata": {},
   "source": [
    "South America has the closest increase in predicted gdpPerCapita to Africa with a unit increase in lifeFemale because it has the lowest coefficient of all the continents' respective interaction terms with lifeFemale. Europe has the largest such coefficient so it has the furthest increase in predicted gdpPerCapita to Africa with a unit increase in lifeFemale."
   ]
  },
  {
   "cell_type": "markdown",
   "id": "9ce53353",
   "metadata": {},
   "source": [
    "### 3g) \n",
    "Using the model developed in the previous part, plot the regression lines of all the continents on the same figure. Put `gdpPerCapita` on the y-axis and $P$ on the x-axis. **(4 points)** Use a legend to color-code the continents. **(1 point)**"
   ]
  },
  {
   "cell_type": "code",
   "execution_count": 24,
   "id": "c9ea69ca",
   "metadata": {},
   "outputs": [
    {
     "data": {
      "image/png": "[encoded data removed]",
      "text/plain": [
       "<Figure size 640x480 with 1 Axes>"
      ]
     },
     "metadata": {},
     "output_type": "display_data"
    }
   ],
   "source": [
    "x = np.linspace(socind_data['lifeFemale'].min(), socind_data['lifeFemale'].max(), 100)\n",
    "sns.lineplot(x = x, y = interaction_model.params[\"Intercept\"] + interaction_model.params[\"lifeFemale\"]*x, label = \"Africa\", color = \"red\")\n",
    "sns.lineplot(x = x, y = interaction_model.params[\"Intercept\"] + interaction_model.params[\"lifeFemale\"]*x + interaction_model.params[\"lifeFemale:C(continent)[T.Asia]\"]*x, label = \"Asia\", color = \"blue\")\n",
    "sns.lineplot(x = x, y = interaction_model.params[\"Intercept\"] + interaction_model.params[\"lifeFemale\"]*x + interaction_model.params[\"lifeFemale:C(continent)[T.Europe]\"]*x, label = \"Europe\", color = \"green\")\n",
    "sns.lineplot(x = x, y = interaction_model.params[\"Intercept\"] + interaction_model.params[\"lifeFemale\"]*x + interaction_model.params[\"lifeFemale:C(continent)[T.North America]\"]*x, label = \"North America\", color = \"orange\")\n",
    "sns.lineplot(x = x, y = interaction_model.params[\"Intercept\"] + interaction_model.params[\"lifeFemale\"]*x + interaction_model.params[\"lifeFemale:C(continent)[T.South America]\"]*x, label = \"South America\", color = \"purple\")\n",
    "sns.lineplot(x = x, y = interaction_model.params[\"Intercept\"] + interaction_model.params[\"lifeFemale\"]*x + interaction_model.params[\"lifeFemale:C(continent)[T.Oceania]\"]*x, label = \"Oceania\", color = \"black\")\n",
    "plt.legend()\n",
    "plt.xlabel('LifeFemale')\n",
    "plt.ylabel('Predicted GDP per Capita');"
   ]
  },
  {
   "cell_type": "markdown",
   "id": "86b6b634",
   "metadata": {},
   "source": [
    "## 4) Prediction with Sklearn (21 points)"
   ]
  },
  {
   "cell_type": "markdown",
   "id": "dad24415",
   "metadata": {},
   "source": [
    "### Instructions\n",
    "\n",
    "1. Read the **soc_ind.csv** dataset and use the `Index` column as the index of the dataframe.\n",
    "2. Drop the `geographic_location` and `country` columns since they are not useful for our prediction.\n",
    "3. We will use **only `sklearn` and `pandas`** libraries in this task.\n",
    "4. **gdpPerCapita** is the response (target) variable.  \n",
    "   **(2 points)**  \n",
    "5. All other columns (except `Index`, `geographic_location`, and `country`) will serve as predictors.  \n",
    "   **(2 points)**  \n",
    "6. The `continent` column must be one-hot-encoded using `OneHotEncoder`.  \n",
    "   **(5 points)**\n",
    "7. Output the encoded dummy variables (feature names) to confirm successful encoding.  \n",
    "   **(2 points)**  \n",
    "8. Train a `LinearRegression` model. Split the dataset into a **training set (90%)** and a **test set (10%)**.  \n",
    "   - Set `random_state=3` for reproducibility.  \n",
    "   **(3 points)**  \n",
    "9. Calculate the **RMSE** and **R-squared** for both the training set and the test set.  \n",
    "   **(3 points)**  \n",
    "10. Discuss whether your model shows signs of **overfitting** or **underfitting**.  \n",
    "    **(3 points)**"
   ]
  },
  {
   "cell_type": "code",
   "execution_count": 46,
   "id": "9a9ee718",
   "metadata": {},
   "outputs": [
    {
     "name": "stdout",
     "output_type": "stream",
     "text": [
      "Index(['economicActivityFemale', 'economicActivityMale', 'gdpPerCapita',\n",
      "       'illiteracyFemale', 'illiteracyMale', 'infantMortality', 'lifeFemale',\n",
      "       'lifeMale', 'continent_Asia', 'continent_Europe',\n",
      "       'continent_North America', 'continent_Oceania',\n",
      "       'continent_South America'],\n",
      "      dtype='object')\n"
     ]
    }
   ],
   "source": [
    "soc_ind_data = pd.read_csv(\"/Users/vaibhavrangan/Downloads/Stat_303-2/Datasets/soc_ind.csv\")\n",
    "soc_ind_data = soc_ind_data.set_index(soc_ind_data[\"Index\"])\n",
    "soc_ind_data.drop([\"Index\", 'country', 'geographic_location'], axis = 1, inplace = True)\n",
    "soc_ind_data = pd.get_dummies(soc_ind_data, columns = [\"continent\"], drop_first = True)\n",
    "soc_ind_data = soc_ind_data.astype(float)\n",
    "print(soc_ind_data.columns)\n"
   ]
  },
  {
   "cell_type": "code",
   "execution_count": 52,
   "id": "d2cc91f6",
   "metadata": {},
   "outputs": [
    {
     "name": "stdout",
     "output_type": "stream",
     "text": [
      "0.5697416274348598\n",
      "0.40870207503704936\n",
      "14589.152192514171\n",
      "23368.73909817339\n"
     ]
    }
   ],
   "source": [
    "from sklearn.model_selection import train_test_split\n",
    "from sklearn.linear_model import LinearRegression\n",
    "\n",
    "model = LinearRegression()\n",
    "\n",
    "train, test = train_test_split(soc_ind_data, test_size=0.1, random_state=3)\n",
    "\n",
    "x_train = train.drop([\"gdpPerCapita\"], axis = 1)\n",
    "y_train = train[[\"gdpPerCapita\"]]\n",
    "\n",
    "x_test = test.drop([\"gdpPerCapita\"], axis = 1)\n",
    "y_test = test[[\"gdpPerCapita\"]]\n",
    "\n",
    "model.fit(x_train, y_train)\n",
    "\n",
    "\n",
    "print(model.score(x_train, y_train))\n",
    "print(model.score(x_test, y_test))\n",
    "\n",
    "# print train rmse\n",
    "y_train_pred = model.predict(x_train)\n",
    "train_rmse = np.sqrt(mean_squared_error(y_train, y_train_pred))\n",
    "print(train_rmse)\n",
    "\n",
    "# print test rmse\n",
    "y_test_pred = model.predict(x_test)\n",
    "test_rmse = np.sqrt(mean_squared_error(y_test, y_test_pred))\n",
    "print(test_rmse)\n",
    "\n"
   ]
  },
  {
   "cell_type": "markdown",
   "id": "5ae50e05",
   "metadata": {},
   "source": [
    "The test R^2 is less than the train R^2 while the test RMSE is greater than the train RMSE, indicating that the model is overfitting the data. The model seems to be fitting the noise in the train data and applying it to the test data, resulting in a lower R^2 and higher RMSE on the test data."
   ]
  }
 ],
 "metadata": {
  "kernelspec": {
   "display_name": ".venv",
   "language": "python",
   "name": "python3"
  },
  "language_info": {
   "codemirror_mode": {
    "name": "ipython",
    "version": 3
   },
   "file_extension": ".py",
   "mimetype": "text/x-python",
   "name": "python",
   "nbconvert_exporter": "python",
   "pygments_lexer": "ipython3",
   "version": "3.12.1"
  }
 },
 "nbformat": 4,
 "nbformat_minor": 5
}
