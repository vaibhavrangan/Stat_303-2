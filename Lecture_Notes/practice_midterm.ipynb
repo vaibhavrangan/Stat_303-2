{
 "cells": [
  {
   "cell_type": "code",
   "execution_count": 1,
   "metadata": {},
   "outputs": [
    {
     "data": {
      "text/html": [
       "<div>\n",
       "<style scoped>\n",
       "    .dataframe tbody tr th:only-of-type {\n",
       "        vertical-align: middle;\n",
       "    }\n",
       "\n",
       "    .dataframe tbody tr th {\n",
       "        vertical-align: top;\n",
       "    }\n",
       "\n",
       "    .dataframe thead th {\n",
       "        text-align: right;\n",
       "    }\n",
       "</style>\n",
       "<table border=\"1\" class=\"dataframe\">\n",
       "  <thead>\n",
       "    <tr style=\"text-align: right;\">\n",
       "      <th></th>\n",
       "      <th>Id</th>\n",
       "      <th>BldgType</th>\n",
       "      <th>HouseStyle</th>\n",
       "      <th>OverallQual</th>\n",
       "      <th>GrLivArea</th>\n",
       "      <th>SalePrice</th>\n",
       "      <th>Neighborhood</th>\n",
       "      <th>LotArea</th>\n",
       "      <th>TotRmsAbvGrd</th>\n",
       "    </tr>\n",
       "  </thead>\n",
       "  <tbody>\n",
       "    <tr>\n",
       "      <th>0</th>\n",
       "      <td>15</td>\n",
       "      <td>1Fam</td>\n",
       "      <td>1Story</td>\n",
       "      <td>6</td>\n",
       "      <td>1253</td>\n",
       "      <td>157000</td>\n",
       "      <td>NAmes</td>\n",
       "      <td>10920</td>\n",
       "      <td>5</td>\n",
       "    </tr>\n",
       "    <tr>\n",
       "      <th>1</th>\n",
       "      <td>17</td>\n",
       "      <td>1Fam</td>\n",
       "      <td>1Story</td>\n",
       "      <td>6</td>\n",
       "      <td>1004</td>\n",
       "      <td>149000</td>\n",
       "      <td>NAmes</td>\n",
       "      <td>11241</td>\n",
       "      <td>5</td>\n",
       "    </tr>\n",
       "    <tr>\n",
       "      <th>2</th>\n",
       "      <td>20</td>\n",
       "      <td>1Fam</td>\n",
       "      <td>1Story</td>\n",
       "      <td>5</td>\n",
       "      <td>1339</td>\n",
       "      <td>139000</td>\n",
       "      <td>NAmes</td>\n",
       "      <td>7560</td>\n",
       "      <td>6</td>\n",
       "    </tr>\n",
       "    <tr>\n",
       "      <th>3</th>\n",
       "      <td>27</td>\n",
       "      <td>1Fam</td>\n",
       "      <td>1Story</td>\n",
       "      <td>5</td>\n",
       "      <td>900</td>\n",
       "      <td>134800</td>\n",
       "      <td>NAmes</td>\n",
       "      <td>7200</td>\n",
       "      <td>5</td>\n",
       "    </tr>\n",
       "    <tr>\n",
       "      <th>4</th>\n",
       "      <td>29</td>\n",
       "      <td>1Fam</td>\n",
       "      <td>1Story</td>\n",
       "      <td>5</td>\n",
       "      <td>1600</td>\n",
       "      <td>207500</td>\n",
       "      <td>NAmes</td>\n",
       "      <td>16321</td>\n",
       "      <td>6</td>\n",
       "    </tr>\n",
       "  </tbody>\n",
       "</table>\n",
       "</div>"
      ],
      "text/plain": [
       "   Id BldgType HouseStyle  OverallQual  GrLivArea  SalePrice Neighborhood  \\\n",
       "0  15     1Fam     1Story            6       1253     157000        NAmes   \n",
       "1  17     1Fam     1Story            6       1004     149000        NAmes   \n",
       "2  20     1Fam     1Story            5       1339     139000        NAmes   \n",
       "3  27     1Fam     1Story            5        900     134800        NAmes   \n",
       "4  29     1Fam     1Story            5       1600     207500        NAmes   \n",
       "\n",
       "   LotArea  TotRmsAbvGrd  \n",
       "0    10920             5  \n",
       "1    11241             5  \n",
       "2     7560             6  \n",
       "3     7200             5  \n",
       "4    16321             6  "
      ]
     },
     "execution_count": 1,
     "metadata": {},
     "output_type": "execute_result"
    }
   ],
   "source": [
    "import pandas as pd\n",
    "import numpy as np\n",
    "import matplotlib.pyplot as plt\n",
    "import seaborn as sns\n",
    "\n",
    "import statsmodels.formula.api as smf\n",
    "import statsmodels.api as sm\n",
    "\n",
    "import sklearn\n",
    "from sklearn.linear_model import LinearRegression\n",
    "from sklearn.metrics import mean_squared_error, mean_absolute_error, r2_score\n",
    "\n",
    "train = pd.read_csv(\"/Users/vaibhavrangan/Downloads/Stat_303-2/Datasets/housing_data_train.csv\")\n",
    "test = pd.read_csv(\"/Users/vaibhavrangan/Downloads/Stat_303-2/Datasets/housing_data_test.csv\")\n",
    "\n",
    "train.head()"
   ]
  },
  {
   "cell_type": "markdown",
   "metadata": {},
   "source": [
    "Q12"
   ]
  },
  {
   "cell_type": "code",
   "execution_count": 2,
   "metadata": {},
   "outputs": [
    {
     "name": "stdout",
     "output_type": "stream",
     "text": [
      "                            OLS Regression Results                            \n",
      "==============================================================================\n",
      "Dep. Variable:              SalePrice   R-squared:                       0.769\n",
      "Model:                            OLS   Adj. R-squared:                  0.768\n",
      "Method:                 Least Squares   F-statistic:                     707.2\n",
      "Date:                Fri, 07 Feb 2025   Prob (F-statistic):          8.83e-269\n",
      "Time:                        12:59:59   Log-Likelihood:                -10346.\n",
      "No. Observations:                 856   AIC:                         2.070e+04\n",
      "Df Residuals:                     851   BIC:                         2.073e+04\n",
      "Df Model:                           4                                         \n",
      "Covariance Type:            nonrobust                                         \n",
      "================================================================================\n",
      "                   coef    std err          t      P>|t|      [0.025      0.975]\n",
      "--------------------------------------------------------------------------------\n",
      "Intercept    -1.318e+05   8349.223    -15.786      0.000   -1.48e+05   -1.15e+05\n",
      "GrLivArea       66.0374      5.650     11.687      0.000      54.947      77.128\n",
      "OverallQual   3.674e+04   1297.740     28.308      0.000    3.42e+04    3.93e+04\n",
      "LotArea          1.0524      0.151      6.963      0.000       0.756       1.349\n",
      "TotRmsAbvGrd -3190.0280   1580.487     -2.018      0.044   -6292.138     -87.918\n",
      "==============================================================================\n",
      "Omnibus:                      220.950   Durbin-Watson:                   1.778\n",
      "Prob(Omnibus):                  0.000   Jarque-Bera (JB):             1471.153\n",
      "Skew:                           0.996   Prob(JB):                         0.00\n",
      "Kurtosis:                       9.106   Cond. No.                     8.40e+04\n",
      "==============================================================================\n",
      "\n",
      "Notes:\n",
      "[1] Standard Errors assume that the covariance matrix of the errors is correctly specified.\n",
      "[2] The condition number is large, 8.4e+04. This might indicate that there are\n",
      "strong multicollinearity or other numerical problems.\n"
     ]
    }
   ],
   "source": [
    "model = smf.ols(formula = \"SalePrice ~ GrLivArea + OverallQual + LotArea + TotRmsAbvGrd\", data = train).fit()\n",
    "# fit model with 1% significance level\n",
    "\n",
    "print(model.summary())"
   ]
  },
  {
   "cell_type": "markdown",
   "metadata": {},
   "source": [
    "Q13"
   ]
  },
  {
   "cell_type": "code",
   "execution_count": 3,
   "metadata": {},
   "outputs": [
    {
     "data": {
      "text/plain": [
       "np.float64(43061.08396927367)"
      ]
     },
     "execution_count": 3,
     "metadata": {},
     "output_type": "execute_result"
    }
   ],
   "source": [
    "np.sqrt(model.mse_resid)"
   ]
  },
  {
   "cell_type": "markdown",
   "metadata": {},
   "source": [
    "Q14"
   ]
  },
  {
   "cell_type": "code",
   "execution_count": 4,
   "metadata": {},
   "outputs": [
    {
     "data": {
      "text/html": [
       "<table class=\"simpletable\">\n",
       "<caption>OLS Regression Results</caption>\n",
       "<tr>\n",
       "  <th>Dep. Variable:</th>        <td>SalePrice</td>    <th>  R-squared:         </th> <td>   0.774</td> \n",
       "</tr>\n",
       "<tr>\n",
       "  <th>Model:</th>                   <td>OLS</td>       <th>  Adj. R-squared:    </th> <td>   0.772</td> \n",
       "</tr>\n",
       "<tr>\n",
       "  <th>Method:</th>             <td>Least Squares</td>  <th>  F-statistic:       </th> <td>   414.7</td> \n",
       "</tr>\n",
       "<tr>\n",
       "  <th>Date:</th>             <td>Fri, 07 Feb 2025</td> <th>  Prob (F-statistic):</th> <td>9.43e-269</td>\n",
       "</tr>\n",
       "<tr>\n",
       "  <th>Time:</th>                 <td>12:59:59</td>     <th>  Log-Likelihood:    </th> <td> -10336.</td> \n",
       "</tr>\n",
       "<tr>\n",
       "  <th>No. Observations:</th>      <td>   856</td>      <th>  AIC:               </th> <td>2.069e+04</td>\n",
       "</tr>\n",
       "<tr>\n",
       "  <th>Df Residuals:</th>          <td>   848</td>      <th>  BIC:               </th> <td>2.073e+04</td>\n",
       "</tr>\n",
       "<tr>\n",
       "  <th>Df Model:</th>              <td>     7</td>      <th>                     </th>     <td> </td>    \n",
       "</tr>\n",
       "<tr>\n",
       "  <th>Covariance Type:</th>      <td>nonrobust</td>    <th>                     </th>     <td> </td>    \n",
       "</tr>\n",
       "</table>\n",
       "<table class=\"simpletable\">\n",
       "<tr>\n",
       "            <td></td>               <th>coef</th>     <th>std err</th>      <th>t</th>      <th>P>|t|</th>  <th>[0.025</th>    <th>0.975]</th>  \n",
       "</tr>\n",
       "<tr>\n",
       "  <th>Intercept</th>             <td>-1.379e+05</td> <td> 6903.293</td> <td>  -19.983</td> <td> 0.000</td> <td>-1.51e+05</td> <td>-1.24e+05</td>\n",
       "</tr>\n",
       "<tr>\n",
       "  <th>C(BldgType)[T.2fmCon]</th> <td>-3.402e+04</td> <td> 9961.456</td> <td>   -3.415</td> <td> 0.001</td> <td>-5.36e+04</td> <td>-1.45e+04</td>\n",
       "</tr>\n",
       "<tr>\n",
       "  <th>C(BldgType)[T.Duplex]</th> <td>-9149.7907</td> <td> 7910.993</td> <td>   -1.157</td> <td> 0.248</td> <td>-2.47e+04</td> <td> 6377.632</td>\n",
       "</tr>\n",
       "<tr>\n",
       "  <th>C(BldgType)[T.Twnhs]</th>  <td>-2.847e+04</td> <td> 1.01e+04</td> <td>   -2.832</td> <td> 0.005</td> <td>-4.82e+04</td> <td>-8736.436</td>\n",
       "</tr>\n",
       "<tr>\n",
       "  <th>C(BldgType)[T.TwnhsE]</th> <td>-1.103e+04</td> <td> 5948.819</td> <td>   -1.854</td> <td> 0.064</td> <td>-2.27e+04</td> <td>  648.230</td>\n",
       "</tr>\n",
       "<tr>\n",
       "  <th>GrLivArea</th>             <td>   57.3631</td> <td>    3.639</td> <td>   15.763</td> <td> 0.000</td> <td>   50.220</td> <td>   64.506</td>\n",
       "</tr>\n",
       "<tr>\n",
       "  <th>OverallQual</th>           <td> 3.699e+04</td> <td> 1415.272</td> <td>   26.137</td> <td> 0.000</td> <td> 3.42e+04</td> <td> 3.98e+04</td>\n",
       "</tr>\n",
       "<tr>\n",
       "  <th>LotArea</th>               <td>    1.0079</td> <td>    0.152</td> <td>    6.616</td> <td> 0.000</td> <td>    0.709</td> <td>    1.307</td>\n",
       "</tr>\n",
       "</table>\n",
       "<table class=\"simpletable\">\n",
       "<tr>\n",
       "  <th>Omnibus:</th>       <td>226.401</td> <th>  Durbin-Watson:     </th> <td>   1.793</td>\n",
       "</tr>\n",
       "<tr>\n",
       "  <th>Prob(Omnibus):</th> <td> 0.000</td>  <th>  Jarque-Bera (JB):  </th> <td>1543.620</td>\n",
       "</tr>\n",
       "<tr>\n",
       "  <th>Skew:</th>          <td> 1.018</td>  <th>  Prob(JB):          </th> <td>    0.00</td>\n",
       "</tr>\n",
       "<tr>\n",
       "  <th>Kurtosis:</th>      <td> 9.256</td>  <th>  Cond. No.          </th> <td>1.03e+05</td>\n",
       "</tr>\n",
       "</table><br/><br/>Notes:<br/>[1] Standard Errors assume that the covariance matrix of the errors is correctly specified.<br/>[2] The condition number is large, 1.03e+05. This might indicate that there are<br/>strong multicollinearity or other numerical problems."
      ],
      "text/latex": [
       "\\begin{center}\n",
       "\\begin{tabular}{lclc}\n",
       "\\toprule\n",
       "\\textbf{Dep. Variable:}        &    SalePrice     & \\textbf{  R-squared:         } &     0.774   \\\\\n",
       "\\textbf{Model:}                &       OLS        & \\textbf{  Adj. R-squared:    } &     0.772   \\\\\n",
       "\\textbf{Method:}               &  Least Squares   & \\textbf{  F-statistic:       } &     414.7   \\\\\n",
       "\\textbf{Date:}                 & Fri, 07 Feb 2025 & \\textbf{  Prob (F-statistic):} & 9.43e-269   \\\\\n",
       "\\textbf{Time:}                 &     12:59:59     & \\textbf{  Log-Likelihood:    } &   -10336.   \\\\\n",
       "\\textbf{No. Observations:}     &         856      & \\textbf{  AIC:               } & 2.069e+04   \\\\\n",
       "\\textbf{Df Residuals:}         &         848      & \\textbf{  BIC:               } & 2.073e+04   \\\\\n",
       "\\textbf{Df Model:}             &           7      & \\textbf{                     } &             \\\\\n",
       "\\textbf{Covariance Type:}      &    nonrobust     & \\textbf{                     } &             \\\\\n",
       "\\bottomrule\n",
       "\\end{tabular}\n",
       "\\begin{tabular}{lcccccc}\n",
       "                               & \\textbf{coef} & \\textbf{std err} & \\textbf{t} & \\textbf{P$> |$t$|$} & \\textbf{[0.025} & \\textbf{0.975]}  \\\\\n",
       "\\midrule\n",
       "\\textbf{Intercept}             &   -1.379e+05  &     6903.293     &   -19.983  &         0.000        &    -1.51e+05    &    -1.24e+05     \\\\\n",
       "\\textbf{C(BldgType)[T.2fmCon]} &   -3.402e+04  &     9961.456     &    -3.415  &         0.001        &    -5.36e+04    &    -1.45e+04     \\\\\n",
       "\\textbf{C(BldgType)[T.Duplex]} &   -9149.7907  &     7910.993     &    -1.157  &         0.248        &    -2.47e+04    &     6377.632     \\\\\n",
       "\\textbf{C(BldgType)[T.Twnhs]}  &   -2.847e+04  &     1.01e+04     &    -2.832  &         0.005        &    -4.82e+04    &    -8736.436     \\\\\n",
       "\\textbf{C(BldgType)[T.TwnhsE]} &   -1.103e+04  &     5948.819     &    -1.854  &         0.064        &    -2.27e+04    &      648.230     \\\\\n",
       "\\textbf{GrLivArea}             &      57.3631  &        3.639     &    15.763  &         0.000        &       50.220    &       64.506     \\\\\n",
       "\\textbf{OverallQual}           &    3.699e+04  &     1415.272     &    26.137  &         0.000        &     3.42e+04    &     3.98e+04     \\\\\n",
       "\\textbf{LotArea}               &       1.0079  &        0.152     &     6.616  &         0.000        &        0.709    &        1.307     \\\\\n",
       "\\bottomrule\n",
       "\\end{tabular}\n",
       "\\begin{tabular}{lclc}\n",
       "\\textbf{Omnibus:}       & 226.401 & \\textbf{  Durbin-Watson:     } &    1.793  \\\\\n",
       "\\textbf{Prob(Omnibus):} &   0.000 & \\textbf{  Jarque-Bera (JB):  } & 1543.620  \\\\\n",
       "\\textbf{Skew:}          &   1.018 & \\textbf{  Prob(JB):          } &     0.00  \\\\\n",
       "\\textbf{Kurtosis:}      &   9.256 & \\textbf{  Cond. No.          } & 1.03e+05  \\\\\n",
       "\\bottomrule\n",
       "\\end{tabular}\n",
       "%\\caption{OLS Regression Results}\n",
       "\\end{center}\n",
       "\n",
       "Notes: \\newline\n",
       " [1] Standard Errors assume that the covariance matrix of the errors is correctly specified. \\newline\n",
       " [2] The condition number is large, 1.03e+05. This might indicate that there are \\newline\n",
       " strong multicollinearity or other numerical problems."
      ],
      "text/plain": [
       "<class 'statsmodels.iolib.summary.Summary'>\n",
       "\"\"\"\n",
       "                            OLS Regression Results                            \n",
       "==============================================================================\n",
       "Dep. Variable:              SalePrice   R-squared:                       0.774\n",
       "Model:                            OLS   Adj. R-squared:                  0.772\n",
       "Method:                 Least Squares   F-statistic:                     414.7\n",
       "Date:                Fri, 07 Feb 2025   Prob (F-statistic):          9.43e-269\n",
       "Time:                        12:59:59   Log-Likelihood:                -10336.\n",
       "No. Observations:                 856   AIC:                         2.069e+04\n",
       "Df Residuals:                     848   BIC:                         2.073e+04\n",
       "Df Model:                           7                                         \n",
       "Covariance Type:            nonrobust                                         \n",
       "=========================================================================================\n",
       "                            coef    std err          t      P>|t|      [0.025      0.975]\n",
       "-----------------------------------------------------------------------------------------\n",
       "Intercept             -1.379e+05   6903.293    -19.983      0.000   -1.51e+05   -1.24e+05\n",
       "C(BldgType)[T.2fmCon] -3.402e+04   9961.456     -3.415      0.001   -5.36e+04   -1.45e+04\n",
       "C(BldgType)[T.Duplex] -9149.7907   7910.993     -1.157      0.248   -2.47e+04    6377.632\n",
       "C(BldgType)[T.Twnhs]  -2.847e+04   1.01e+04     -2.832      0.005   -4.82e+04   -8736.436\n",
       "C(BldgType)[T.TwnhsE] -1.103e+04   5948.819     -1.854      0.064   -2.27e+04     648.230\n",
       "GrLivArea                57.3631      3.639     15.763      0.000      50.220      64.506\n",
       "OverallQual            3.699e+04   1415.272     26.137      0.000    3.42e+04    3.98e+04\n",
       "LotArea                   1.0079      0.152      6.616      0.000       0.709       1.307\n",
       "==============================================================================\n",
       "Omnibus:                      226.401   Durbin-Watson:                   1.793\n",
       "Prob(Omnibus):                  0.000   Jarque-Bera (JB):             1543.620\n",
       "Skew:                           1.018   Prob(JB):                         0.00\n",
       "Kurtosis:                       9.256   Cond. No.                     1.03e+05\n",
       "==============================================================================\n",
       "\n",
       "Notes:\n",
       "[1] Standard Errors assume that the covariance matrix of the errors is correctly specified.\n",
       "[2] The condition number is large, 1.03e+05. This might indicate that there are\n",
       "strong multicollinearity or other numerical problems.\n",
       "\"\"\""
      ]
     },
     "execution_count": 4,
     "metadata": {},
     "output_type": "execute_result"
    }
   ],
   "source": [
    "model_refit_14 = smf.ols(formula = \"SalePrice ~ GrLivArea + OverallQual + LotArea + C(BldgType)\", data = train).fit()\n",
    "model_refit_14.summary()"
   ]
  },
  {
   "cell_type": "markdown",
   "metadata": {},
   "source": [
    "Q15"
   ]
  },
  {
   "cell_type": "code",
   "execution_count": 5,
   "metadata": {},
   "outputs": [
    {
     "data": {
      "text/html": [
       "<table class=\"simpletable\">\n",
       "<caption>OLS Regression Results</caption>\n",
       "<tr>\n",
       "  <th>Dep. Variable:</th>        <td>SalePrice</td>    <th>  R-squared:         </th> <td>   0.775</td> \n",
       "</tr>\n",
       "<tr>\n",
       "  <th>Model:</th>                   <td>OLS</td>       <th>  Adj. R-squared:    </th> <td>   0.774</td> \n",
       "</tr>\n",
       "<tr>\n",
       "  <th>Method:</th>             <td>Least Squares</td>  <th>  F-statistic:       </th> <td>   586.3</td> \n",
       "</tr>\n",
       "<tr>\n",
       "  <th>Date:</th>             <td>Fri, 07 Feb 2025</td> <th>  Prob (F-statistic):</th> <td>1.45e-272</td>\n",
       "</tr>\n",
       "<tr>\n",
       "  <th>Time:</th>                 <td>12:59:59</td>     <th>  Log-Likelihood:    </th> <td> -10334.</td> \n",
       "</tr>\n",
       "<tr>\n",
       "  <th>No. Observations:</th>      <td>   856</td>      <th>  AIC:               </th> <td>2.068e+04</td>\n",
       "</tr>\n",
       "<tr>\n",
       "  <th>Df Residuals:</th>          <td>   850</td>      <th>  BIC:               </th> <td>2.071e+04</td>\n",
       "</tr>\n",
       "<tr>\n",
       "  <th>Df Model:</th>              <td>     5</td>      <th>                     </th>     <td> </td>    \n",
       "</tr>\n",
       "<tr>\n",
       "  <th>Covariance Type:</th>      <td>nonrobust</td>    <th>                     </th>     <td> </td>    \n",
       "</tr>\n",
       "</table>\n",
       "<table class=\"simpletable\">\n",
       "<tr>\n",
       "                 <td></td>                   <th>coef</th>     <th>std err</th>      <th>t</th>      <th>P>|t|</th>  <th>[0.025</th>    <th>0.975]</th>  \n",
       "</tr>\n",
       "<tr>\n",
       "  <th>Intercept</th>                      <td>-1.389e+05</td> <td> 6627.029</td> <td>  -20.959</td> <td> 0.000</td> <td>-1.52e+05</td> <td>-1.26e+05</td>\n",
       "</tr>\n",
       "<tr>\n",
       "  <th>C(BldgType)[T.Other]</th>           <td> 3.506e+04</td> <td> 1.56e+04</td> <td>    2.242</td> <td> 0.025</td> <td> 4367.666</td> <td> 6.58e+04</td>\n",
       "</tr>\n",
       "<tr>\n",
       "  <th>GrLivArea</th>                      <td>   61.0313</td> <td>    3.655</td> <td>   16.700</td> <td> 0.000</td> <td>   53.858</td> <td>   68.204</td>\n",
       "</tr>\n",
       "<tr>\n",
       "  <th>GrLivArea:C(BldgType)[T.Other]</th> <td>  -34.1667</td> <td>   10.004</td> <td>   -3.415</td> <td> 0.001</td> <td>  -53.802</td> <td>  -14.532</td>\n",
       "</tr>\n",
       "<tr>\n",
       "  <th>OverallQual</th>                    <td> 3.624e+04</td> <td> 1297.350</td> <td>   27.932</td> <td> 0.000</td> <td> 3.37e+04</td> <td> 3.88e+04</td>\n",
       "</tr>\n",
       "<tr>\n",
       "  <th>LotArea</th>                        <td>    0.9942</td> <td>    0.150</td> <td>    6.629</td> <td> 0.000</td> <td>    0.700</td> <td>    1.289</td>\n",
       "</tr>\n",
       "</table>\n",
       "<table class=\"simpletable\">\n",
       "<tr>\n",
       "  <th>Omnibus:</th>       <td>211.504</td> <th>  Durbin-Watson:     </th> <td>   1.759</td> \n",
       "</tr>\n",
       "<tr>\n",
       "  <th>Prob(Omnibus):</th> <td> 0.000</td>  <th>  Jarque-Bera (JB):  </th> <td>1414.902</td> \n",
       "</tr>\n",
       "<tr>\n",
       "  <th>Skew:</th>          <td> 0.944</td>  <th>  Prob(JB):          </th> <td>5.73e-308</td>\n",
       "</tr>\n",
       "<tr>\n",
       "  <th>Kurtosis:</th>      <td> 9.009</td>  <th>  Cond. No.          </th> <td>1.58e+05</td> \n",
       "</tr>\n",
       "</table><br/><br/>Notes:<br/>[1] Standard Errors assume that the covariance matrix of the errors is correctly specified.<br/>[2] The condition number is large, 1.58e+05. This might indicate that there are<br/>strong multicollinearity or other numerical problems."
      ],
      "text/latex": [
       "\\begin{center}\n",
       "\\begin{tabular}{lclc}\n",
       "\\toprule\n",
       "\\textbf{Dep. Variable:}                 &    SalePrice     & \\textbf{  R-squared:         } &     0.775   \\\\\n",
       "\\textbf{Model:}                         &       OLS        & \\textbf{  Adj. R-squared:    } &     0.774   \\\\\n",
       "\\textbf{Method:}                        &  Least Squares   & \\textbf{  F-statistic:       } &     586.3   \\\\\n",
       "\\textbf{Date:}                          & Fri, 07 Feb 2025 & \\textbf{  Prob (F-statistic):} & 1.45e-272   \\\\\n",
       "\\textbf{Time:}                          &     12:59:59     & \\textbf{  Log-Likelihood:    } &   -10334.   \\\\\n",
       "\\textbf{No. Observations:}              &         856      & \\textbf{  AIC:               } & 2.068e+04   \\\\\n",
       "\\textbf{Df Residuals:}                  &         850      & \\textbf{  BIC:               } & 2.071e+04   \\\\\n",
       "\\textbf{Df Model:}                      &           5      & \\textbf{                     } &             \\\\\n",
       "\\textbf{Covariance Type:}               &    nonrobust     & \\textbf{                     } &             \\\\\n",
       "\\bottomrule\n",
       "\\end{tabular}\n",
       "\\begin{tabular}{lcccccc}\n",
       "                                        & \\textbf{coef} & \\textbf{std err} & \\textbf{t} & \\textbf{P$> |$t$|$} & \\textbf{[0.025} & \\textbf{0.975]}  \\\\\n",
       "\\midrule\n",
       "\\textbf{Intercept}                      &   -1.389e+05  &     6627.029     &   -20.959  &         0.000        &    -1.52e+05    &    -1.26e+05     \\\\\n",
       "\\textbf{C(BldgType)[T.Other]}           &    3.506e+04  &     1.56e+04     &     2.242  &         0.025        &     4367.666    &     6.58e+04     \\\\\n",
       "\\textbf{GrLivArea}                      &      61.0313  &        3.655     &    16.700  &         0.000        &       53.858    &       68.204     \\\\\n",
       "\\textbf{GrLivArea:C(BldgType)[T.Other]} &     -34.1667  &       10.004     &    -3.415  &         0.001        &      -53.802    &      -14.532     \\\\\n",
       "\\textbf{OverallQual}                    &    3.624e+04  &     1297.350     &    27.932  &         0.000        &     3.37e+04    &     3.88e+04     \\\\\n",
       "\\textbf{LotArea}                        &       0.9942  &        0.150     &     6.629  &         0.000        &        0.700    &        1.289     \\\\\n",
       "\\bottomrule\n",
       "\\end{tabular}\n",
       "\\begin{tabular}{lclc}\n",
       "\\textbf{Omnibus:}       & 211.504 & \\textbf{  Durbin-Watson:     } &     1.759  \\\\\n",
       "\\textbf{Prob(Omnibus):} &   0.000 & \\textbf{  Jarque-Bera (JB):  } &  1414.902  \\\\\n",
       "\\textbf{Skew:}          &   0.944 & \\textbf{  Prob(JB):          } & 5.73e-308  \\\\\n",
       "\\textbf{Kurtosis:}      &   9.009 & \\textbf{  Cond. No.          } &  1.58e+05  \\\\\n",
       "\\bottomrule\n",
       "\\end{tabular}\n",
       "%\\caption{OLS Regression Results}\n",
       "\\end{center}\n",
       "\n",
       "Notes: \\newline\n",
       " [1] Standard Errors assume that the covariance matrix of the errors is correctly specified. \\newline\n",
       " [2] The condition number is large, 1.58e+05. This might indicate that there are \\newline\n",
       " strong multicollinearity or other numerical problems."
      ],
      "text/plain": [
       "<class 'statsmodels.iolib.summary.Summary'>\n",
       "\"\"\"\n",
       "                            OLS Regression Results                            \n",
       "==============================================================================\n",
       "Dep. Variable:              SalePrice   R-squared:                       0.775\n",
       "Model:                            OLS   Adj. R-squared:                  0.774\n",
       "Method:                 Least Squares   F-statistic:                     586.3\n",
       "Date:                Fri, 07 Feb 2025   Prob (F-statistic):          1.45e-272\n",
       "Time:                        12:59:59   Log-Likelihood:                -10334.\n",
       "No. Observations:                 856   AIC:                         2.068e+04\n",
       "Df Residuals:                     850   BIC:                         2.071e+04\n",
       "Df Model:                           5                                         \n",
       "Covariance Type:            nonrobust                                         \n",
       "==================================================================================================\n",
       "                                     coef    std err          t      P>|t|      [0.025      0.975]\n",
       "--------------------------------------------------------------------------------------------------\n",
       "Intercept                      -1.389e+05   6627.029    -20.959      0.000   -1.52e+05   -1.26e+05\n",
       "C(BldgType)[T.Other]            3.506e+04   1.56e+04      2.242      0.025    4367.666    6.58e+04\n",
       "GrLivArea                         61.0313      3.655     16.700      0.000      53.858      68.204\n",
       "GrLivArea:C(BldgType)[T.Other]   -34.1667     10.004     -3.415      0.001     -53.802     -14.532\n",
       "OverallQual                     3.624e+04   1297.350     27.932      0.000    3.37e+04    3.88e+04\n",
       "LotArea                            0.9942      0.150      6.629      0.000       0.700       1.289\n",
       "==============================================================================\n",
       "Omnibus:                      211.504   Durbin-Watson:                   1.759\n",
       "Prob(Omnibus):                  0.000   Jarque-Bera (JB):             1414.902\n",
       "Skew:                           0.944   Prob(JB):                    5.73e-308\n",
       "Kurtosis:                       9.009   Cond. No.                     1.58e+05\n",
       "==============================================================================\n",
       "\n",
       "Notes:\n",
       "[1] Standard Errors assume that the covariance matrix of the errors is correctly specified.\n",
       "[2] The condition number is large, 1.58e+05. This might indicate that there are\n",
       "strong multicollinearity or other numerical problems.\n",
       "\"\"\""
      ]
     },
     "execution_count": 5,
     "metadata": {},
     "output_type": "execute_result"
    }
   ],
   "source": [
    "train_copy = train.copy()\n",
    "train_copy[\"BldgType\"] = np.where(train_copy[\"BldgType\"] == \"1Fam\", \"1Fam\", \"Other\")\n",
    "# model automatically expands X1*X2 to X1 + X2 + X1:X2\n",
    "model_refit = smf.ols(formula=\"SalePrice ~ GrLivArea * C(BldgType) + OverallQual + LotArea\", data=train_copy).fit()\n",
    "model_refit.summary()"
   ]
  },
  {
   "cell_type": "code",
   "execution_count": 6,
   "metadata": {},
   "outputs": [
    {
     "data": {
      "text/plain": [
       "np.float64(26.86454719640301)"
      ]
     },
     "execution_count": 6,
     "metadata": {},
     "output_type": "execute_result"
    }
   ],
   "source": [
    "model_refit.params[\"GrLivArea\"] + model_refit.params[\"GrLivArea:C(BldgType)[T.Other]\"]"
   ]
  },
  {
   "cell_type": "markdown",
   "metadata": {},
   "source": [
    "Q16"
   ]
  },
  {
   "cell_type": "code",
   "execution_count": 7,
   "metadata": {},
   "outputs": [
    {
     "name": "stdout",
     "output_type": "stream",
     "text": [
      "16189.598115529436\n"
     ]
    }
   ],
   "source": [
    "pred_diff = -(model_refit.params[\"C(BldgType)[T.Other]\"]+1500*model_refit.params[\"GrLivArea:C(BldgType)[T.Other]\"])\n",
    "\n",
    "print(pred_diff)"
   ]
  },
  {
   "cell_type": "markdown",
   "metadata": {},
   "source": [
    "Q17"
   ]
  },
  {
   "cell_type": "code",
   "execution_count": 8,
   "metadata": {},
   "outputs": [
    {
     "name": "stdout",
     "output_type": "stream",
     "text": [
      "41366.78832821682\n"
     ]
    }
   ],
   "source": [
    "test[\"BldgType\"] = np.where(test[\"BldgType\"] == \"1Fam\", \"1Fam\", \"Other\")\n",
    "\n",
    "preds = model_refit.predict(test)\n",
    "\n",
    "rmse = np.sqrt(mean_squared_error(test[\"SalePrice\"], preds))\n",
    "print(rmse)"
   ]
  },
  {
   "cell_type": "markdown",
   "metadata": {},
   "source": [
    "Q18"
   ]
  },
  {
   "cell_type": "code",
   "execution_count": 9,
   "metadata": {},
   "outputs": [
    {
     "ename": "PatsyError",
     "evalue": "predict requires that you use a DataFrame when predicting from a model\nthat was created using the formula api.\n\nThe original error message returned by patsy is:\nError converting data to categorical: observation with value 'Other' does not match any of the expected levels (expected: ['1Fam', '2fmCon', ..., 'Twnhs', 'TwnhsE'])\n    SalePrice ~ GrLivArea + OverallQual + LotArea + C(BldgType)\n                                                    ^^^^^^^^^^^",
     "output_type": "error",
     "traceback": [
      "\u001b[0;31m---------------------------------------------------------------------------\u001b[0m",
      "\u001b[0;31mKeyError\u001b[0m                                  Traceback (most recent call last)",
      "File \u001b[0;32m~/Downloads/Stat_303-2/.venv/lib/python3.12/site-packages/patsy/categorical.py:371\u001b[0m, in \u001b[0;36mcategorical_to_int\u001b[0;34m(data, levels, NA_action, origin)\u001b[0m\n\u001b[1;32m    370\u001b[0m \u001b[38;5;28;01mtry\u001b[39;00m:\n\u001b[0;32m--> 371\u001b[0m     out[i] \u001b[38;5;241m=\u001b[39m \u001b[43mlevel_to_int\u001b[49m\u001b[43m[\u001b[49m\u001b[43mvalue\u001b[49m\u001b[43m]\u001b[49m\n\u001b[1;32m    372\u001b[0m \u001b[38;5;28;01mexcept\u001b[39;00m \u001b[38;5;167;01mKeyError\u001b[39;00m:\n",
      "\u001b[0;31mKeyError\u001b[0m: 'Other'",
      "\nDuring handling of the above exception, another exception occurred:\n",
      "\u001b[0;31mPatsyError\u001b[0m                                Traceback (most recent call last)",
      "File \u001b[0;32m~/Downloads/Stat_303-2/.venv/lib/python3.12/site-packages/statsmodels/base/model.py:1102\u001b[0m, in \u001b[0;36mResults._transform_predict_exog\u001b[0;34m(self, exog, transform)\u001b[0m\n\u001b[1;32m   1101\u001b[0m \u001b[38;5;28;01mtry\u001b[39;00m:\n\u001b[0;32m-> 1102\u001b[0m     exog \u001b[38;5;241m=\u001b[39m \u001b[43mdmatrix\u001b[49m\u001b[43m(\u001b[49m\u001b[43mdesign_info\u001b[49m\u001b[43m,\u001b[49m\u001b[43m \u001b[49m\u001b[43mexog\u001b[49m\u001b[43m,\u001b[49m\u001b[43m \u001b[49m\u001b[43mreturn_type\u001b[49m\u001b[38;5;241;43m=\u001b[39;49m\u001b[38;5;124;43m\"\u001b[39;49m\u001b[38;5;124;43mdataframe\u001b[39;49m\u001b[38;5;124;43m\"\u001b[39;49m\u001b[43m)\u001b[49m\n\u001b[1;32m   1103\u001b[0m \u001b[38;5;28;01mexcept\u001b[39;00m \u001b[38;5;167;01mException\u001b[39;00m \u001b[38;5;28;01mas\u001b[39;00m exc:\n",
      "File \u001b[0;32m~/Downloads/Stat_303-2/.venv/lib/python3.12/site-packages/patsy/highlevel.py:296\u001b[0m, in \u001b[0;36mdmatrix\u001b[0;34m(formula_like, data, eval_env, NA_action, return_type)\u001b[0m\n\u001b[1;32m    295\u001b[0m eval_env \u001b[38;5;241m=\u001b[39m EvalEnvironment\u001b[38;5;241m.\u001b[39mcapture(eval_env, reference\u001b[38;5;241m=\u001b[39m\u001b[38;5;241m1\u001b[39m)\n\u001b[0;32m--> 296\u001b[0m (lhs, rhs) \u001b[38;5;241m=\u001b[39m \u001b[43m_do_highlevel_design\u001b[49m\u001b[43m(\u001b[49m\n\u001b[1;32m    297\u001b[0m \u001b[43m    \u001b[49m\u001b[43mformula_like\u001b[49m\u001b[43m,\u001b[49m\u001b[43m \u001b[49m\u001b[43mdata\u001b[49m\u001b[43m,\u001b[49m\u001b[43m \u001b[49m\u001b[43meval_env\u001b[49m\u001b[43m,\u001b[49m\u001b[43m \u001b[49m\u001b[43mNA_action\u001b[49m\u001b[43m,\u001b[49m\u001b[43m \u001b[49m\u001b[43mreturn_type\u001b[49m\n\u001b[1;32m    298\u001b[0m \u001b[43m\u001b[49m\u001b[43m)\u001b[49m\n\u001b[1;32m    299\u001b[0m \u001b[38;5;28;01mif\u001b[39;00m lhs\u001b[38;5;241m.\u001b[39mshape[\u001b[38;5;241m1\u001b[39m] \u001b[38;5;241m!=\u001b[39m \u001b[38;5;241m0\u001b[39m:\n",
      "File \u001b[0;32m~/Downloads/Stat_303-2/.venv/lib/python3.12/site-packages/patsy/highlevel.py:168\u001b[0m, in \u001b[0;36m_do_highlevel_design\u001b[0;34m(formula_like, data, eval_env, NA_action, return_type)\u001b[0m\n\u001b[1;32m    167\u001b[0m \u001b[38;5;28;01mif\u001b[39;00m design_infos \u001b[38;5;129;01mis\u001b[39;00m \u001b[38;5;129;01mnot\u001b[39;00m \u001b[38;5;28;01mNone\u001b[39;00m:\n\u001b[0;32m--> 168\u001b[0m     \u001b[38;5;28;01mreturn\u001b[39;00m \u001b[43mbuild_design_matrices\u001b[49m\u001b[43m(\u001b[49m\n\u001b[1;32m    169\u001b[0m \u001b[43m        \u001b[49m\u001b[43mdesign_infos\u001b[49m\u001b[43m,\u001b[49m\u001b[43m \u001b[49m\u001b[43mdata\u001b[49m\u001b[43m,\u001b[49m\u001b[43m \u001b[49m\u001b[43mNA_action\u001b[49m\u001b[38;5;241;43m=\u001b[39;49m\u001b[43mNA_action\u001b[49m\u001b[43m,\u001b[49m\u001b[43m \u001b[49m\u001b[43mreturn_type\u001b[49m\u001b[38;5;241;43m=\u001b[39;49m\u001b[43mreturn_type\u001b[49m\n\u001b[1;32m    170\u001b[0m \u001b[43m    \u001b[49m\u001b[43m)\u001b[49m\n\u001b[1;32m    171\u001b[0m \u001b[38;5;28;01melse\u001b[39;00m:\n\u001b[1;32m    172\u001b[0m     \u001b[38;5;66;03m# No builders, but maybe we can still get matrices\u001b[39;00m\n",
      "File \u001b[0;32m~/Downloads/Stat_303-2/.venv/lib/python3.12/site-packages/patsy/build.py:954\u001b[0m, in \u001b[0;36mbuild_design_matrices\u001b[0;34m(design_infos, data, NA_action, return_type, dtype)\u001b[0m\n\u001b[1;32m    953\u001b[0m \u001b[38;5;28;01mif\u001b[39;00m factor_info \u001b[38;5;129;01mnot\u001b[39;00m \u001b[38;5;129;01min\u001b[39;00m factor_info_to_values:\n\u001b[0;32m--> 954\u001b[0m     value, is_NA \u001b[38;5;241m=\u001b[39m \u001b[43m_eval_factor\u001b[49m\u001b[43m(\u001b[49m\u001b[43mfactor_info\u001b[49m\u001b[43m,\u001b[49m\u001b[43m \u001b[49m\u001b[43mdata\u001b[49m\u001b[43m,\u001b[49m\u001b[43m \u001b[49m\u001b[43mNA_action\u001b[49m\u001b[43m)\u001b[49m\n\u001b[1;32m    955\u001b[0m     factor_info_to_isNAs[factor_info] \u001b[38;5;241m=\u001b[39m is_NA\n",
      "File \u001b[0;32m~/Downloads/Stat_303-2/.venv/lib/python3.12/site-packages/patsy/build.py:90\u001b[0m, in \u001b[0;36m_eval_factor\u001b[0;34m(factor_info, data, NA_action)\u001b[0m\n\u001b[1;32m     89\u001b[0m \u001b[38;5;28;01massert\u001b[39;00m factor_info\u001b[38;5;241m.\u001b[39mtype \u001b[38;5;241m==\u001b[39m \u001b[38;5;124m\"\u001b[39m\u001b[38;5;124mcategorical\u001b[39m\u001b[38;5;124m\"\u001b[39m\n\u001b[0;32m---> 90\u001b[0m result \u001b[38;5;241m=\u001b[39m \u001b[43mcategorical_to_int\u001b[49m\u001b[43m(\u001b[49m\n\u001b[1;32m     91\u001b[0m \u001b[43m    \u001b[49m\u001b[43mresult\u001b[49m\u001b[43m,\u001b[49m\u001b[43m \u001b[49m\u001b[43mfactor_info\u001b[49m\u001b[38;5;241;43m.\u001b[39;49m\u001b[43mcategories\u001b[49m\u001b[43m,\u001b[49m\u001b[43m \u001b[49m\u001b[43mNA_action\u001b[49m\u001b[43m,\u001b[49m\u001b[43m \u001b[49m\u001b[43morigin\u001b[49m\u001b[38;5;241;43m=\u001b[39;49m\u001b[43mfactor_info\u001b[49m\u001b[38;5;241;43m.\u001b[39;49m\u001b[43mfactor\u001b[49m\n\u001b[1;32m     92\u001b[0m \u001b[43m\u001b[49m\u001b[43m)\u001b[49m\n\u001b[1;32m     93\u001b[0m \u001b[38;5;28;01massert\u001b[39;00m result\u001b[38;5;241m.\u001b[39mndim \u001b[38;5;241m==\u001b[39m \u001b[38;5;241m1\u001b[39m\n",
      "File \u001b[0;32m~/Downloads/Stat_303-2/.venv/lib/python3.12/site-packages/patsy/categorical.py:382\u001b[0m, in \u001b[0;36mcategorical_to_int\u001b[0;34m(data, levels, NA_action, origin)\u001b[0m\n\u001b[1;32m    381\u001b[0m     level_str \u001b[38;5;241m=\u001b[39m \u001b[38;5;124m\"\u001b[39m\u001b[38;5;124m[\u001b[39m\u001b[38;5;132;01m%s\u001b[39;00m\u001b[38;5;124m]\u001b[39m\u001b[38;5;124m\"\u001b[39m \u001b[38;5;241m%\u001b[39m (\u001b[38;5;124m\"\u001b[39m\u001b[38;5;124m, \u001b[39m\u001b[38;5;124m\"\u001b[39m\u001b[38;5;241m.\u001b[39mjoin(level_strs))\n\u001b[0;32m--> 382\u001b[0m     \u001b[38;5;28;01mraise\u001b[39;00m PatsyError(\n\u001b[1;32m    383\u001b[0m         \u001b[38;5;124m\"\u001b[39m\u001b[38;5;124mError converting data to categorical: \u001b[39m\u001b[38;5;124m\"\u001b[39m\n\u001b[1;32m    384\u001b[0m         \u001b[38;5;124m\"\u001b[39m\u001b[38;5;124mobservation with value \u001b[39m\u001b[38;5;132;01m%r\u001b[39;00m\u001b[38;5;124m does not match \u001b[39m\u001b[38;5;124m\"\u001b[39m\n\u001b[1;32m    385\u001b[0m         \u001b[38;5;124m\"\u001b[39m\u001b[38;5;124many of the expected levels (expected: \u001b[39m\u001b[38;5;132;01m%s\u001b[39;00m\u001b[38;5;124m)\u001b[39m\u001b[38;5;124m\"\u001b[39m \u001b[38;5;241m%\u001b[39m (value, level_str),\n\u001b[1;32m    386\u001b[0m         origin,\n\u001b[1;32m    387\u001b[0m     )\n\u001b[1;32m    388\u001b[0m \u001b[38;5;28;01mexcept\u001b[39;00m \u001b[38;5;167;01mTypeError\u001b[39;00m:\n",
      "\u001b[0;31mPatsyError\u001b[0m: Error converting data to categorical: observation with value 'Other' does not match any of the expected levels (expected: ['1Fam', '2fmCon', ..., 'Twnhs', 'TwnhsE'])\n    SalePrice ~ GrLivArea + OverallQual + LotArea + C(BldgType)\n                                                    ^^^^^^^^^^^",
      "\nDuring handling of the above exception, another exception occurred:\n",
      "\u001b[0;31mPatsyError\u001b[0m                                Traceback (most recent call last)",
      "Cell \u001b[0;32mIn[9], line 2\u001b[0m\n\u001b[1;32m      1\u001b[0m residuals \u001b[38;5;241m=\u001b[39m model_refit_14\u001b[38;5;241m.\u001b[39mresid\n\u001b[0;32m----> 2\u001b[0m y_pred \u001b[38;5;241m=\u001b[39m \u001b[43mmodel_refit_14\u001b[49m\u001b[38;5;241;43m.\u001b[39;49m\u001b[43mpredict\u001b[49m\u001b[43m(\u001b[49m\u001b[43mtest\u001b[49m\u001b[43m)\u001b[49m\n\u001b[1;32m      3\u001b[0m sns\u001b[38;5;241m.\u001b[39mscatterplot(x \u001b[38;5;241m=\u001b[39m y_pred, y \u001b[38;5;241m=\u001b[39m residuals)\n",
      "File \u001b[0;32m~/Downloads/Stat_303-2/.venv/lib/python3.12/site-packages/statsmodels/base/model.py:1171\u001b[0m, in \u001b[0;36mResults.predict\u001b[0;34m(self, exog, transform, *args, **kwargs)\u001b[0m\n\u001b[1;32m   1126\u001b[0m \u001b[38;5;28;01mdef\u001b[39;00m\u001b[38;5;250m \u001b[39m\u001b[38;5;21mpredict\u001b[39m(\u001b[38;5;28mself\u001b[39m, exog\u001b[38;5;241m=\u001b[39m\u001b[38;5;28;01mNone\u001b[39;00m, transform\u001b[38;5;241m=\u001b[39m\u001b[38;5;28;01mTrue\u001b[39;00m, \u001b[38;5;241m*\u001b[39margs, \u001b[38;5;241m*\u001b[39m\u001b[38;5;241m*\u001b[39mkwargs):\n\u001b[1;32m   1127\u001b[0m \u001b[38;5;250m    \u001b[39m\u001b[38;5;124;03m\"\"\"\u001b[39;00m\n\u001b[1;32m   1128\u001b[0m \u001b[38;5;124;03m    Call self.model.predict with self.params as the first argument.\u001b[39;00m\n\u001b[1;32m   1129\u001b[0m \n\u001b[0;32m   (...)\u001b[0m\n\u001b[1;32m   1169\u001b[0m \u001b[38;5;124;03m    returned prediction.\u001b[39;00m\n\u001b[1;32m   1170\u001b[0m \u001b[38;5;124;03m    \"\"\"\u001b[39;00m\n\u001b[0;32m-> 1171\u001b[0m     exog, exog_index \u001b[38;5;241m=\u001b[39m \u001b[38;5;28;43mself\u001b[39;49m\u001b[38;5;241;43m.\u001b[39;49m\u001b[43m_transform_predict_exog\u001b[49m\u001b[43m(\u001b[49m\u001b[43mexog\u001b[49m\u001b[43m,\u001b[49m\n\u001b[1;32m   1172\u001b[0m \u001b[43m                                                    \u001b[49m\u001b[43mtransform\u001b[49m\u001b[38;5;241;43m=\u001b[39;49m\u001b[43mtransform\u001b[49m\u001b[43m)\u001b[49m\n\u001b[1;32m   1174\u001b[0m     predict_results \u001b[38;5;241m=\u001b[39m \u001b[38;5;28mself\u001b[39m\u001b[38;5;241m.\u001b[39mmodel\u001b[38;5;241m.\u001b[39mpredict(\u001b[38;5;28mself\u001b[39m\u001b[38;5;241m.\u001b[39mparams, exog, \u001b[38;5;241m*\u001b[39margs,\n\u001b[1;32m   1175\u001b[0m                                          \u001b[38;5;241m*\u001b[39m\u001b[38;5;241m*\u001b[39mkwargs)\n\u001b[1;32m   1177\u001b[0m     \u001b[38;5;28;01mif\u001b[39;00m exog_index \u001b[38;5;129;01mis\u001b[39;00m \u001b[38;5;129;01mnot\u001b[39;00m \u001b[38;5;28;01mNone\u001b[39;00m \u001b[38;5;129;01mand\u001b[39;00m \u001b[38;5;129;01mnot\u001b[39;00m \u001b[38;5;28mhasattr\u001b[39m(predict_results,\n\u001b[1;32m   1178\u001b[0m                                               \u001b[38;5;124m'\u001b[39m\u001b[38;5;124mpredicted_values\u001b[39m\u001b[38;5;124m'\u001b[39m):\n",
      "File \u001b[0;32m~/Downloads/Stat_303-2/.venv/lib/python3.12/site-packages/statsmodels/base/model.py:1109\u001b[0m, in \u001b[0;36mResults._transform_predict_exog\u001b[0;34m(self, exog, transform)\u001b[0m\n\u001b[1;32m   1103\u001b[0m \u001b[38;5;28;01mexcept\u001b[39;00m \u001b[38;5;167;01mException\u001b[39;00m \u001b[38;5;28;01mas\u001b[39;00m exc:\n\u001b[1;32m   1104\u001b[0m     msg \u001b[38;5;241m=\u001b[39m (\u001b[38;5;124m'\u001b[39m\u001b[38;5;124mpredict requires that you use a DataFrame when \u001b[39m\u001b[38;5;124m'\u001b[39m\n\u001b[1;32m   1105\u001b[0m            \u001b[38;5;124m'\u001b[39m\u001b[38;5;124mpredicting from a model\u001b[39m\u001b[38;5;130;01m\\n\u001b[39;00m\u001b[38;5;124mthat was created using the \u001b[39m\u001b[38;5;124m'\u001b[39m\n\u001b[1;32m   1106\u001b[0m            \u001b[38;5;124m'\u001b[39m\u001b[38;5;124mformula api.\u001b[39m\u001b[38;5;124m'\u001b[39m\n\u001b[1;32m   1107\u001b[0m            \u001b[38;5;124m'\u001b[39m\u001b[38;5;130;01m\\n\u001b[39;00m\u001b[38;5;130;01m\\n\u001b[39;00m\u001b[38;5;124mThe original error message returned by patsy is:\u001b[39m\u001b[38;5;130;01m\\n\u001b[39;00m\u001b[38;5;124m'\u001b[39m\n\u001b[1;32m   1108\u001b[0m            \u001b[38;5;124m'\u001b[39m\u001b[38;5;132;01m{}\u001b[39;00m\u001b[38;5;124m'\u001b[39m\u001b[38;5;241m.\u001b[39mformat(\u001b[38;5;28mstr\u001b[39m(\u001b[38;5;28mstr\u001b[39m(exc))))\n\u001b[0;32m-> 1109\u001b[0m     \u001b[38;5;28;01mraise\u001b[39;00m exc\u001b[38;5;241m.\u001b[39m\u001b[38;5;18m__class__\u001b[39m(msg)\n\u001b[1;32m   1110\u001b[0m \u001b[38;5;28;01mif\u001b[39;00m orig_exog_len \u001b[38;5;241m>\u001b[39m \u001b[38;5;28mlen\u001b[39m(exog) \u001b[38;5;129;01mand\u001b[39;00m \u001b[38;5;129;01mnot\u001b[39;00m is_dict:\n\u001b[1;32m   1111\u001b[0m     \u001b[38;5;28;01mif\u001b[39;00m exog_index \u001b[38;5;129;01mis\u001b[39;00m \u001b[38;5;28;01mNone\u001b[39;00m:\n",
      "\u001b[0;31mPatsyError\u001b[0m: predict requires that you use a DataFrame when predicting from a model\nthat was created using the formula api.\n\nThe original error message returned by patsy is:\nError converting data to categorical: observation with value 'Other' does not match any of the expected levels (expected: ['1Fam', '2fmCon', ..., 'Twnhs', 'TwnhsE'])\n    SalePrice ~ GrLivArea + OverallQual + LotArea + C(BldgType)\n                                                    ^^^^^^^^^^^"
     ]
    }
   ],
   "source": [
    "residuals = model_refit_14.resid\n",
    "y_pred = model_refit_14.predict(test)\n",
    "sns.scatterplot(x = y_pred, y = residuals)\n"
   ]
  },
  {
   "cell_type": "markdown",
   "metadata": {},
   "source": [
    "Q19"
   ]
  },
  {
   "cell_type": "code",
   "execution_count": 19,
   "metadata": {},
   "outputs": [
    {
     "name": "stdout",
     "output_type": "stream",
     "text": [
      "41434.0131007605\n"
     ]
    }
   ],
   "source": [
    "model_sk = LinearRegression()\n",
    "\n",
    "train_encoded = pd.get_dummies(train[[\"GrLivArea\", \"OverallQual\", \"LotArea\", \"BldgType\"]], drop_first=True)\n",
    "model_sk.fit(train_encoded, train[\"SalePrice\"])\n",
    "\n",
    "test_encoded = pd.get_dummies(test[[\"GrLivArea\", \"OverallQual\", \"LotArea\", \"BldgType\"]], drop_first=True)\n",
    "predictions = model_sk.predict(test_encoded)\n",
    "\n",
    "rmse = np.sqrt(mean_squared_error(test[\"SalePrice\"], predictions))\n",
    "print(rmse)\n",
    "\n"
   ]
  }
 ],
 "metadata": {
  "kernelspec": {
   "display_name": ".venv",
   "language": "python",
   "name": "python3"
  },
  "language_info": {
   "codemirror_mode": {
    "name": "ipython",
    "version": 3
   },
   "file_extension": ".py",
   "mimetype": "text/x-python",
   "name": "python",
   "nbconvert_exporter": "python",
   "pygments_lexer": "ipython3",
   "version": "3.12.1"
  }
 },
 "nbformat": 4,
 "nbformat_minor": 2
}
