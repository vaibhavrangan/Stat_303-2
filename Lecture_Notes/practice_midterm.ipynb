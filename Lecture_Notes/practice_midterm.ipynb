{
 "cells": [
  {
   "cell_type": "code",
   "execution_count": 23,
   "metadata": {},
   "outputs": [
    {
     "data": {
      "text/html": [
       "<div>\n",
       "<style scoped>\n",
       "    .dataframe tbody tr th:only-of-type {\n",
       "        vertical-align: middle;\n",
       "    }\n",
       "\n",
       "    .dataframe tbody tr th {\n",
       "        vertical-align: top;\n",
       "    }\n",
       "\n",
       "    .dataframe thead th {\n",
       "        text-align: right;\n",
       "    }\n",
       "</style>\n",
       "<table border=\"1\" class=\"dataframe\">\n",
       "  <thead>\n",
       "    <tr style=\"text-align: right;\">\n",
       "      <th></th>\n",
       "      <th>Id</th>\n",
       "      <th>BldgType</th>\n",
       "      <th>HouseStyle</th>\n",
       "      <th>OverallQual</th>\n",
       "      <th>GrLivArea</th>\n",
       "      <th>SalePrice</th>\n",
       "      <th>Neighborhood</th>\n",
       "      <th>LotArea</th>\n",
       "      <th>TotRmsAbvGrd</th>\n",
       "    </tr>\n",
       "  </thead>\n",
       "  <tbody>\n",
       "    <tr>\n",
       "      <th>0</th>\n",
       "      <td>15</td>\n",
       "      <td>1Fam</td>\n",
       "      <td>1Story</td>\n",
       "      <td>6</td>\n",
       "      <td>1253</td>\n",
       "      <td>157000</td>\n",
       "      <td>NAmes</td>\n",
       "      <td>10920</td>\n",
       "      <td>5</td>\n",
       "    </tr>\n",
       "    <tr>\n",
       "      <th>1</th>\n",
       "      <td>17</td>\n",
       "      <td>1Fam</td>\n",
       "      <td>1Story</td>\n",
       "      <td>6</td>\n",
       "      <td>1004</td>\n",
       "      <td>149000</td>\n",
       "      <td>NAmes</td>\n",
       "      <td>11241</td>\n",
       "      <td>5</td>\n",
       "    </tr>\n",
       "    <tr>\n",
       "      <th>2</th>\n",
       "      <td>20</td>\n",
       "      <td>1Fam</td>\n",
       "      <td>1Story</td>\n",
       "      <td>5</td>\n",
       "      <td>1339</td>\n",
       "      <td>139000</td>\n",
       "      <td>NAmes</td>\n",
       "      <td>7560</td>\n",
       "      <td>6</td>\n",
       "    </tr>\n",
       "    <tr>\n",
       "      <th>3</th>\n",
       "      <td>27</td>\n",
       "      <td>1Fam</td>\n",
       "      <td>1Story</td>\n",
       "      <td>5</td>\n",
       "      <td>900</td>\n",
       "      <td>134800</td>\n",
       "      <td>NAmes</td>\n",
       "      <td>7200</td>\n",
       "      <td>5</td>\n",
       "    </tr>\n",
       "    <tr>\n",
       "      <th>4</th>\n",
       "      <td>29</td>\n",
       "      <td>1Fam</td>\n",
       "      <td>1Story</td>\n",
       "      <td>5</td>\n",
       "      <td>1600</td>\n",
       "      <td>207500</td>\n",
       "      <td>NAmes</td>\n",
       "      <td>16321</td>\n",
       "      <td>6</td>\n",
       "    </tr>\n",
       "  </tbody>\n",
       "</table>\n",
       "</div>"
      ],
      "text/plain": [
       "   Id BldgType HouseStyle  OverallQual  GrLivArea  SalePrice Neighborhood  \\\n",
       "0  15     1Fam     1Story            6       1253     157000        NAmes   \n",
       "1  17     1Fam     1Story            6       1004     149000        NAmes   \n",
       "2  20     1Fam     1Story            5       1339     139000        NAmes   \n",
       "3  27     1Fam     1Story            5        900     134800        NAmes   \n",
       "4  29     1Fam     1Story            5       1600     207500        NAmes   \n",
       "\n",
       "   LotArea  TotRmsAbvGrd  \n",
       "0    10920             5  \n",
       "1    11241             5  \n",
       "2     7560             6  \n",
       "3     7200             5  \n",
       "4    16321             6  "
      ]
     },
     "execution_count": 23,
     "metadata": {},
     "output_type": "execute_result"
    }
   ],
   "source": [
    "import pandas as pd\n",
    "import numpy as np\n",
    "import matplotlib.pyplot as plt\n",
    "import seaborn as sns\n",
    "\n",
    "import statsmodels.formula.api as smf\n",
    "import statsmodels.api as sm\n",
    "\n",
    "import sklearn\n",
    "from sklearn.linear_model import LinearRegression\n",
    "from sklearn.metrics import mean_squared_error, mean_absolute_error, r2_score\n",
    "\n",
    "train = pd.read_csv(\"/Users/vaibhavrangan/Downloads/Stat_303-2/Datasets/housing_data_train.csv\")\n",
    "test = pd.read_csv(\"/Users/vaibhavrangan/Downloads/Stat_303-2/Datasets/housing_data_test.csv\")\n",
    "\n",
    "train.head()"
   ]
  },
  {
   "cell_type": "markdown",
   "metadata": {},
   "source": [
    "Q12"
   ]
  },
  {
   "cell_type": "code",
   "execution_count": 24,
   "metadata": {},
   "outputs": [
    {
     "name": "stdout",
     "output_type": "stream",
     "text": [
      "                            OLS Regression Results                            \n",
      "==============================================================================\n",
      "Dep. Variable:              SalePrice   R-squared:                       0.769\n",
      "Model:                            OLS   Adj. R-squared:                  0.768\n",
      "Method:                 Least Squares   F-statistic:                     707.2\n",
      "Date:                Wed, 05 Feb 2025   Prob (F-statistic):          8.83e-269\n",
      "Time:                        16:25:53   Log-Likelihood:                -10346.\n",
      "No. Observations:                 856   AIC:                         2.070e+04\n",
      "Df Residuals:                     851   BIC:                         2.073e+04\n",
      "Df Model:                           4                                         \n",
      "Covariance Type:            nonrobust                                         \n",
      "================================================================================\n",
      "                   coef    std err          t      P>|t|      [0.025      0.975]\n",
      "--------------------------------------------------------------------------------\n",
      "Intercept    -1.318e+05   8349.223    -15.786      0.000   -1.48e+05   -1.15e+05\n",
      "GrLivArea       66.0374      5.650     11.687      0.000      54.947      77.128\n",
      "OverallQual   3.674e+04   1297.740     28.308      0.000    3.42e+04    3.93e+04\n",
      "LotArea          1.0524      0.151      6.963      0.000       0.756       1.349\n",
      "TotRmsAbvGrd -3190.0280   1580.487     -2.018      0.044   -6292.138     -87.918\n",
      "==============================================================================\n",
      "Omnibus:                      220.950   Durbin-Watson:                   1.778\n",
      "Prob(Omnibus):                  0.000   Jarque-Bera (JB):             1471.153\n",
      "Skew:                           0.996   Prob(JB):                         0.00\n",
      "Kurtosis:                       9.106   Cond. No.                     8.40e+04\n",
      "==============================================================================\n",
      "\n",
      "Notes:\n",
      "[1] Standard Errors assume that the covariance matrix of the errors is correctly specified.\n",
      "[2] The condition number is large, 8.4e+04. This might indicate that there are\n",
      "strong multicollinearity or other numerical problems.\n"
     ]
    }
   ],
   "source": [
    "model = smf.ols(formula = \"SalePrice ~ GrLivArea + OverallQual + LotArea + TotRmsAbvGrd\", data = train).fit()\n",
    "# fit model with 1% significance level\n",
    "\n",
    "print(model.summary())"
   ]
  },
  {
   "cell_type": "markdown",
   "metadata": {},
   "source": [
    "Q13"
   ]
  },
  {
   "cell_type": "code",
   "execution_count": 25,
   "metadata": {},
   "outputs": [
    {
     "name": "stdout",
     "output_type": "stream",
     "text": [
      "43061.08396927368\n"
     ]
    }
   ],
   "source": [
    "rss = np.sum(model.resid ** 2)\n",
    "df_res = model.df_resid\n",
    "rse = np.sqrt(rss / df_res)\n",
    "print(rse)"
   ]
  },
  {
   "cell_type": "markdown",
   "metadata": {},
   "source": [
    "Q14"
   ]
  },
  {
   "cell_type": "code",
   "execution_count": 26,
   "metadata": {},
   "outputs": [
    {
     "data": {
      "text/html": [
       "<table class=\"simpletable\">\n",
       "<caption>OLS Regression Results</caption>\n",
       "<tr>\n",
       "  <th>Dep. Variable:</th>        <td>SalePrice</td>    <th>  R-squared:         </th> <td>   0.774</td> \n",
       "</tr>\n",
       "<tr>\n",
       "  <th>Model:</th>                   <td>OLS</td>       <th>  Adj. R-squared:    </th> <td>   0.772</td> \n",
       "</tr>\n",
       "<tr>\n",
       "  <th>Method:</th>             <td>Least Squares</td>  <th>  F-statistic:       </th> <td>   414.7</td> \n",
       "</tr>\n",
       "<tr>\n",
       "  <th>Date:</th>             <td>Wed, 05 Feb 2025</td> <th>  Prob (F-statistic):</th> <td>9.43e-269</td>\n",
       "</tr>\n",
       "<tr>\n",
       "  <th>Time:</th>                 <td>16:26:01</td>     <th>  Log-Likelihood:    </th> <td> -10336.</td> \n",
       "</tr>\n",
       "<tr>\n",
       "  <th>No. Observations:</th>      <td>   856</td>      <th>  AIC:               </th> <td>2.069e+04</td>\n",
       "</tr>\n",
       "<tr>\n",
       "  <th>Df Residuals:</th>          <td>   848</td>      <th>  BIC:               </th> <td>2.073e+04</td>\n",
       "</tr>\n",
       "<tr>\n",
       "  <th>Df Model:</th>              <td>     7</td>      <th>                     </th>     <td> </td>    \n",
       "</tr>\n",
       "<tr>\n",
       "  <th>Covariance Type:</th>      <td>nonrobust</td>    <th>                     </th>     <td> </td>    \n",
       "</tr>\n",
       "</table>\n",
       "<table class=\"simpletable\">\n",
       "<tr>\n",
       "            <td></td>               <th>coef</th>     <th>std err</th>      <th>t</th>      <th>P>|t|</th>  <th>[0.025</th>    <th>0.975]</th>  \n",
       "</tr>\n",
       "<tr>\n",
       "  <th>Intercept</th>             <td>-1.379e+05</td> <td> 6903.293</td> <td>  -19.983</td> <td> 0.000</td> <td>-1.51e+05</td> <td>-1.24e+05</td>\n",
       "</tr>\n",
       "<tr>\n",
       "  <th>C(BldgType)[T.2fmCon]</th> <td>-3.402e+04</td> <td> 9961.456</td> <td>   -3.415</td> <td> 0.001</td> <td>-5.36e+04</td> <td>-1.45e+04</td>\n",
       "</tr>\n",
       "<tr>\n",
       "  <th>C(BldgType)[T.Duplex]</th> <td>-9149.7907</td> <td> 7910.993</td> <td>   -1.157</td> <td> 0.248</td> <td>-2.47e+04</td> <td> 6377.632</td>\n",
       "</tr>\n",
       "<tr>\n",
       "  <th>C(BldgType)[T.Twnhs]</th>  <td>-2.847e+04</td> <td> 1.01e+04</td> <td>   -2.832</td> <td> 0.005</td> <td>-4.82e+04</td> <td>-8736.436</td>\n",
       "</tr>\n",
       "<tr>\n",
       "  <th>C(BldgType)[T.TwnhsE]</th> <td>-1.103e+04</td> <td> 5948.819</td> <td>   -1.854</td> <td> 0.064</td> <td>-2.27e+04</td> <td>  648.230</td>\n",
       "</tr>\n",
       "<tr>\n",
       "  <th>GrLivArea</th>             <td>   57.3631</td> <td>    3.639</td> <td>   15.763</td> <td> 0.000</td> <td>   50.220</td> <td>   64.506</td>\n",
       "</tr>\n",
       "<tr>\n",
       "  <th>OverallQual</th>           <td> 3.699e+04</td> <td> 1415.272</td> <td>   26.137</td> <td> 0.000</td> <td> 3.42e+04</td> <td> 3.98e+04</td>\n",
       "</tr>\n",
       "<tr>\n",
       "  <th>LotArea</th>               <td>    1.0079</td> <td>    0.152</td> <td>    6.616</td> <td> 0.000</td> <td>    0.709</td> <td>    1.307</td>\n",
       "</tr>\n",
       "</table>\n",
       "<table class=\"simpletable\">\n",
       "<tr>\n",
       "  <th>Omnibus:</th>       <td>226.401</td> <th>  Durbin-Watson:     </th> <td>   1.793</td>\n",
       "</tr>\n",
       "<tr>\n",
       "  <th>Prob(Omnibus):</th> <td> 0.000</td>  <th>  Jarque-Bera (JB):  </th> <td>1543.620</td>\n",
       "</tr>\n",
       "<tr>\n",
       "  <th>Skew:</th>          <td> 1.018</td>  <th>  Prob(JB):          </th> <td>    0.00</td>\n",
       "</tr>\n",
       "<tr>\n",
       "  <th>Kurtosis:</th>      <td> 9.256</td>  <th>  Cond. No.          </th> <td>1.03e+05</td>\n",
       "</tr>\n",
       "</table><br/><br/>Notes:<br/>[1] Standard Errors assume that the covariance matrix of the errors is correctly specified.<br/>[2] The condition number is large, 1.03e+05. This might indicate that there are<br/>strong multicollinearity or other numerical problems."
      ],
      "text/latex": [
       "\\begin{center}\n",
       "\\begin{tabular}{lclc}\n",
       "\\toprule\n",
       "\\textbf{Dep. Variable:}        &    SalePrice     & \\textbf{  R-squared:         } &     0.774   \\\\\n",
       "\\textbf{Model:}                &       OLS        & \\textbf{  Adj. R-squared:    } &     0.772   \\\\\n",
       "\\textbf{Method:}               &  Least Squares   & \\textbf{  F-statistic:       } &     414.7   \\\\\n",
       "\\textbf{Date:}                 & Wed, 05 Feb 2025 & \\textbf{  Prob (F-statistic):} & 9.43e-269   \\\\\n",
       "\\textbf{Time:}                 &     16:26:01     & \\textbf{  Log-Likelihood:    } &   -10336.   \\\\\n",
       "\\textbf{No. Observations:}     &         856      & \\textbf{  AIC:               } & 2.069e+04   \\\\\n",
       "\\textbf{Df Residuals:}         &         848      & \\textbf{  BIC:               } & 2.073e+04   \\\\\n",
       "\\textbf{Df Model:}             &           7      & \\textbf{                     } &             \\\\\n",
       "\\textbf{Covariance Type:}      &    nonrobust     & \\textbf{                     } &             \\\\\n",
       "\\bottomrule\n",
       "\\end{tabular}\n",
       "\\begin{tabular}{lcccccc}\n",
       "                               & \\textbf{coef} & \\textbf{std err} & \\textbf{t} & \\textbf{P$> |$t$|$} & \\textbf{[0.025} & \\textbf{0.975]}  \\\\\n",
       "\\midrule\n",
       "\\textbf{Intercept}             &   -1.379e+05  &     6903.293     &   -19.983  &         0.000        &    -1.51e+05    &    -1.24e+05     \\\\\n",
       "\\textbf{C(BldgType)[T.2fmCon]} &   -3.402e+04  &     9961.456     &    -3.415  &         0.001        &    -5.36e+04    &    -1.45e+04     \\\\\n",
       "\\textbf{C(BldgType)[T.Duplex]} &   -9149.7907  &     7910.993     &    -1.157  &         0.248        &    -2.47e+04    &     6377.632     \\\\\n",
       "\\textbf{C(BldgType)[T.Twnhs]}  &   -2.847e+04  &     1.01e+04     &    -2.832  &         0.005        &    -4.82e+04    &    -8736.436     \\\\\n",
       "\\textbf{C(BldgType)[T.TwnhsE]} &   -1.103e+04  &     5948.819     &    -1.854  &         0.064        &    -2.27e+04    &      648.230     \\\\\n",
       "\\textbf{GrLivArea}             &      57.3631  &        3.639     &    15.763  &         0.000        &       50.220    &       64.506     \\\\\n",
       "\\textbf{OverallQual}           &    3.699e+04  &     1415.272     &    26.137  &         0.000        &     3.42e+04    &     3.98e+04     \\\\\n",
       "\\textbf{LotArea}               &       1.0079  &        0.152     &     6.616  &         0.000        &        0.709    &        1.307     \\\\\n",
       "\\bottomrule\n",
       "\\end{tabular}\n",
       "\\begin{tabular}{lclc}\n",
       "\\textbf{Omnibus:}       & 226.401 & \\textbf{  Durbin-Watson:     } &    1.793  \\\\\n",
       "\\textbf{Prob(Omnibus):} &   0.000 & \\textbf{  Jarque-Bera (JB):  } & 1543.620  \\\\\n",
       "\\textbf{Skew:}          &   1.018 & \\textbf{  Prob(JB):          } &     0.00  \\\\\n",
       "\\textbf{Kurtosis:}      &   9.256 & \\textbf{  Cond. No.          } & 1.03e+05  \\\\\n",
       "\\bottomrule\n",
       "\\end{tabular}\n",
       "%\\caption{OLS Regression Results}\n",
       "\\end{center}\n",
       "\n",
       "Notes: \\newline\n",
       " [1] Standard Errors assume that the covariance matrix of the errors is correctly specified. \\newline\n",
       " [2] The condition number is large, 1.03e+05. This might indicate that there are \\newline\n",
       " strong multicollinearity or other numerical problems."
      ],
      "text/plain": [
       "<class 'statsmodels.iolib.summary.Summary'>\n",
       "\"\"\"\n",
       "                            OLS Regression Results                            \n",
       "==============================================================================\n",
       "Dep. Variable:              SalePrice   R-squared:                       0.774\n",
       "Model:                            OLS   Adj. R-squared:                  0.772\n",
       "Method:                 Least Squares   F-statistic:                     414.7\n",
       "Date:                Wed, 05 Feb 2025   Prob (F-statistic):          9.43e-269\n",
       "Time:                        16:26:01   Log-Likelihood:                -10336.\n",
       "No. Observations:                 856   AIC:                         2.069e+04\n",
       "Df Residuals:                     848   BIC:                         2.073e+04\n",
       "Df Model:                           7                                         \n",
       "Covariance Type:            nonrobust                                         \n",
       "=========================================================================================\n",
       "                            coef    std err          t      P>|t|      [0.025      0.975]\n",
       "-----------------------------------------------------------------------------------------\n",
       "Intercept             -1.379e+05   6903.293    -19.983      0.000   -1.51e+05   -1.24e+05\n",
       "C(BldgType)[T.2fmCon] -3.402e+04   9961.456     -3.415      0.001   -5.36e+04   -1.45e+04\n",
       "C(BldgType)[T.Duplex] -9149.7907   7910.993     -1.157      0.248   -2.47e+04    6377.632\n",
       "C(BldgType)[T.Twnhs]  -2.847e+04   1.01e+04     -2.832      0.005   -4.82e+04   -8736.436\n",
       "C(BldgType)[T.TwnhsE] -1.103e+04   5948.819     -1.854      0.064   -2.27e+04     648.230\n",
       "GrLivArea                57.3631      3.639     15.763      0.000      50.220      64.506\n",
       "OverallQual            3.699e+04   1415.272     26.137      0.000    3.42e+04    3.98e+04\n",
       "LotArea                   1.0079      0.152      6.616      0.000       0.709       1.307\n",
       "==============================================================================\n",
       "Omnibus:                      226.401   Durbin-Watson:                   1.793\n",
       "Prob(Omnibus):                  0.000   Jarque-Bera (JB):             1543.620\n",
       "Skew:                           1.018   Prob(JB):                         0.00\n",
       "Kurtosis:                       9.256   Cond. No.                     1.03e+05\n",
       "==============================================================================\n",
       "\n",
       "Notes:\n",
       "[1] Standard Errors assume that the covariance matrix of the errors is correctly specified.\n",
       "[2] The condition number is large, 1.03e+05. This might indicate that there are\n",
       "strong multicollinearity or other numerical problems.\n",
       "\"\"\""
      ]
     },
     "execution_count": 26,
     "metadata": {},
     "output_type": "execute_result"
    }
   ],
   "source": [
    "model_refit_14 = smf.ols(formula = \"SalePrice ~ GrLivArea + OverallQual + LotArea + C(BldgType)\", data = train).fit()\n",
    "model_refit_14.summary()"
   ]
  },
  {
   "cell_type": "markdown",
   "metadata": {},
   "source": [
    "Q15"
   ]
  },
  {
   "cell_type": "code",
   "execution_count": 27,
   "metadata": {},
   "outputs": [
    {
     "data": {
      "text/html": [
       "<table class=\"simpletable\">\n",
       "<caption>OLS Regression Results</caption>\n",
       "<tr>\n",
       "  <th>Dep. Variable:</th>        <td>SalePrice</td>    <th>  R-squared:         </th> <td>   0.775</td> \n",
       "</tr>\n",
       "<tr>\n",
       "  <th>Model:</th>                   <td>OLS</td>       <th>  Adj. R-squared:    </th> <td>   0.774</td> \n",
       "</tr>\n",
       "<tr>\n",
       "  <th>Method:</th>             <td>Least Squares</td>  <th>  F-statistic:       </th> <td>   586.3</td> \n",
       "</tr>\n",
       "<tr>\n",
       "  <th>Date:</th>             <td>Wed, 05 Feb 2025</td> <th>  Prob (F-statistic):</th> <td>1.45e-272</td>\n",
       "</tr>\n",
       "<tr>\n",
       "  <th>Time:</th>                 <td>16:26:35</td>     <th>  Log-Likelihood:    </th> <td> -10334.</td> \n",
       "</tr>\n",
       "<tr>\n",
       "  <th>No. Observations:</th>      <td>   856</td>      <th>  AIC:               </th> <td>2.068e+04</td>\n",
       "</tr>\n",
       "<tr>\n",
       "  <th>Df Residuals:</th>          <td>   850</td>      <th>  BIC:               </th> <td>2.071e+04</td>\n",
       "</tr>\n",
       "<tr>\n",
       "  <th>Df Model:</th>              <td>     5</td>      <th>                     </th>     <td> </td>    \n",
       "</tr>\n",
       "<tr>\n",
       "  <th>Covariance Type:</th>      <td>nonrobust</td>    <th>                     </th>     <td> </td>    \n",
       "</tr>\n",
       "</table>\n",
       "<table class=\"simpletable\">\n",
       "<tr>\n",
       "                 <td></td>                   <th>coef</th>     <th>std err</th>      <th>t</th>      <th>P>|t|</th>  <th>[0.025</th>    <th>0.975]</th>  \n",
       "</tr>\n",
       "<tr>\n",
       "  <th>Intercept</th>                      <td>-1.389e+05</td> <td> 6627.029</td> <td>  -20.959</td> <td> 0.000</td> <td>-1.52e+05</td> <td>-1.26e+05</td>\n",
       "</tr>\n",
       "<tr>\n",
       "  <th>C(BldgType)[T.Other]</th>           <td> 3.506e+04</td> <td> 1.56e+04</td> <td>    2.242</td> <td> 0.025</td> <td> 4367.666</td> <td> 6.58e+04</td>\n",
       "</tr>\n",
       "<tr>\n",
       "  <th>GrLivArea</th>                      <td>   61.0313</td> <td>    3.655</td> <td>   16.700</td> <td> 0.000</td> <td>   53.858</td> <td>   68.204</td>\n",
       "</tr>\n",
       "<tr>\n",
       "  <th>GrLivArea:C(BldgType)[T.Other]</th> <td>  -34.1667</td> <td>   10.004</td> <td>   -3.415</td> <td> 0.001</td> <td>  -53.802</td> <td>  -14.532</td>\n",
       "</tr>\n",
       "<tr>\n",
       "  <th>OverallQual</th>                    <td> 3.624e+04</td> <td> 1297.350</td> <td>   27.932</td> <td> 0.000</td> <td> 3.37e+04</td> <td> 3.88e+04</td>\n",
       "</tr>\n",
       "<tr>\n",
       "  <th>LotArea</th>                        <td>    0.9942</td> <td>    0.150</td> <td>    6.629</td> <td> 0.000</td> <td>    0.700</td> <td>    1.289</td>\n",
       "</tr>\n",
       "</table>\n",
       "<table class=\"simpletable\">\n",
       "<tr>\n",
       "  <th>Omnibus:</th>       <td>211.504</td> <th>  Durbin-Watson:     </th> <td>   1.759</td> \n",
       "</tr>\n",
       "<tr>\n",
       "  <th>Prob(Omnibus):</th> <td> 0.000</td>  <th>  Jarque-Bera (JB):  </th> <td>1414.902</td> \n",
       "</tr>\n",
       "<tr>\n",
       "  <th>Skew:</th>          <td> 0.944</td>  <th>  Prob(JB):          </th> <td>5.73e-308</td>\n",
       "</tr>\n",
       "<tr>\n",
       "  <th>Kurtosis:</th>      <td> 9.009</td>  <th>  Cond. No.          </th> <td>1.58e+05</td> \n",
       "</tr>\n",
       "</table><br/><br/>Notes:<br/>[1] Standard Errors assume that the covariance matrix of the errors is correctly specified.<br/>[2] The condition number is large, 1.58e+05. This might indicate that there are<br/>strong multicollinearity or other numerical problems."
      ],
      "text/latex": [
       "\\begin{center}\n",
       "\\begin{tabular}{lclc}\n",
       "\\toprule\n",
       "\\textbf{Dep. Variable:}                 &    SalePrice     & \\textbf{  R-squared:         } &     0.775   \\\\\n",
       "\\textbf{Model:}                         &       OLS        & \\textbf{  Adj. R-squared:    } &     0.774   \\\\\n",
       "\\textbf{Method:}                        &  Least Squares   & \\textbf{  F-statistic:       } &     586.3   \\\\\n",
       "\\textbf{Date:}                          & Wed, 05 Feb 2025 & \\textbf{  Prob (F-statistic):} & 1.45e-272   \\\\\n",
       "\\textbf{Time:}                          &     16:26:35     & \\textbf{  Log-Likelihood:    } &   -10334.   \\\\\n",
       "\\textbf{No. Observations:}              &         856      & \\textbf{  AIC:               } & 2.068e+04   \\\\\n",
       "\\textbf{Df Residuals:}                  &         850      & \\textbf{  BIC:               } & 2.071e+04   \\\\\n",
       "\\textbf{Df Model:}                      &           5      & \\textbf{                     } &             \\\\\n",
       "\\textbf{Covariance Type:}               &    nonrobust     & \\textbf{                     } &             \\\\\n",
       "\\bottomrule\n",
       "\\end{tabular}\n",
       "\\begin{tabular}{lcccccc}\n",
       "                                        & \\textbf{coef} & \\textbf{std err} & \\textbf{t} & \\textbf{P$> |$t$|$} & \\textbf{[0.025} & \\textbf{0.975]}  \\\\\n",
       "\\midrule\n",
       "\\textbf{Intercept}                      &   -1.389e+05  &     6627.029     &   -20.959  &         0.000        &    -1.52e+05    &    -1.26e+05     \\\\\n",
       "\\textbf{C(BldgType)[T.Other]}           &    3.506e+04  &     1.56e+04     &     2.242  &         0.025        &     4367.666    &     6.58e+04     \\\\\n",
       "\\textbf{GrLivArea}                      &      61.0313  &        3.655     &    16.700  &         0.000        &       53.858    &       68.204     \\\\\n",
       "\\textbf{GrLivArea:C(BldgType)[T.Other]} &     -34.1667  &       10.004     &    -3.415  &         0.001        &      -53.802    &      -14.532     \\\\\n",
       "\\textbf{OverallQual}                    &    3.624e+04  &     1297.350     &    27.932  &         0.000        &     3.37e+04    &     3.88e+04     \\\\\n",
       "\\textbf{LotArea}                        &       0.9942  &        0.150     &     6.629  &         0.000        &        0.700    &        1.289     \\\\\n",
       "\\bottomrule\n",
       "\\end{tabular}\n",
       "\\begin{tabular}{lclc}\n",
       "\\textbf{Omnibus:}       & 211.504 & \\textbf{  Durbin-Watson:     } &     1.759  \\\\\n",
       "\\textbf{Prob(Omnibus):} &   0.000 & \\textbf{  Jarque-Bera (JB):  } &  1414.902  \\\\\n",
       "\\textbf{Skew:}          &   0.944 & \\textbf{  Prob(JB):          } & 5.73e-308  \\\\\n",
       "\\textbf{Kurtosis:}      &   9.009 & \\textbf{  Cond. No.          } &  1.58e+05  \\\\\n",
       "\\bottomrule\n",
       "\\end{tabular}\n",
       "%\\caption{OLS Regression Results}\n",
       "\\end{center}\n",
       "\n",
       "Notes: \\newline\n",
       " [1] Standard Errors assume that the covariance matrix of the errors is correctly specified. \\newline\n",
       " [2] The condition number is large, 1.58e+05. This might indicate that there are \\newline\n",
       " strong multicollinearity or other numerical problems."
      ],
      "text/plain": [
       "<class 'statsmodels.iolib.summary.Summary'>\n",
       "\"\"\"\n",
       "                            OLS Regression Results                            \n",
       "==============================================================================\n",
       "Dep. Variable:              SalePrice   R-squared:                       0.775\n",
       "Model:                            OLS   Adj. R-squared:                  0.774\n",
       "Method:                 Least Squares   F-statistic:                     586.3\n",
       "Date:                Wed, 05 Feb 2025   Prob (F-statistic):          1.45e-272\n",
       "Time:                        16:26:35   Log-Likelihood:                -10334.\n",
       "No. Observations:                 856   AIC:                         2.068e+04\n",
       "Df Residuals:                     850   BIC:                         2.071e+04\n",
       "Df Model:                           5                                         \n",
       "Covariance Type:            nonrobust                                         \n",
       "==================================================================================================\n",
       "                                     coef    std err          t      P>|t|      [0.025      0.975]\n",
       "--------------------------------------------------------------------------------------------------\n",
       "Intercept                      -1.389e+05   6627.029    -20.959      0.000   -1.52e+05   -1.26e+05\n",
       "C(BldgType)[T.Other]            3.506e+04   1.56e+04      2.242      0.025    4367.666    6.58e+04\n",
       "GrLivArea                         61.0313      3.655     16.700      0.000      53.858      68.204\n",
       "GrLivArea:C(BldgType)[T.Other]   -34.1667     10.004     -3.415      0.001     -53.802     -14.532\n",
       "OverallQual                     3.624e+04   1297.350     27.932      0.000    3.37e+04    3.88e+04\n",
       "LotArea                            0.9942      0.150      6.629      0.000       0.700       1.289\n",
       "==============================================================================\n",
       "Omnibus:                      211.504   Durbin-Watson:                   1.759\n",
       "Prob(Omnibus):                  0.000   Jarque-Bera (JB):             1414.902\n",
       "Skew:                           0.944   Prob(JB):                    5.73e-308\n",
       "Kurtosis:                       9.009   Cond. No.                     1.58e+05\n",
       "==============================================================================\n",
       "\n",
       "Notes:\n",
       "[1] Standard Errors assume that the covariance matrix of the errors is correctly specified.\n",
       "[2] The condition number is large, 1.58e+05. This might indicate that there are\n",
       "strong multicollinearity or other numerical problems.\n",
       "\"\"\""
      ]
     },
     "execution_count": 27,
     "metadata": {},
     "output_type": "execute_result"
    }
   ],
   "source": [
    "train_copy = train.copy()\n",
    "train_copy[\"BldgType\"] = np.where(train_copy[\"BldgType\"] == \"1Fam\", \"1Fam\", \"Other\")\n",
    "# model automatically expands X1*X2 to X1 + X2 + X1:X2\n",
    "model_refit = smf.ols(formula=\"SalePrice ~ GrLivArea * C(BldgType) + OverallQual + LotArea\", data=train_copy).fit()\n",
    "model_refit.summary()"
   ]
  },
  {
   "cell_type": "code",
   "execution_count": 28,
   "metadata": {},
   "outputs": [
    {
     "data": {
      "text/plain": [
       "np.float64(26.86454719640301)"
      ]
     },
     "execution_count": 28,
     "metadata": {},
     "output_type": "execute_result"
    }
   ],
   "source": [
    "model_refit.params[\"GrLivArea\"] + model_refit.params[\"GrLivArea:C(BldgType)[T.Other]\"]"
   ]
  },
  {
   "cell_type": "markdown",
   "metadata": {},
   "source": [
    "Q16"
   ]
  },
  {
   "cell_type": "code",
   "execution_count": 32,
   "metadata": {},
   "outputs": [
    {
     "name": "stdout",
     "output_type": "stream",
     "text": [
      "16189.598115529436\n"
     ]
    }
   ],
   "source": [
    "pred_diff = -(model_refit.params[\"C(BldgType)[T.Other]\"]+1500*model_refit.params[\"GrLivArea:C(BldgType)[T.Other]\"])\n",
    "\n",
    "print(pred_diff)"
   ]
  },
  {
   "cell_type": "markdown",
   "metadata": {},
   "source": [
    "Q17"
   ]
  },
  {
   "cell_type": "code",
   "execution_count": 18,
   "metadata": {},
   "outputs": [
    {
     "name": "stdout",
     "output_type": "stream",
     "text": [
      "41366.78832821682\n"
     ]
    }
   ],
   "source": [
    "test[\"BldgType\"] = np.where(test[\"BldgType\"] == \"1Fam\", \"1Fam\", \"Other\")\n",
    "\n",
    "preds = model_refit.predict(test)\n",
    "\n",
    "rmse = np.sqrt(mean_squared_error(test[\"SalePrice\"], preds))\n",
    "print(rmse)"
   ]
  },
  {
   "cell_type": "markdown",
   "metadata": {},
   "source": [
    "Q18"
   ]
  },
  {
   "cell_type": "code",
   "execution_count": 34,
   "metadata": {},
   "outputs": [
    {
     "data": {
      "text/plain": [
       "<Axes: xlabel='None', ylabel='None'>"
      ]
     },
     "execution_count": 34,
     "metadata": {},
     "output_type": "execute_result"
    },
    {
     "data": {
      "image/png": "[encoded data removed]",
      "text/plain": [
       "<Figure size 640x480 with 1 Axes>"
      ]
     },
     "metadata": {},
     "output_type": "display_data"
    }
   ],
   "source": [
    "residuals = model_refit_14.resid\n",
    "y_pred = model_refit_14.predict(test)\n",
    "sns.scatterplot(x = y_pred, y = residuals)\n"
   ]
  },
  {
   "cell_type": "markdown",
   "metadata": {},
   "source": [
    "Q19"
   ]
  },
  {
   "cell_type": "code",
   "execution_count": 19,
   "metadata": {},
   "outputs": [
    {
     "name": "stdout",
     "output_type": "stream",
     "text": [
      "41434.0131007605\n"
     ]
    }
   ],
   "source": [
    "model_sk = LinearRegression()\n",
    "\n",
    "train_encoded = pd.get_dummies(train[[\"GrLivArea\", \"OverallQual\", \"LotArea\", \"BldgType\"]], drop_first=True)\n",
    "model_sk.fit(train_encoded, train[\"SalePrice\"])\n",
    "\n",
    "test_encoded = pd.get_dummies(test[[\"GrLivArea\", \"OverallQual\", \"LotArea\", \"BldgType\"]], drop_first=True)\n",
    "predictions = model_sk.predict(test_encoded)\n",
    "\n",
    "rmse = np.sqrt(mean_squared_error(test[\"SalePrice\"], predictions))\n",
    "print(rmse)\n",
    "\n"
   ]
  }
 ],
 "metadata": {
  "kernelspec": {
   "display_name": ".venv",
   "language": "python",
   "name": "python3"
  },
  "language_info": {
   "codemirror_mode": {
    "name": "ipython",
    "version": 3
   },
   "file_extension": ".py",
   "mimetype": "text/x-python",
   "name": "python",
   "nbconvert_exporter": "python",
   "pygments_lexer": "ipython3",
   "version": "3.12.1"
  }
 },
 "nbformat": 4,
 "nbformat_minor": 2
}
