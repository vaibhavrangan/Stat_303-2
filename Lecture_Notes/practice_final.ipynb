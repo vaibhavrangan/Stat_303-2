{
 "cells": [
  {
   "cell_type": "code",
   "execution_count": 1,
   "metadata": {},
   "outputs": [],
   "source": [
    "import pandas as pd\n",
    "import numpy as np\n",
    "from sklearn.model_selection import train_test_split, KFold, cross_val_score\n",
    "from sklearn.linear_model import LogisticRegressionCV, RidgeCV, LassoCV, ElasticNetCV\n",
    "from sklearn.metrics import accuracy_score, mean_squared_error, classification_report\n",
    "from numpy import log1p\n",
    "from sklearn.pipeline import Pipeline\n",
    "from sklearn.compose import ColumnTransformer\n",
    "from sklearn.impute import SimpleImputer\n",
    "from sklearn.preprocessing import StandardScaler, OneHotEncoder, FunctionTransformer\n",
    "from sklearn.linear_model import LogisticRegressionCV\n",
    "from sklearn.feature_selection import VarianceThreshold\n",
    "from sklearn.preprocessing import PolynomialFeatures\n",
    "from sklearn.feature_selection import SelectKBest, chi2, f_classif\n",
    "from sklearn.model_selection import train_test_split\n",
    "from sklearn.linear_model import LogisticRegression\n",
    "from sklearn.model_selection import StratifiedKFold\n",
    "import statsmodels.formula.api as smf"
   ]
  },
  {
   "cell_type": "code",
   "execution_count": 2,
   "metadata": {},
   "outputs": [],
   "source": [
    "housing_train = pd.read_csv(\"/Users/vaibhavrangan/Downloads/Stat_303-2/Datasets/housing_train.csv\")\n",
    "housing_test = pd.read_csv(\"/Users/vaibhavrangan/Downloads/Stat_303-2/Datasets/housing_test.csv\")\n",
    "\n",
    "train_heart = pd.read_csv(\"/Users/vaibhavrangan/Downloads/Stat_303-2/Datasets/train_heart.csv\")\n",
    "test_heart = pd.read_csv(\"/Users/vaibhavrangan/Downloads/Stat_303-2/Datasets/test_heart.csv\")"
   ]
  },
  {
   "cell_type": "code",
   "execution_count": 3,
   "metadata": {},
   "outputs": [],
   "source": [
    "# add male*currentSmoker interaction term\n",
    "train_heart[\"male*currentSmoker\"] = train_heart[\"male\"] * train_heart[\"currentSmoker\"]\n",
    "test_heart[\"male*currentSmoker\"] = test_heart[\"male\"] * test_heart[\"currentSmoker\"]"
   ]
  },
  {
   "cell_type": "code",
   "execution_count": 6,
   "metadata": {},
   "outputs": [
    {
     "name": "stdout",
     "output_type": "stream",
     "text": [
      "Optimization terminated successfully.\n",
      "         Current function value: 0.376126\n",
      "         Iterations 7\n",
      "                           Logit Regression Results                           \n",
      "==============================================================================\n",
      "Dep. Variable:             TenYearCHD   No. Observations:                 2742\n",
      "Model:                          Logit   Df Residuals:                     2725\n",
      "Method:                           MLE   Df Model:                           16\n",
      "Date:                Thu, 20 Mar 2025   Pseudo R-squ.:                  0.1085\n",
      "Time:                        15:18:18   Log-Likelihood:                -1031.3\n",
      "converged:                       True   LL-Null:                       -1156.8\n",
      "Covariance Type:            nonrobust   LLR p-value:                 3.307e-44\n",
      "======================================================================================\n",
      "                         coef    std err          z      P>|z|      [0.025      0.975]\n",
      "--------------------------------------------------------------------------------------\n",
      "Intercept             -7.7337      0.835     -9.266      0.000      -9.369      -6.098\n",
      "male                   0.4546      0.173      2.634      0.008       0.116       0.793\n",
      "age                    0.0563      0.008      7.242      0.000       0.041       0.071\n",
      "education             -0.1069      0.058     -1.835      0.067      -0.221       0.007\n",
      "currentSmoker          0.0353      0.203      0.174      0.862      -0.362       0.433\n",
      "cigsPerDay             0.0189      0.007      2.586      0.010       0.005       0.033\n",
      "BPMeds                 0.0595      0.284      0.209      0.834      -0.498       0.617\n",
      "prevalentStroke        0.6269      0.552      1.135      0.256      -0.456       1.709\n",
      "prevalentHyp           0.2067      0.161      1.281      0.200      -0.109       0.523\n",
      "diabetes              -0.1072      0.386     -0.278      0.781      -0.863       0.649\n",
      "totChol                0.0014      0.001      1.061      0.288      -0.001       0.004\n",
      "sysBP                  0.0174      0.004      3.904      0.000       0.009       0.026\n",
      "diaBP                 -0.0050      0.007     -0.678      0.498      -0.020       0.010\n",
      "BMI                    0.0036      0.015      0.238      0.812      -0.026       0.033\n",
      "heartRate             -0.0030      0.005     -0.608      0.543      -0.013       0.007\n",
      "glucose                0.0076      0.003      2.974      0.003       0.003       0.013\n",
      "male:currentSmoker     0.0149      0.247      0.060      0.952      -0.469       0.499\n",
      "======================================================================================\n"
     ]
    }
   ],
   "source": [
    "predictors = [col for col in train_heart.columns if col != \"TenYearCHD\"]\n",
    "\n",
    "\n",
    "# create smf logistic regression model for all predictors in train_predictors\n",
    "model = smf.logit(\"TenYearCHD ~ \" + \" + \".join(predictors), data=train_heart).fit()\n",
    "print(model.summary())"
   ]
  },
  {
   "cell_type": "code",
   "execution_count": 8,
   "metadata": {},
   "outputs": [
    {
     "name": "stdout",
     "output_type": "stream",
     "text": [
      "59.92822263126012\n"
     ]
    }
   ],
   "source": [
    "# odds ratio for male smokers vs female smokers\n",
    "odds_ratio = np.exp(model.params[\"male:currentSmoker\"] + model.params[\"male\"])\n",
    "perc_inc = (odds_ratio - 1) * 100\n",
    "print(perc_inc)"
   ]
  },
  {
   "cell_type": "code",
   "execution_count": 10,
   "metadata": {},
   "outputs": [
    {
     "name": "stdout",
     "output_type": "stream",
     "text": [
      "52.095717957033116\n"
     ]
    }
   ],
   "source": [
    "# odds ratio for male nonsmokers vs female smokers\n",
    "odds_ratio2 = np.exp(model.params[\"male\"] - model.params[\"currentSmoker\"])\n",
    "perc_inc2 = (odds_ratio2 - 1) * 100\n",
    "print(perc_inc2)"
   ]
  },
  {
   "cell_type": "code",
   "execution_count": null,
   "metadata": {},
   "outputs": [
    {
     "name": "stdout",
     "output_type": "stream",
     "text": [
      "[[ 0.456457    0.05622384 -0.10703227  0.0363531   0.01889473  0.05510464\n",
      "   0.62678805  0.2074257  -0.10778247  0.00139279  0.0174367  -0.00505985\n",
      "   0.00351907 -0.00298345  0.00755539  0.01149403]]\n",
      "[-7.72907827]\n"
     ]
    }
   ],
   "source": [
    "# sklearn implementation\n",
    "\n",
    "train_heart_x = train_heart.drop(\"TenYearCHD\", axis=1)\n",
    "train_heart_y = train_heart[\"TenYearCHD\"]\n",
    "test_heart_x = test_heart.drop(\"TenYearCHD\", axis=1)\n",
    "test_heart_y = test_heart[\"TenYearCHD\"]\n",
    "\n",
    "model_sklearn = LogisticRegression(max_iter=5000, penalty=None, solver='newton-cg').fit(train_heart_x, train_heart_y)\n",
    "\n",
    "# print coefficients\n",
    "print(model_sklearn.coef_)\n",
    "print(model_sklearn.intercept_)"
   ]
  }
 ],
 "metadata": {
  "kernelspec": {
   "display_name": ".venv",
   "language": "python",
   "name": "python3"
  },
  "language_info": {
   "codemirror_mode": {
    "name": "ipython",
    "version": 3
   },
   "file_extension": ".py",
   "mimetype": "text/x-python",
   "name": "python",
   "nbconvert_exporter": "python",
   "pygments_lexer": "ipython3",
   "version": "3.12.1"
  }
 },
 "nbformat": 4,
 "nbformat_minor": 2
}
