{
 "cells": [
  {
   "cell_type": "raw",
   "id": "05e1d7c1",
   "metadata": {
    "vscode": {
     "languageId": "raw"
    }
   },
   "source": [
    "---\n",
    "title: \"Midterm solution\"\n",
    "subtitle: \"STAT 303-2 Sec20 & Sec21 (Winter 2025)\"\n",
    "author: \"Vaibhav Rangan\"\n",
    "format: \n",
    "  html:\n",
    "    toc: true\n",
    "    toc-title: Contents\n",
    "    toc-depth: 4\n",
    "    self-contained: true\n",
    "    html-math-method: mathml \n",
    "jupyter: python3\n",
    "---"
   ]
  },
  {
   "cell_type": "markdown",
   "id": "faefdd43",
   "metadata": {},
   "source": [
    "## Instructions\n",
    "1. **Write your name** at the top!\n",
    "2. Feel free to add new code cells as needed\n",
    "3. Use Quarto to generate html from the notebook for your submission"
   ]
  },
  {
   "cell_type": "markdown",
   "id": "4328ad55",
   "metadata": {},
   "source": [
    "## Import libraries & Read datasets"
   ]
  },
  {
   "cell_type": "code",
   "execution_count": 2,
   "id": "66d6e94e",
   "metadata": {},
   "outputs": [],
   "source": [
    "import pandas as pd\n",
    "import numpy as np\n",
    "import matplotlib.pyplot as plt\n",
    "import seaborn as sns\n",
    "\n",
    "import statsmodels.formula.api as smf\n",
    "import statsmodels.api as sm\n",
    "\n",
    "import sklearn\n",
    "from sklearn.linear_model import LinearRegression\n",
    "from sklearn.metrics import mean_squared_error, mean_absolute_error, r2_score\n",
    "\n",
    "train = pd.read_csv(\"/Users/vaibhavrangan/Downloads/Stat_303-2/Datasets/credit_train.csv\")\n",
    "test = pd.read_csv(\"/Users/vaibhavrangan/Downloads/Stat_303-2/Datasets/credit_test.csv\")"
   ]
  },
  {
   "cell_type": "code",
   "execution_count": 3,
   "id": "66ef9048",
   "metadata": {},
   "outputs": [
    {
     "data": {
      "text/html": [
       "<div>\n",
       "<style scoped>\n",
       "    .dataframe tbody tr th:only-of-type {\n",
       "        vertical-align: middle;\n",
       "    }\n",
       "\n",
       "    .dataframe tbody tr th {\n",
       "        vertical-align: top;\n",
       "    }\n",
       "\n",
       "    .dataframe thead th {\n",
       "        text-align: right;\n",
       "    }\n",
       "</style>\n",
       "<table border=\"1\" class=\"dataframe\">\n",
       "  <thead>\n",
       "    <tr style=\"text-align: right;\">\n",
       "      <th></th>\n",
       "      <th>Income</th>\n",
       "      <th>Limit</th>\n",
       "      <th>Rating</th>\n",
       "      <th>Cards</th>\n",
       "      <th>Age</th>\n",
       "      <th>Education</th>\n",
       "      <th>Own</th>\n",
       "      <th>Student</th>\n",
       "      <th>Married</th>\n",
       "      <th>Region</th>\n",
       "      <th>Balance</th>\n",
       "    </tr>\n",
       "  </thead>\n",
       "  <tbody>\n",
       "    <tr>\n",
       "      <th>0</th>\n",
       "      <td>37.728</td>\n",
       "      <td>2525</td>\n",
       "      <td>192</td>\n",
       "      <td>1</td>\n",
       "      <td>44</td>\n",
       "      <td>13</td>\n",
       "      <td>No</td>\n",
       "      <td>No</td>\n",
       "      <td>Yes</td>\n",
       "      <td>South</td>\n",
       "      <td>0</td>\n",
       "    </tr>\n",
       "    <tr>\n",
       "      <th>1</th>\n",
       "      <td>27.578</td>\n",
       "      <td>2531</td>\n",
       "      <td>195</td>\n",
       "      <td>1</td>\n",
       "      <td>34</td>\n",
       "      <td>15</td>\n",
       "      <td>Yes</td>\n",
       "      <td>No</td>\n",
       "      <td>Yes</td>\n",
       "      <td>South</td>\n",
       "      <td>0</td>\n",
       "    </tr>\n",
       "    <tr>\n",
       "      <th>2</th>\n",
       "      <td>41.192</td>\n",
       "      <td>3673</td>\n",
       "      <td>297</td>\n",
       "      <td>3</td>\n",
       "      <td>54</td>\n",
       "      <td>16</td>\n",
       "      <td>Yes</td>\n",
       "      <td>No</td>\n",
       "      <td>Yes</td>\n",
       "      <td>South</td>\n",
       "      <td>121</td>\n",
       "    </tr>\n",
       "    <tr>\n",
       "      <th>3</th>\n",
       "      <td>149.316</td>\n",
       "      <td>10278</td>\n",
       "      <td>707</td>\n",
       "      <td>1</td>\n",
       "      <td>80</td>\n",
       "      <td>16</td>\n",
       "      <td>No</td>\n",
       "      <td>No</td>\n",
       "      <td>No</td>\n",
       "      <td>East</td>\n",
       "      <td>1107</td>\n",
       "    </tr>\n",
       "    <tr>\n",
       "      <th>4</th>\n",
       "      <td>76.348</td>\n",
       "      <td>4697</td>\n",
       "      <td>344</td>\n",
       "      <td>4</td>\n",
       "      <td>60</td>\n",
       "      <td>18</td>\n",
       "      <td>No</td>\n",
       "      <td>No</td>\n",
       "      <td>No</td>\n",
       "      <td>West</td>\n",
       "      <td>108</td>\n",
       "    </tr>\n",
       "  </tbody>\n",
       "</table>\n",
       "</div>"
      ],
      "text/plain": [
       "    Income  Limit  Rating  Cards  Age  Education  Own Student Married Region  \\\n",
       "0   37.728   2525     192      1   44         13   No      No     Yes  South   \n",
       "1   27.578   2531     195      1   34         15  Yes      No     Yes  South   \n",
       "2   41.192   3673     297      3   54         16  Yes      No     Yes  South   \n",
       "3  149.316  10278     707      1   80         16   No      No      No   East   \n",
       "4   76.348   4697     344      4   60         18   No      No      No   West   \n",
       "\n",
       "   Balance  \n",
       "0        0  \n",
       "1        0  \n",
       "2      121  \n",
       "3     1107  \n",
       "4      108  "
      ]
     },
     "execution_count": 3,
     "metadata": {},
     "output_type": "execute_result"
    }
   ],
   "source": [
    "train.head()"
   ]
  },
  {
   "cell_type": "code",
   "execution_count": 4,
   "id": "870378f8",
   "metadata": {},
   "outputs": [
    {
     "data": {
      "text/html": [
       "<div>\n",
       "<style scoped>\n",
       "    .dataframe tbody tr th:only-of-type {\n",
       "        vertical-align: middle;\n",
       "    }\n",
       "\n",
       "    .dataframe tbody tr th {\n",
       "        vertical-align: top;\n",
       "    }\n",
       "\n",
       "    .dataframe thead th {\n",
       "        text-align: right;\n",
       "    }\n",
       "</style>\n",
       "<table border=\"1\" class=\"dataframe\">\n",
       "  <thead>\n",
       "    <tr style=\"text-align: right;\">\n",
       "      <th></th>\n",
       "      <th>Income</th>\n",
       "      <th>Limit</th>\n",
       "      <th>Rating</th>\n",
       "      <th>Cards</th>\n",
       "      <th>Age</th>\n",
       "      <th>Education</th>\n",
       "      <th>Own</th>\n",
       "      <th>Student</th>\n",
       "      <th>Married</th>\n",
       "      <th>Region</th>\n",
       "      <th>Balance</th>\n",
       "    </tr>\n",
       "  </thead>\n",
       "  <tbody>\n",
       "    <tr>\n",
       "      <th>0</th>\n",
       "      <td>106.025</td>\n",
       "      <td>6645</td>\n",
       "      <td>483</td>\n",
       "      <td>3</td>\n",
       "      <td>82</td>\n",
       "      <td>15</td>\n",
       "      <td>Yes</td>\n",
       "      <td>Yes</td>\n",
       "      <td>Yes</td>\n",
       "      <td>West</td>\n",
       "      <td>903</td>\n",
       "    </tr>\n",
       "    <tr>\n",
       "      <th>1</th>\n",
       "      <td>104.593</td>\n",
       "      <td>7075</td>\n",
       "      <td>514</td>\n",
       "      <td>4</td>\n",
       "      <td>71</td>\n",
       "      <td>11</td>\n",
       "      <td>No</td>\n",
       "      <td>No</td>\n",
       "      <td>No</td>\n",
       "      <td>West</td>\n",
       "      <td>580</td>\n",
       "    </tr>\n",
       "    <tr>\n",
       "      <th>2</th>\n",
       "      <td>148.924</td>\n",
       "      <td>9504</td>\n",
       "      <td>681</td>\n",
       "      <td>3</td>\n",
       "      <td>36</td>\n",
       "      <td>11</td>\n",
       "      <td>Yes</td>\n",
       "      <td>No</td>\n",
       "      <td>No</td>\n",
       "      <td>West</td>\n",
       "      <td>964</td>\n",
       "    </tr>\n",
       "    <tr>\n",
       "      <th>3</th>\n",
       "      <td>71.408</td>\n",
       "      <td>7114</td>\n",
       "      <td>512</td>\n",
       "      <td>2</td>\n",
       "      <td>87</td>\n",
       "      <td>9</td>\n",
       "      <td>No</td>\n",
       "      <td>No</td>\n",
       "      <td>No</td>\n",
       "      <td>West</td>\n",
       "      <td>872</td>\n",
       "    </tr>\n",
       "    <tr>\n",
       "      <th>4</th>\n",
       "      <td>20.089</td>\n",
       "      <td>2525</td>\n",
       "      <td>200</td>\n",
       "      <td>3</td>\n",
       "      <td>57</td>\n",
       "      <td>15</td>\n",
       "      <td>Yes</td>\n",
       "      <td>No</td>\n",
       "      <td>Yes</td>\n",
       "      <td>East</td>\n",
       "      <td>0</td>\n",
       "    </tr>\n",
       "  </tbody>\n",
       "</table>\n",
       "</div>"
      ],
      "text/plain": [
       "    Income  Limit  Rating  Cards  Age  Education  Own Student Married Region  \\\n",
       "0  106.025   6645     483      3   82         15  Yes     Yes     Yes   West   \n",
       "1  104.593   7075     514      4   71         11   No      No      No   West   \n",
       "2  148.924   9504     681      3   36         11  Yes      No      No   West   \n",
       "3   71.408   7114     512      2   87          9   No      No      No   West   \n",
       "4   20.089   2525     200      3   57         15  Yes      No     Yes   East   \n",
       "\n",
       "   Balance  \n",
       "0      903  \n",
       "1      580  \n",
       "2      964  \n",
       "3      872  \n",
       "4        0  "
      ]
     },
     "execution_count": 4,
     "metadata": {},
     "output_type": "execute_result"
    }
   ],
   "source": [
    "test.head()"
   ]
  },
  {
   "cell_type": "markdown",
   "id": "cb76b82c",
   "metadata": {},
   "source": [
    "## Q18"
   ]
  },
  {
   "cell_type": "code",
   "execution_count": 5,
   "id": "83bad984",
   "metadata": {},
   "outputs": [
    {
     "data": {
      "text/html": [
       "<table class=\"simpletable\">\n",
       "<caption>OLS Regression Results</caption>\n",
       "<tr>\n",
       "  <th>Dep. Variable:</th>         <td>Balance</td>     <th>  R-squared:         </th> <td>   0.882</td> \n",
       "</tr>\n",
       "<tr>\n",
       "  <th>Model:</th>                   <td>OLS</td>       <th>  Adj. R-squared:    </th> <td>   0.880</td> \n",
       "</tr>\n",
       "<tr>\n",
       "  <th>Method:</th>             <td>Least Squares</td>  <th>  F-statistic:       </th> <td>   551.7</td> \n",
       "</tr>\n",
       "<tr>\n",
       "  <th>Date:</th>             <td>Fri, 07 Feb 2025</td> <th>  Prob (F-statistic):</th> <td>1.49e-135</td>\n",
       "</tr>\n",
       "<tr>\n",
       "  <th>Time:</th>                 <td>17:34:22</td>     <th>  Log-Likelihood:    </th> <td> -1955.6</td> \n",
       "</tr>\n",
       "<tr>\n",
       "  <th>No. Observations:</th>      <td>   300</td>      <th>  AIC:               </th> <td>   3921.</td> \n",
       "</tr>\n",
       "<tr>\n",
       "  <th>Df Residuals:</th>          <td>   295</td>      <th>  BIC:               </th> <td>   3940.</td> \n",
       "</tr>\n",
       "<tr>\n",
       "  <th>Df Model:</th>              <td>     4</td>      <th>                     </th>     <td> </td>    \n",
       "</tr>\n",
       "<tr>\n",
       "  <th>Covariance Type:</th>      <td>nonrobust</td>    <th>                     </th>     <td> </td>    \n",
       "</tr>\n",
       "</table>\n",
       "<table class=\"simpletable\">\n",
       "<tr>\n",
       "      <td></td>         <th>coef</th>     <th>std err</th>      <th>t</th>      <th>P>|t|</th>  <th>[0.025</th>    <th>0.975]</th>  \n",
       "</tr>\n",
       "<tr>\n",
       "  <th>Intercept</th> <td> -467.8591</td> <td>   37.245</td> <td>  -12.562</td> <td> 0.000</td> <td> -541.159</td> <td> -394.560</td>\n",
       "</tr>\n",
       "<tr>\n",
       "  <th>Income</th>    <td>   -7.5478</td> <td>    0.456</td> <td>  -16.557</td> <td> 0.000</td> <td>   -8.445</td> <td>   -6.651</td>\n",
       "</tr>\n",
       "<tr>\n",
       "  <th>Rating</th>    <td>    1.7730</td> <td>    0.931</td> <td>    1.904</td> <td> 0.058</td> <td>   -0.059</td> <td>    3.605</td>\n",
       "</tr>\n",
       "<tr>\n",
       "  <th>Limit</th>     <td>    0.1451</td> <td>    0.062</td> <td>    2.331</td> <td> 0.020</td> <td>    0.023</td> <td>    0.268</td>\n",
       "</tr>\n",
       "<tr>\n",
       "  <th>Cards</th>     <td>    7.0045</td> <td>    8.250</td> <td>    0.849</td> <td> 0.397</td> <td>   -9.231</td> <td>   23.240</td>\n",
       "</tr>\n",
       "</table>\n",
       "<table class=\"simpletable\">\n",
       "<tr>\n",
       "  <th>Omnibus:</th>       <td>68.629</td> <th>  Durbin-Watson:     </th> <td>   1.970</td>\n",
       "</tr>\n",
       "<tr>\n",
       "  <th>Prob(Omnibus):</th> <td> 0.000</td> <th>  Jarque-Bera (JB):  </th> <td> 113.170</td>\n",
       "</tr>\n",
       "<tr>\n",
       "  <th>Skew:</th>          <td> 1.327</td> <th>  Prob(JB):          </th> <td>2.66e-25</td>\n",
       "</tr>\n",
       "<tr>\n",
       "  <th>Kurtosis:</th>      <td> 4.420</td> <th>  Cond. No.          </th> <td>2.07e+04</td>\n",
       "</tr>\n",
       "</table><br/><br/>Notes:<br/>[1] Standard Errors assume that the covariance matrix of the errors is correctly specified.<br/>[2] The condition number is large, 2.07e+04. This might indicate that there are<br/>strong multicollinearity or other numerical problems."
      ],
      "text/latex": [
       "\\begin{center}\n",
       "\\begin{tabular}{lclc}\n",
       "\\toprule\n",
       "\\textbf{Dep. Variable:}    &     Balance      & \\textbf{  R-squared:         } &     0.882   \\\\\n",
       "\\textbf{Model:}            &       OLS        & \\textbf{  Adj. R-squared:    } &     0.880   \\\\\n",
       "\\textbf{Method:}           &  Least Squares   & \\textbf{  F-statistic:       } &     551.7   \\\\\n",
       "\\textbf{Date:}             & Fri, 07 Feb 2025 & \\textbf{  Prob (F-statistic):} & 1.49e-135   \\\\\n",
       "\\textbf{Time:}             &     17:34:22     & \\textbf{  Log-Likelihood:    } &   -1955.6   \\\\\n",
       "\\textbf{No. Observations:} &         300      & \\textbf{  AIC:               } &     3921.   \\\\\n",
       "\\textbf{Df Residuals:}     &         295      & \\textbf{  BIC:               } &     3940.   \\\\\n",
       "\\textbf{Df Model:}         &           4      & \\textbf{                     } &             \\\\\n",
       "\\textbf{Covariance Type:}  &    nonrobust     & \\textbf{                     } &             \\\\\n",
       "\\bottomrule\n",
       "\\end{tabular}\n",
       "\\begin{tabular}{lcccccc}\n",
       "                   & \\textbf{coef} & \\textbf{std err} & \\textbf{t} & \\textbf{P$> |$t$|$} & \\textbf{[0.025} & \\textbf{0.975]}  \\\\\n",
       "\\midrule\n",
       "\\textbf{Intercept} &    -467.8591  &       37.245     &   -12.562  &         0.000        &     -541.159    &     -394.560     \\\\\n",
       "\\textbf{Income}    &      -7.5478  &        0.456     &   -16.557  &         0.000        &       -8.445    &       -6.651     \\\\\n",
       "\\textbf{Rating}    &       1.7730  &        0.931     &     1.904  &         0.058        &       -0.059    &        3.605     \\\\\n",
       "\\textbf{Limit}     &       0.1451  &        0.062     &     2.331  &         0.020        &        0.023    &        0.268     \\\\\n",
       "\\textbf{Cards}     &       7.0045  &        8.250     &     0.849  &         0.397        &       -9.231    &       23.240     \\\\\n",
       "\\bottomrule\n",
       "\\end{tabular}\n",
       "\\begin{tabular}{lclc}\n",
       "\\textbf{Omnibus:}       & 68.629 & \\textbf{  Durbin-Watson:     } &    1.970  \\\\\n",
       "\\textbf{Prob(Omnibus):} &  0.000 & \\textbf{  Jarque-Bera (JB):  } &  113.170  \\\\\n",
       "\\textbf{Skew:}          &  1.327 & \\textbf{  Prob(JB):          } & 2.66e-25  \\\\\n",
       "\\textbf{Kurtosis:}      &  4.420 & \\textbf{  Cond. No.          } & 2.07e+04  \\\\\n",
       "\\bottomrule\n",
       "\\end{tabular}\n",
       "%\\caption{OLS Regression Results}\n",
       "\\end{center}\n",
       "\n",
       "Notes: \\newline\n",
       " [1] Standard Errors assume that the covariance matrix of the errors is correctly specified. \\newline\n",
       " [2] The condition number is large, 2.07e+04. This might indicate that there are \\newline\n",
       " strong multicollinearity or other numerical problems."
      ],
      "text/plain": [
       "<class 'statsmodels.iolib.summary.Summary'>\n",
       "\"\"\"\n",
       "                            OLS Regression Results                            \n",
       "==============================================================================\n",
       "Dep. Variable:                Balance   R-squared:                       0.882\n",
       "Model:                            OLS   Adj. R-squared:                  0.880\n",
       "Method:                 Least Squares   F-statistic:                     551.7\n",
       "Date:                Fri, 07 Feb 2025   Prob (F-statistic):          1.49e-135\n",
       "Time:                        17:34:22   Log-Likelihood:                -1955.6\n",
       "No. Observations:                 300   AIC:                             3921.\n",
       "Df Residuals:                     295   BIC:                             3940.\n",
       "Df Model:                           4                                         \n",
       "Covariance Type:            nonrobust                                         \n",
       "==============================================================================\n",
       "                 coef    std err          t      P>|t|      [0.025      0.975]\n",
       "------------------------------------------------------------------------------\n",
       "Intercept   -467.8591     37.245    -12.562      0.000    -541.159    -394.560\n",
       "Income        -7.5478      0.456    -16.557      0.000      -8.445      -6.651\n",
       "Rating         1.7730      0.931      1.904      0.058      -0.059       3.605\n",
       "Limit          0.1451      0.062      2.331      0.020       0.023       0.268\n",
       "Cards          7.0045      8.250      0.849      0.397      -9.231      23.240\n",
       "==============================================================================\n",
       "Omnibus:                       68.629   Durbin-Watson:                   1.970\n",
       "Prob(Omnibus):                  0.000   Jarque-Bera (JB):              113.170\n",
       "Skew:                           1.327   Prob(JB):                     2.66e-25\n",
       "Kurtosis:                       4.420   Cond. No.                     2.07e+04\n",
       "==============================================================================\n",
       "\n",
       "Notes:\n",
       "[1] Standard Errors assume that the covariance matrix of the errors is correctly specified.\n",
       "[2] The condition number is large, 2.07e+04. This might indicate that there are\n",
       "strong multicollinearity or other numerical problems.\n",
       "\"\"\""
      ]
     },
     "execution_count": 5,
     "metadata": {},
     "output_type": "execute_result"
    }
   ],
   "source": [
    "model = smf.ols(formula = \"Balance ~ Income + Rating + Limit + Cards\", data = train).fit()\n",
    "model.summary()"
   ]
  },
  {
   "cell_type": "markdown",
   "id": "32bfd0c7",
   "metadata": {},
   "source": [
    "## Q19"
   ]
  },
  {
   "cell_type": "code",
   "execution_count": 18,
   "id": "7dc3a055",
   "metadata": {},
   "outputs": [
    {
     "name": "stdout",
     "output_type": "stream",
     "text": [
      "0.8820862502123564\n",
      "163.9813815134106\n",
      "153.587404392\n"
     ]
    }
   ],
   "source": [
    "# print R^2\n",
    "\n",
    "print(model.rsquared)\n",
    "\n",
    "rmse_train = np.sqrt(mean_squared_error(train['Balance'], model.fittedvalues))\n",
    "print(rmse_train)\n",
    "\n",
    "pred_balance = model.predict(test)\n",
    "rmse_test = np.sqrt(mean_squared_error(test['Balance'], pred_balance))\n",
    "print(rmse_test)"
   ]
  },
  {
   "cell_type": "markdown",
   "id": "0c1564e9",
   "metadata": {},
   "source": [
    "## Q20"
   ]
  },
  {
   "cell_type": "code",
   "execution_count": 12,
   "id": "a77eefad",
   "metadata": {},
   "outputs": [
    {
     "name": "stdout",
     "output_type": "stream",
     "text": [
      "117.59229599615867\n",
      "153.587404392\n"
     ]
    }
   ],
   "source": [
    "print(mean_absolute_error(test['Balance'], pred_balance))\n",
    "print(rmse_test)"
   ]
  },
  {
   "cell_type": "code",
   "execution_count": 17,
   "id": "baa7e289",
   "metadata": {},
   "outputs": [
    {
     "data": {
      "text/plain": [
       "Text(0, 0.5, 'Residuals')"
      ]
     },
     "execution_count": 17,
     "metadata": {},
     "output_type": "execute_result"
    },
    {
     "data": {
      "image/png": "[encoded data removed]",
      "text/plain": [
       "<Figure size 640x480 with 1 Axes>"
      ]
     },
     "metadata": {},
     "output_type": "display_data"
    }
   ],
   "source": [
    "test_resid = test['Balance'] - pred_balance\n",
    "# plot fitted values vs residuals and label axes\n",
    "plt.scatter(pred_balance, test_resid)\n",
    "plt.xlabel(\"Fitted Values\")\n",
    "plt.ylabel(\"Residuals\")"
   ]
  },
  {
   "cell_type": "markdown",
   "id": "0c31b9df",
   "metadata": {},
   "source": [
    "## Q21"
   ]
  },
  {
   "cell_type": "code",
   "execution_count": 16,
   "id": "1695874f",
   "metadata": {},
   "outputs": [
    {
     "data": {
      "text/html": [
       "<table class=\"simpletable\">\n",
       "<caption>OLS Regression Results</caption>\n",
       "<tr>\n",
       "  <th>Dep. Variable:</th>         <td>Balance</td>     <th>  R-squared:         </th> <td>   0.956</td> \n",
       "</tr>\n",
       "<tr>\n",
       "  <th>Model:</th>                   <td>OLS</td>       <th>  Adj. R-squared:    </th> <td>   0.955</td> \n",
       "</tr>\n",
       "<tr>\n",
       "  <th>Method:</th>             <td>Least Squares</td>  <th>  F-statistic:       </th> <td>   790.5</td> \n",
       "</tr>\n",
       "<tr>\n",
       "  <th>Date:</th>             <td>Fri, 07 Feb 2025</td> <th>  Prob (F-statistic):</th> <td>1.90e-192</td>\n",
       "</tr>\n",
       "<tr>\n",
       "  <th>Time:</th>                 <td>17:48:11</td>     <th>  Log-Likelihood:    </th> <td> -1807.7</td> \n",
       "</tr>\n",
       "<tr>\n",
       "  <th>No. Observations:</th>      <td>   300</td>      <th>  AIC:               </th> <td>   3633.</td> \n",
       "</tr>\n",
       "<tr>\n",
       "  <th>Df Residuals:</th>          <td>   291</td>      <th>  BIC:               </th> <td>   3667.</td> \n",
       "</tr>\n",
       "<tr>\n",
       "  <th>Df Model:</th>              <td>     8</td>      <th>                     </th>     <td> </td>    \n",
       "</tr>\n",
       "<tr>\n",
       "  <th>Covariance Type:</th>      <td>nonrobust</td>    <th>                     </th>     <td> </td>    \n",
       "</tr>\n",
       "</table>\n",
       "<table class=\"simpletable\">\n",
       "<tr>\n",
       "           <td></td>             <th>coef</th>     <th>std err</th>      <th>t</th>      <th>P>|t|</th>  <th>[0.025</th>    <th>0.975]</th>  \n",
       "</tr>\n",
       "<tr>\n",
       "  <th>Intercept</th>          <td> -490.3240</td> <td>   23.354</td> <td>  -20.995</td> <td> 0.000</td> <td> -536.288</td> <td> -444.360</td>\n",
       "</tr>\n",
       "<tr>\n",
       "  <th>C(Region)[T.South]</th> <td>   11.2749</td> <td>   15.074</td> <td>    0.748</td> <td> 0.455</td> <td>  -18.393</td> <td>   40.943</td>\n",
       "</tr>\n",
       "<tr>\n",
       "  <th>C(Region)[T.West]</th>  <td>   15.1970</td> <td>   17.260</td> <td>    0.880</td> <td> 0.379</td> <td>  -18.774</td> <td>   49.168</td>\n",
       "</tr>\n",
       "<tr>\n",
       "  <th>C(Married)[T.Yes]</th>  <td>   -6.6962</td> <td>   12.268</td> <td>   -0.546</td> <td> 0.586</td> <td>  -30.840</td> <td>   17.448</td>\n",
       "</tr>\n",
       "<tr>\n",
       "  <th>C(Own)[T.Yes]</th>      <td>  -14.8811</td> <td>   11.793</td> <td>   -1.262</td> <td> 0.208</td> <td>  -38.092</td> <td>    8.330</td>\n",
       "</tr>\n",
       "<tr>\n",
       "  <th>C(Student)[T.Yes]</th>  <td>  425.0358</td> <td>   19.218</td> <td>   22.117</td> <td> 0.000</td> <td>  387.212</td> <td>  462.859</td>\n",
       "</tr>\n",
       "<tr>\n",
       "  <th>Income</th>             <td>   -7.5377</td> <td>    0.280</td> <td>  -26.905</td> <td> 0.000</td> <td>   -8.089</td> <td>   -6.986</td>\n",
       "</tr>\n",
       "<tr>\n",
       "  <th>Limit</th>              <td>    0.2637</td> <td>    0.004</td> <td>   62.798</td> <td> 0.000</td> <td>    0.255</td> <td>    0.272</td>\n",
       "</tr>\n",
       "<tr>\n",
       "  <th>Cards</th>              <td>   22.6195</td> <td>    4.286</td> <td>    5.278</td> <td> 0.000</td> <td>   14.184</td> <td>   31.055</td>\n",
       "</tr>\n",
       "</table>\n",
       "<table class=\"simpletable\">\n",
       "<tr>\n",
       "  <th>Omnibus:</th>       <td>16.740</td> <th>  Durbin-Watson:     </th> <td>   2.033</td>\n",
       "</tr>\n",
       "<tr>\n",
       "  <th>Prob(Omnibus):</th> <td> 0.000</td> <th>  Jarque-Bera (JB):  </th> <td>  18.572</td>\n",
       "</tr>\n",
       "<tr>\n",
       "  <th>Skew:</th>          <td> 0.608</td> <th>  Prob(JB):          </th> <td>9.27e-05</td>\n",
       "</tr>\n",
       "<tr>\n",
       "  <th>Kurtosis:</th>      <td> 2.907</td> <th>  Cond. No.          </th> <td>2.44e+04</td>\n",
       "</tr>\n",
       "</table><br/><br/>Notes:<br/>[1] Standard Errors assume that the covariance matrix of the errors is correctly specified.<br/>[2] The condition number is large, 2.44e+04. This might indicate that there are<br/>strong multicollinearity or other numerical problems."
      ],
      "text/latex": [
       "\\begin{center}\n",
       "\\begin{tabular}{lclc}\n",
       "\\toprule\n",
       "\\textbf{Dep. Variable:}     &     Balance      & \\textbf{  R-squared:         } &     0.956   \\\\\n",
       "\\textbf{Model:}             &       OLS        & \\textbf{  Adj. R-squared:    } &     0.955   \\\\\n",
       "\\textbf{Method:}            &  Least Squares   & \\textbf{  F-statistic:       } &     790.5   \\\\\n",
       "\\textbf{Date:}              & Fri, 07 Feb 2025 & \\textbf{  Prob (F-statistic):} & 1.90e-192   \\\\\n",
       "\\textbf{Time:}              &     17:48:11     & \\textbf{  Log-Likelihood:    } &   -1807.7   \\\\\n",
       "\\textbf{No. Observations:}  &         300      & \\textbf{  AIC:               } &     3633.   \\\\\n",
       "\\textbf{Df Residuals:}      &         291      & \\textbf{  BIC:               } &     3667.   \\\\\n",
       "\\textbf{Df Model:}          &           8      & \\textbf{                     } &             \\\\\n",
       "\\textbf{Covariance Type:}   &    nonrobust     & \\textbf{                     } &             \\\\\n",
       "\\bottomrule\n",
       "\\end{tabular}\n",
       "\\begin{tabular}{lcccccc}\n",
       "                            & \\textbf{coef} & \\textbf{std err} & \\textbf{t} & \\textbf{P$> |$t$|$} & \\textbf{[0.025} & \\textbf{0.975]}  \\\\\n",
       "\\midrule\n",
       "\\textbf{Intercept}          &    -490.3240  &       23.354     &   -20.995  &         0.000        &     -536.288    &     -444.360     \\\\\n",
       "\\textbf{C(Region)[T.South]} &      11.2749  &       15.074     &     0.748  &         0.455        &      -18.393    &       40.943     \\\\\n",
       "\\textbf{C(Region)[T.West]}  &      15.1970  &       17.260     &     0.880  &         0.379        &      -18.774    &       49.168     \\\\\n",
       "\\textbf{C(Married)[T.Yes]}  &      -6.6962  &       12.268     &    -0.546  &         0.586        &      -30.840    &       17.448     \\\\\n",
       "\\textbf{C(Own)[T.Yes]}      &     -14.8811  &       11.793     &    -1.262  &         0.208        &      -38.092    &        8.330     \\\\\n",
       "\\textbf{C(Student)[T.Yes]}  &     425.0358  &       19.218     &    22.117  &         0.000        &      387.212    &      462.859     \\\\\n",
       "\\textbf{Income}             &      -7.5377  &        0.280     &   -26.905  &         0.000        &       -8.089    &       -6.986     \\\\\n",
       "\\textbf{Limit}              &       0.2637  &        0.004     &    62.798  &         0.000        &        0.255    &        0.272     \\\\\n",
       "\\textbf{Cards}              &      22.6195  &        4.286     &     5.278  &         0.000        &       14.184    &       31.055     \\\\\n",
       "\\bottomrule\n",
       "\\end{tabular}\n",
       "\\begin{tabular}{lclc}\n",
       "\\textbf{Omnibus:}       & 16.740 & \\textbf{  Durbin-Watson:     } &    2.033  \\\\\n",
       "\\textbf{Prob(Omnibus):} &  0.000 & \\textbf{  Jarque-Bera (JB):  } &   18.572  \\\\\n",
       "\\textbf{Skew:}          &  0.608 & \\textbf{  Prob(JB):          } & 9.27e-05  \\\\\n",
       "\\textbf{Kurtosis:}      &  2.907 & \\textbf{  Cond. No.          } & 2.44e+04  \\\\\n",
       "\\bottomrule\n",
       "\\end{tabular}\n",
       "%\\caption{OLS Regression Results}\n",
       "\\end{center}\n",
       "\n",
       "Notes: \\newline\n",
       " [1] Standard Errors assume that the covariance matrix of the errors is correctly specified. \\newline\n",
       " [2] The condition number is large, 2.44e+04. This might indicate that there are \\newline\n",
       " strong multicollinearity or other numerical problems."
      ],
      "text/plain": [
       "<class 'statsmodels.iolib.summary.Summary'>\n",
       "\"\"\"\n",
       "                            OLS Regression Results                            \n",
       "==============================================================================\n",
       "Dep. Variable:                Balance   R-squared:                       0.956\n",
       "Model:                            OLS   Adj. R-squared:                  0.955\n",
       "Method:                 Least Squares   F-statistic:                     790.5\n",
       "Date:                Fri, 07 Feb 2025   Prob (F-statistic):          1.90e-192\n",
       "Time:                        17:48:11   Log-Likelihood:                -1807.7\n",
       "No. Observations:                 300   AIC:                             3633.\n",
       "Df Residuals:                     291   BIC:                             3667.\n",
       "Df Model:                           8                                         \n",
       "Covariance Type:            nonrobust                                         \n",
       "======================================================================================\n",
       "                         coef    std err          t      P>|t|      [0.025      0.975]\n",
       "--------------------------------------------------------------------------------------\n",
       "Intercept           -490.3240     23.354    -20.995      0.000    -536.288    -444.360\n",
       "C(Region)[T.South]    11.2749     15.074      0.748      0.455     -18.393      40.943\n",
       "C(Region)[T.West]     15.1970     17.260      0.880      0.379     -18.774      49.168\n",
       "C(Married)[T.Yes]     -6.6962     12.268     -0.546      0.586     -30.840      17.448\n",
       "C(Own)[T.Yes]        -14.8811     11.793     -1.262      0.208     -38.092       8.330\n",
       "C(Student)[T.Yes]    425.0358     19.218     22.117      0.000     387.212     462.859\n",
       "Income                -7.5377      0.280    -26.905      0.000      -8.089      -6.986\n",
       "Limit                  0.2637      0.004     62.798      0.000       0.255       0.272\n",
       "Cards                 22.6195      4.286      5.278      0.000      14.184      31.055\n",
       "==============================================================================\n",
       "Omnibus:                       16.740   Durbin-Watson:                   2.033\n",
       "Prob(Omnibus):                  0.000   Jarque-Bera (JB):               18.572\n",
       "Skew:                           0.608   Prob(JB):                     9.27e-05\n",
       "Kurtosis:                       2.907   Cond. No.                     2.44e+04\n",
       "==============================================================================\n",
       "\n",
       "Notes:\n",
       "[1] Standard Errors assume that the covariance matrix of the errors is correctly specified.\n",
       "[2] The condition number is large, 2.44e+04. This might indicate that there are\n",
       "strong multicollinearity or other numerical problems.\n",
       "\"\"\""
      ]
     },
     "execution_count": 16,
     "metadata": {},
     "output_type": "execute_result"
    }
   ],
   "source": [
    "model_updated = smf.ols(formula = \"Balance ~ Income + Limit + Cards + C(Region) + C(Married) + C(Own) + C(Student)\", data = train).fit()\n",
    "model_updated.summary()"
   ]
  },
  {
   "cell_type": "markdown",
   "id": "edd5d087",
   "metadata": {},
   "source": [
    "## Q22"
   ]
  },
  {
   "cell_type": "code",
   "execution_count": 22,
   "id": "376ad655",
   "metadata": {},
   "outputs": [
    {
     "name": "stdout",
     "output_type": "stream",
     "text": [
      "<F test: F=0.6641557836550993, p=0.6173518626546108, df_denom=291, df_num=4>\n"
     ]
    }
   ],
   "source": [
    "# do an F-test to see if the statistically insignificant predictors are actually statistically insignificant\n",
    "hypothesis = \"(C(Region)[T.South] = 0, C(Region)[T.West] = 0,  C(Married)[T.Yes] = 0, C(Own)[T.Yes] = 0)\"\n",
    "f_test = model_updated.f_test(hypothesis)\n",
    "print(f_test)\n"
   ]
  },
  {
   "cell_type": "markdown",
   "id": "481d2ee1",
   "metadata": {},
   "source": [
    "## Q23"
   ]
  },
  {
   "cell_type": "code",
   "execution_count": 24,
   "id": "a6b356e7",
   "metadata": {},
   "outputs": [
    {
     "data": {
      "text/html": [
       "<table class=\"simpletable\">\n",
       "<caption>OLS Regression Results</caption>\n",
       "<tr>\n",
       "  <th>Dep. Variable:</th>         <td>Balance</td>     <th>  R-squared:         </th> <td>   0.960</td> \n",
       "</tr>\n",
       "<tr>\n",
       "  <th>Model:</th>                   <td>OLS</td>       <th>  Adj. R-squared:    </th> <td>   0.959</td> \n",
       "</tr>\n",
       "<tr>\n",
       "  <th>Method:</th>             <td>Least Squares</td>  <th>  F-statistic:       </th> <td>   1171.</td> \n",
       "</tr>\n",
       "<tr>\n",
       "  <th>Date:</th>             <td>Fri, 07 Feb 2025</td> <th>  Prob (F-statistic):</th> <td>1.86e-201</td>\n",
       "</tr>\n",
       "<tr>\n",
       "  <th>Time:</th>                 <td>18:02:05</td>     <th>  Log-Likelihood:    </th> <td> -1793.6</td> \n",
       "</tr>\n",
       "<tr>\n",
       "  <th>No. Observations:</th>      <td>   300</td>      <th>  AIC:               </th> <td>   3601.</td> \n",
       "</tr>\n",
       "<tr>\n",
       "  <th>Df Residuals:</th>          <td>   293</td>      <th>  BIC:               </th> <td>   3627.</td> \n",
       "</tr>\n",
       "<tr>\n",
       "  <th>Df Model:</th>              <td>     6</td>      <th>                     </th>     <td> </td>    \n",
       "</tr>\n",
       "<tr>\n",
       "  <th>Covariance Type:</th>      <td>nonrobust</td>    <th>                     </th>     <td> </td>    \n",
       "</tr>\n",
       "</table>\n",
       "<table class=\"simpletable\">\n",
       "<tr>\n",
       "              <td></td>                <th>coef</th>     <th>std err</th>      <th>t</th>      <th>P>|t|</th>  <th>[0.025</th>    <th>0.975]</th>  \n",
       "</tr>\n",
       "<tr>\n",
       "  <th>Intercept</th>                <td> -475.2163</td> <td>   17.586</td> <td>  -27.023</td> <td> 0.000</td> <td> -509.827</td> <td> -440.606</td>\n",
       "</tr>\n",
       "<tr>\n",
       "  <th>C(Student)[T.Yes]</th>        <td>  233.9423</td> <td>   42.168</td> <td>    5.548</td> <td> 0.000</td> <td>  150.952</td> <td>  316.933</td>\n",
       "</tr>\n",
       "<tr>\n",
       "  <th>Income</th>                   <td>   -7.1440</td> <td>    0.290</td> <td>  -24.635</td> <td> 0.000</td> <td>   -7.715</td> <td>   -6.573</td>\n",
       "</tr>\n",
       "<tr>\n",
       "  <th>Income:C(Student)[T.Yes]</th> <td>   -3.0021</td> <td>    0.735</td> <td>   -4.082</td> <td> 0.000</td> <td>   -4.449</td> <td>   -1.555</td>\n",
       "</tr>\n",
       "<tr>\n",
       "  <th>Limit</th>                    <td>    0.2558</td> <td>    0.004</td> <td>   60.094</td> <td> 0.000</td> <td>    0.247</td> <td>    0.264</td>\n",
       "</tr>\n",
       "<tr>\n",
       "  <th>Limit:C(Student)[T.Yes]</th>  <td>    0.0705</td> <td>    0.013</td> <td>    5.616</td> <td> 0.000</td> <td>    0.046</td> <td>    0.095</td>\n",
       "</tr>\n",
       "<tr>\n",
       "  <th>Cards</th>                    <td>   23.4276</td> <td>    4.067</td> <td>    5.760</td> <td> 0.000</td> <td>   15.423</td> <td>   31.432</td>\n",
       "</tr>\n",
       "</table>\n",
       "<table class=\"simpletable\">\n",
       "<tr>\n",
       "  <th>Omnibus:</th>       <td> 9.673</td> <th>  Durbin-Watson:     </th> <td>   1.955</td>\n",
       "</tr>\n",
       "<tr>\n",
       "  <th>Prob(Omnibus):</th> <td> 0.008</td> <th>  Jarque-Bera (JB):  </th> <td>  10.163</td>\n",
       "</tr>\n",
       "<tr>\n",
       "  <th>Skew:</th>          <td> 0.445</td> <th>  Prob(JB):          </th> <td> 0.00621</td>\n",
       "</tr>\n",
       "<tr>\n",
       "  <th>Kurtosis:</th>      <td> 2.856</td> <th>  Cond. No.          </th> <td>4.04e+04</td>\n",
       "</tr>\n",
       "</table><br/><br/>Notes:<br/>[1] Standard Errors assume that the covariance matrix of the errors is correctly specified.<br/>[2] The condition number is large, 4.04e+04. This might indicate that there are<br/>strong multicollinearity or other numerical problems."
      ],
      "text/latex": [
       "\\begin{center}\n",
       "\\begin{tabular}{lclc}\n",
       "\\toprule\n",
       "\\textbf{Dep. Variable:}           &     Balance      & \\textbf{  R-squared:         } &     0.960   \\\\\n",
       "\\textbf{Model:}                   &       OLS        & \\textbf{  Adj. R-squared:    } &     0.959   \\\\\n",
       "\\textbf{Method:}                  &  Least Squares   & \\textbf{  F-statistic:       } &     1171.   \\\\\n",
       "\\textbf{Date:}                    & Fri, 07 Feb 2025 & \\textbf{  Prob (F-statistic):} & 1.86e-201   \\\\\n",
       "\\textbf{Time:}                    &     18:02:05     & \\textbf{  Log-Likelihood:    } &   -1793.6   \\\\\n",
       "\\textbf{No. Observations:}        &         300      & \\textbf{  AIC:               } &     3601.   \\\\\n",
       "\\textbf{Df Residuals:}            &         293      & \\textbf{  BIC:               } &     3627.   \\\\\n",
       "\\textbf{Df Model:}                &           6      & \\textbf{                     } &             \\\\\n",
       "\\textbf{Covariance Type:}         &    nonrobust     & \\textbf{                     } &             \\\\\n",
       "\\bottomrule\n",
       "\\end{tabular}\n",
       "\\begin{tabular}{lcccccc}\n",
       "                                  & \\textbf{coef} & \\textbf{std err} & \\textbf{t} & \\textbf{P$> |$t$|$} & \\textbf{[0.025} & \\textbf{0.975]}  \\\\\n",
       "\\midrule\n",
       "\\textbf{Intercept}                &    -475.2163  &       17.586     &   -27.023  &         0.000        &     -509.827    &     -440.606     \\\\\n",
       "\\textbf{C(Student)[T.Yes]}        &     233.9423  &       42.168     &     5.548  &         0.000        &      150.952    &      316.933     \\\\\n",
       "\\textbf{Income}                   &      -7.1440  &        0.290     &   -24.635  &         0.000        &       -7.715    &       -6.573     \\\\\n",
       "\\textbf{Income:C(Student)[T.Yes]} &      -3.0021  &        0.735     &    -4.082  &         0.000        &       -4.449    &       -1.555     \\\\\n",
       "\\textbf{Limit}                    &       0.2558  &        0.004     &    60.094  &         0.000        &        0.247    &        0.264     \\\\\n",
       "\\textbf{Limit:C(Student)[T.Yes]}  &       0.0705  &        0.013     &     5.616  &         0.000        &        0.046    &        0.095     \\\\\n",
       "\\textbf{Cards}                    &      23.4276  &        4.067     &     5.760  &         0.000        &       15.423    &       31.432     \\\\\n",
       "\\bottomrule\n",
       "\\end{tabular}\n",
       "\\begin{tabular}{lclc}\n",
       "\\textbf{Omnibus:}       &  9.673 & \\textbf{  Durbin-Watson:     } &    1.955  \\\\\n",
       "\\textbf{Prob(Omnibus):} &  0.008 & \\textbf{  Jarque-Bera (JB):  } &   10.163  \\\\\n",
       "\\textbf{Skew:}          &  0.445 & \\textbf{  Prob(JB):          } &  0.00621  \\\\\n",
       "\\textbf{Kurtosis:}      &  2.856 & \\textbf{  Cond. No.          } & 4.04e+04  \\\\\n",
       "\\bottomrule\n",
       "\\end{tabular}\n",
       "%\\caption{OLS Regression Results}\n",
       "\\end{center}\n",
       "\n",
       "Notes: \\newline\n",
       " [1] Standard Errors assume that the covariance matrix of the errors is correctly specified. \\newline\n",
       " [2] The condition number is large, 4.04e+04. This might indicate that there are \\newline\n",
       " strong multicollinearity or other numerical problems."
      ],
      "text/plain": [
       "<class 'statsmodels.iolib.summary.Summary'>\n",
       "\"\"\"\n",
       "                            OLS Regression Results                            \n",
       "==============================================================================\n",
       "Dep. Variable:                Balance   R-squared:                       0.960\n",
       "Model:                            OLS   Adj. R-squared:                  0.959\n",
       "Method:                 Least Squares   F-statistic:                     1171.\n",
       "Date:                Fri, 07 Feb 2025   Prob (F-statistic):          1.86e-201\n",
       "Time:                        18:02:05   Log-Likelihood:                -1793.6\n",
       "No. Observations:                 300   AIC:                             3601.\n",
       "Df Residuals:                     293   BIC:                             3627.\n",
       "Df Model:                           6                                         \n",
       "Covariance Type:            nonrobust                                         \n",
       "============================================================================================\n",
       "                               coef    std err          t      P>|t|      [0.025      0.975]\n",
       "--------------------------------------------------------------------------------------------\n",
       "Intercept                 -475.2163     17.586    -27.023      0.000    -509.827    -440.606\n",
       "C(Student)[T.Yes]          233.9423     42.168      5.548      0.000     150.952     316.933\n",
       "Income                      -7.1440      0.290    -24.635      0.000      -7.715      -6.573\n",
       "Income:C(Student)[T.Yes]    -3.0021      0.735     -4.082      0.000      -4.449      -1.555\n",
       "Limit                        0.2558      0.004     60.094      0.000       0.247       0.264\n",
       "Limit:C(Student)[T.Yes]      0.0705      0.013      5.616      0.000       0.046       0.095\n",
       "Cards                       23.4276      4.067      5.760      0.000      15.423      31.432\n",
       "==============================================================================\n",
       "Omnibus:                        9.673   Durbin-Watson:                   1.955\n",
       "Prob(Omnibus):                  0.008   Jarque-Bera (JB):               10.163\n",
       "Skew:                           0.445   Prob(JB):                      0.00621\n",
       "Kurtosis:                       2.856   Cond. No.                     4.04e+04\n",
       "==============================================================================\n",
       "\n",
       "Notes:\n",
       "[1] Standard Errors assume that the covariance matrix of the errors is correctly specified.\n",
       "[2] The condition number is large, 4.04e+04. This might indicate that there are\n",
       "strong multicollinearity or other numerical problems.\n",
       "\"\"\""
      ]
     },
     "execution_count": 24,
     "metadata": {},
     "output_type": "execute_result"
    }
   ],
   "source": [
    "model_interaction = smf.ols(formula = \"Balance ~ Income*C(Student) + Limit*C(Student) + Cards + C(Student)\", data = train).fit()\n",
    "model_interaction.summary()"
   ]
  },
  {
   "cell_type": "code",
   "execution_count": 25,
   "id": "11eda25a",
   "metadata": {},
   "outputs": [
    {
     "name": "stdout",
     "output_type": "stream",
     "text": [
      "Intercept                  -475.216275\n",
      "C(Student)[T.Yes]           233.942345\n",
      "Income                       -7.144011\n",
      "Income:C(Student)[T.Yes]     -3.002086\n",
      "Limit                         0.255799\n",
      "Limit:C(Student)[T.Yes]       0.070512\n",
      "Cards                        23.427615\n",
      "dtype: float64\n"
     ]
    }
   ],
   "source": [
    "print(model_interaction.params)"
   ]
  },
  {
   "cell_type": "code",
   "execution_count": 26,
   "id": "eba1533f",
   "metadata": {},
   "outputs": [
    {
     "name": "stdout",
     "output_type": "stream",
     "text": [
      "32.6310124644499\n"
     ]
    }
   ],
   "source": [
    "beta_limit = model_interaction.params[\"Limit\"]\n",
    "beta_limit_st = model_interaction.params[\"Limit:C(Student)[T.Yes]\"]\n",
    "increase = 100*(beta_limit + beta_limit_st)\n",
    "print(increase)"
   ]
  },
  {
   "cell_type": "markdown",
   "id": "c338df90",
   "metadata": {},
   "source": [
    "## Q24"
   ]
  },
  {
   "cell_type": "code",
   "execution_count": 48,
   "id": "bef0d6a1",
   "metadata": {},
   "outputs": [
    {
     "name": "stdout",
     "output_type": "stream",
     "text": [
      "262.4950959309492\n"
     ]
    }
   ],
   "source": [
    "beta_inc = model_interaction.params[\"Income\"]\n",
    "beta_inc_student = model_interaction.params[\"Income:C(Student)[T.Yes]\"]\n",
    "\n",
    "student_balance = 5000*(beta_limit + beta_limit_st) + 30*(beta_inc + beta_inc_student)\n",
    "non_student_balance = 5000*beta_limit + 30*beta_inc\n",
    "\n",
    "difference = student_balance - non_student_balance\n",
    "print(difference)"
   ]
  },
  {
   "cell_type": "markdown",
   "id": "ee2c6041",
   "metadata": {},
   "source": [
    "## Q25"
   ]
  },
  {
   "cell_type": "code",
   "execution_count": 32,
   "id": "f98774c7",
   "metadata": {},
   "outputs": [
    {
     "name": "stdout",
     "output_type": "stream",
     "text": [
      "9.896724446101274\n",
      "80.83730695964009\n"
     ]
    }
   ],
   "source": [
    "bal_predict = model_interaction.predict(test)\n",
    "\n",
    "# split bal_predict into students and non-students\n",
    "student_bal_predict = bal_predict[test['Student'] == 'Yes']\n",
    "non_student_bal_predict = bal_predict[test['Student'] == 'No']\n",
    "\n",
    "mae_student = mean_absolute_error(test['Balance'][test['Student'] == 'Yes'], student_bal_predict)\n",
    "mae_non_student = mean_absolute_error(test['Balance'][test['Student'] == 'No'], non_student_bal_predict)\n",
    "\n",
    "print(mae_student)\n",
    "print(mae_non_student)"
   ]
  },
  {
   "cell_type": "code",
   "execution_count": 49,
   "id": "403f5652",
   "metadata": {},
   "outputs": [
    {
     "data": {
      "text/plain": [
       "<matplotlib.collections.PathCollection at 0x15d9ed460>"
      ]
     },
     "execution_count": 49,
     "metadata": {},
     "output_type": "execute_result"
    },
    {
     "data": {
      "image/png": "[encoded data removed]",
      "text/plain": [
       "<Figure size 640x480 with 1 Axes>"
      ]
     },
     "metadata": {},
     "output_type": "display_data"
    }
   ],
   "source": [
    "# plot student_bal_predict against residuals\n",
    "student_resid = test['Balance'][test['Student'] == 'Yes'] - student_bal_predict\n",
    "plt.scatter(student_bal_predict, student_resid)"
   ]
  },
  {
   "cell_type": "code",
   "execution_count": 50,
   "id": "62cb58ff",
   "metadata": {},
   "outputs": [
    {
     "data": {
      "text/plain": [
       "<matplotlib.collections.PathCollection at 0x15da8a6f0>"
      ]
     },
     "execution_count": 50,
     "metadata": {},
     "output_type": "execute_result"
    },
    {
     "data": {
      "image/png": "[encoded data removed]",
      "text/plain": [
       "<Figure size 640x480 with 1 Axes>"
      ]
     },
     "metadata": {},
     "output_type": "display_data"
    }
   ],
   "source": [
    "# plot non_student_bal_predict against residuals\n",
    "non_student_resid = test['Balance'][test['Student'] == 'No'] - non_student_bal_predict\n",
    "plt.scatter(non_student_bal_predict, non_student_resid)"
   ]
  },
  {
   "cell_type": "markdown",
   "id": "d7a48406",
   "metadata": {},
   "source": [
    "## Q26"
   ]
  },
  {
   "cell_type": "code",
   "execution_count": 35,
   "id": "c660a0d7",
   "metadata": {},
   "outputs": [
    {
     "data": {
      "text/plain": [
       "<matplotlib.collections.PathCollection at 0x15c4f5460>"
      ]
     },
     "execution_count": 35,
     "metadata": {},
     "output_type": "execute_result"
    },
    {
     "data": {
      "image/png": "[encoded data removed]",
      "text/plain": [
       "<Figure size 640x480 with 1 Axes>"
      ]
     },
     "metadata": {},
     "output_type": "display_data"
    }
   ],
   "source": [
    "# plot bal_predict against residuals\n",
    "resid = test['Balance'] - bal_predict\n",
    "plt.scatter(bal_predict, resid)"
   ]
  },
  {
   "cell_type": "markdown",
   "id": "17e16596",
   "metadata": {},
   "source": [
    "## Q27"
   ]
  },
  {
   "cell_type": "code",
   "execution_count": 46,
   "id": "e43d38d3",
   "metadata": {},
   "outputs": [
    {
     "data": {
      "text/html": [
       "<table class=\"simpletable\">\n",
       "<caption>OLS Regression Results</caption>\n",
       "<tr>\n",
       "  <th>Dep. Variable:</th>         <td>Balance</td>     <th>  R-squared:         </th> <td>   0.278</td>\n",
       "</tr>\n",
       "<tr>\n",
       "  <th>Model:</th>                   <td>OLS</td>       <th>  Adj. R-squared:    </th> <td>   0.276</td>\n",
       "</tr>\n",
       "<tr>\n",
       "  <th>Method:</th>             <td>Least Squares</td>  <th>  F-statistic:       </th> <td>   114.8</td>\n",
       "</tr>\n",
       "<tr>\n",
       "  <th>Date:</th>             <td>Fri, 07 Feb 2025</td> <th>  Prob (F-statistic):</th> <td>7.10e-23</td>\n",
       "</tr>\n",
       "<tr>\n",
       "  <th>Time:</th>                 <td>18:23:57</td>     <th>  Log-Likelihood:    </th> <td> -2227.4</td>\n",
       "</tr>\n",
       "<tr>\n",
       "  <th>No. Observations:</th>      <td>   300</td>      <th>  AIC:               </th> <td>   4459.</td>\n",
       "</tr>\n",
       "<tr>\n",
       "  <th>Df Residuals:</th>          <td>   298</td>      <th>  BIC:               </th> <td>   4466.</td>\n",
       "</tr>\n",
       "<tr>\n",
       "  <th>Df Model:</th>              <td>     1</td>      <th>                     </th>     <td> </td>   \n",
       "</tr>\n",
       "<tr>\n",
       "  <th>Covariance Type:</th>      <td>nonrobust</td>    <th>                     </th>     <td> </td>   \n",
       "</tr>\n",
       "</table>\n",
       "<table class=\"simpletable\">\n",
       "<tr>\n",
       "      <td></td>         <th>coef</th>     <th>std err</th>      <th>t</th>      <th>P>|t|</th>  <th>[0.025</th>    <th>0.975]</th>  \n",
       "</tr>\n",
       "<tr>\n",
       "  <th>Intercept</th> <td>  201.5573</td> <td>   37.471</td> <td>    5.379</td> <td> 0.000</td> <td>  127.816</td> <td>  275.298</td>\n",
       "</tr>\n",
       "<tr>\n",
       "  <th>Income</th>    <td>    6.8860</td> <td>    0.643</td> <td>   10.715</td> <td> 0.000</td> <td>    5.621</td> <td>    8.151</td>\n",
       "</tr>\n",
       "</table>\n",
       "<table class=\"simpletable\">\n",
       "<tr>\n",
       "  <th>Omnibus:</th>       <td>21.361</td> <th>  Durbin-Watson:     </th> <td>   1.944</td>\n",
       "</tr>\n",
       "<tr>\n",
       "  <th>Prob(Omnibus):</th> <td> 0.000</td> <th>  Jarque-Bera (JB):  </th> <td>  15.862</td>\n",
       "</tr>\n",
       "<tr>\n",
       "  <th>Skew:</th>          <td> 0.457</td> <th>  Prob(JB):          </th> <td>0.000359</td>\n",
       "</tr>\n",
       "<tr>\n",
       "  <th>Kurtosis:</th>      <td> 2.340</td> <th>  Cond. No.          </th> <td>    93.0</td>\n",
       "</tr>\n",
       "</table><br/><br/>Notes:<br/>[1] Standard Errors assume that the covariance matrix of the errors is correctly specified."
      ],
      "text/latex": [
       "\\begin{center}\n",
       "\\begin{tabular}{lclc}\n",
       "\\toprule\n",
       "\\textbf{Dep. Variable:}    &     Balance      & \\textbf{  R-squared:         } &     0.278   \\\\\n",
       "\\textbf{Model:}            &       OLS        & \\textbf{  Adj. R-squared:    } &     0.276   \\\\\n",
       "\\textbf{Method:}           &  Least Squares   & \\textbf{  F-statistic:       } &     114.8   \\\\\n",
       "\\textbf{Date:}             & Fri, 07 Feb 2025 & \\textbf{  Prob (F-statistic):} &  7.10e-23   \\\\\n",
       "\\textbf{Time:}             &     18:23:57     & \\textbf{  Log-Likelihood:    } &   -2227.4   \\\\\n",
       "\\textbf{No. Observations:} &         300      & \\textbf{  AIC:               } &     4459.   \\\\\n",
       "\\textbf{Df Residuals:}     &         298      & \\textbf{  BIC:               } &     4466.   \\\\\n",
       "\\textbf{Df Model:}         &           1      & \\textbf{                     } &             \\\\\n",
       "\\textbf{Covariance Type:}  &    nonrobust     & \\textbf{                     } &             \\\\\n",
       "\\bottomrule\n",
       "\\end{tabular}\n",
       "\\begin{tabular}{lcccccc}\n",
       "                   & \\textbf{coef} & \\textbf{std err} & \\textbf{t} & \\textbf{P$> |$t$|$} & \\textbf{[0.025} & \\textbf{0.975]}  \\\\\n",
       "\\midrule\n",
       "\\textbf{Intercept} &     201.5573  &       37.471     &     5.379  &         0.000        &      127.816    &      275.298     \\\\\n",
       "\\textbf{Income}    &       6.8860  &        0.643     &    10.715  &         0.000        &        5.621    &        8.151     \\\\\n",
       "\\bottomrule\n",
       "\\end{tabular}\n",
       "\\begin{tabular}{lclc}\n",
       "\\textbf{Omnibus:}       & 21.361 & \\textbf{  Durbin-Watson:     } &    1.944  \\\\\n",
       "\\textbf{Prob(Omnibus):} &  0.000 & \\textbf{  Jarque-Bera (JB):  } &   15.862  \\\\\n",
       "\\textbf{Skew:}          &  0.457 & \\textbf{  Prob(JB):          } & 0.000359  \\\\\n",
       "\\textbf{Kurtosis:}      &  2.340 & \\textbf{  Cond. No.          } &     93.0  \\\\\n",
       "\\bottomrule\n",
       "\\end{tabular}\n",
       "%\\caption{OLS Regression Results}\n",
       "\\end{center}\n",
       "\n",
       "Notes: \\newline\n",
       " [1] Standard Errors assume that the covariance matrix of the errors is correctly specified."
      ],
      "text/plain": [
       "<class 'statsmodels.iolib.summary.Summary'>\n",
       "\"\"\"\n",
       "                            OLS Regression Results                            \n",
       "==============================================================================\n",
       "Dep. Variable:                Balance   R-squared:                       0.278\n",
       "Model:                            OLS   Adj. R-squared:                  0.276\n",
       "Method:                 Least Squares   F-statistic:                     114.8\n",
       "Date:                Fri, 07 Feb 2025   Prob (F-statistic):           7.10e-23\n",
       "Time:                        18:23:57   Log-Likelihood:                -2227.4\n",
       "No. Observations:                 300   AIC:                             4459.\n",
       "Df Residuals:                     298   BIC:                             4466.\n",
       "Df Model:                           1                                         \n",
       "Covariance Type:            nonrobust                                         \n",
       "==============================================================================\n",
       "                 coef    std err          t      P>|t|      [0.025      0.975]\n",
       "------------------------------------------------------------------------------\n",
       "Intercept    201.5573     37.471      5.379      0.000     127.816     275.298\n",
       "Income         6.8860      0.643     10.715      0.000       5.621       8.151\n",
       "==============================================================================\n",
       "Omnibus:                       21.361   Durbin-Watson:                   1.944\n",
       "Prob(Omnibus):                  0.000   Jarque-Bera (JB):               15.862\n",
       "Skew:                           0.457   Prob(JB):                     0.000359\n",
       "Kurtosis:                       2.340   Cond. No.                         93.0\n",
       "==============================================================================\n",
       "\n",
       "Notes:\n",
       "[1] Standard Errors assume that the covariance matrix of the errors is correctly specified.\n",
       "\"\"\""
      ]
     },
     "execution_count": 46,
     "metadata": {},
     "output_type": "execute_result"
    }
   ],
   "source": [
    "model_1 = smf.ols(formula = \"Balance ~ Income\", data = train).fit()\n",
    "model_1.summary()"
   ]
  },
  {
   "cell_type": "code",
   "execution_count": 47,
   "id": "d7e33a4a",
   "metadata": {},
   "outputs": [
    {
     "data": {
      "text/html": [
       "<table class=\"simpletable\">\n",
       "<caption>OLS Regression Results</caption>\n",
       "<tr>\n",
       "  <th>Dep. Variable:</th>         <td>Balance</td>     <th>  R-squared:         </th> <td>   0.879</td> \n",
       "</tr>\n",
       "<tr>\n",
       "  <th>Model:</th>                   <td>OLS</td>       <th>  Adj. R-squared:    </th> <td>   0.878</td> \n",
       "</tr>\n",
       "<tr>\n",
       "  <th>Method:</th>             <td>Least Squares</td>  <th>  F-statistic:       </th> <td>   1075.</td> \n",
       "</tr>\n",
       "<tr>\n",
       "  <th>Date:</th>             <td>Fri, 07 Feb 2025</td> <th>  Prob (F-statistic):</th> <td>9.74e-137</td>\n",
       "</tr>\n",
       "<tr>\n",
       "  <th>Time:</th>                 <td>18:24:20</td>     <th>  Log-Likelihood:    </th> <td> -1959.9</td> \n",
       "</tr>\n",
       "<tr>\n",
       "  <th>No. Observations:</th>      <td>   300</td>      <th>  AIC:               </th> <td>   3926.</td> \n",
       "</tr>\n",
       "<tr>\n",
       "  <th>Df Residuals:</th>          <td>   297</td>      <th>  BIC:               </th> <td>   3937.</td> \n",
       "</tr>\n",
       "<tr>\n",
       "  <th>Df Model:</th>              <td>     2</td>      <th>                     </th>     <td> </td>    \n",
       "</tr>\n",
       "<tr>\n",
       "  <th>Covariance Type:</th>      <td>nonrobust</td>    <th>                     </th>     <td> </td>    \n",
       "</tr>\n",
       "</table>\n",
       "<table class=\"simpletable\">\n",
       "<tr>\n",
       "      <td></td>         <th>coef</th>     <th>std err</th>      <th>t</th>      <th>P>|t|</th>  <th>[0.025</th>    <th>0.975]</th>  \n",
       "</tr>\n",
       "<tr>\n",
       "  <th>Intercept</th> <td> -379.3887</td> <td>   21.599</td> <td>  -17.565</td> <td> 0.000</td> <td> -421.895</td> <td> -336.883</td>\n",
       "</tr>\n",
       "<tr>\n",
       "  <th>Limit</th>     <td>    0.2637</td> <td>    0.007</td> <td>   38.335</td> <td> 0.000</td> <td>    0.250</td> <td>    0.277</td>\n",
       "</tr>\n",
       "<tr>\n",
       "  <th>Income</th>    <td>   -7.5385</td> <td>    0.460</td> <td>  -16.401</td> <td> 0.000</td> <td>   -8.443</td> <td>   -6.634</td>\n",
       "</tr>\n",
       "</table>\n",
       "<table class=\"simpletable\">\n",
       "<tr>\n",
       "  <th>Omnibus:</th>       <td>63.313</td> <th>  Durbin-Watson:     </th> <td>   1.966</td>\n",
       "</tr>\n",
       "<tr>\n",
       "  <th>Prob(Omnibus):</th> <td> 0.000</td> <th>  Jarque-Bera (JB):  </th> <td>  99.297</td>\n",
       "</tr>\n",
       "<tr>\n",
       "  <th>Skew:</th>          <td> 1.269</td> <th>  Prob(JB):          </th> <td>2.74e-22</td>\n",
       "</tr>\n",
       "<tr>\n",
       "  <th>Kurtosis:</th>      <td> 4.225</td> <th>  Cond. No.          </th> <td>1.18e+04</td>\n",
       "</tr>\n",
       "</table><br/><br/>Notes:<br/>[1] Standard Errors assume that the covariance matrix of the errors is correctly specified.<br/>[2] The condition number is large, 1.18e+04. This might indicate that there are<br/>strong multicollinearity or other numerical problems."
      ],
      "text/latex": [
       "\\begin{center}\n",
       "\\begin{tabular}{lclc}\n",
       "\\toprule\n",
       "\\textbf{Dep. Variable:}    &     Balance      & \\textbf{  R-squared:         } &     0.879   \\\\\n",
       "\\textbf{Model:}            &       OLS        & \\textbf{  Adj. R-squared:    } &     0.878   \\\\\n",
       "\\textbf{Method:}           &  Least Squares   & \\textbf{  F-statistic:       } &     1075.   \\\\\n",
       "\\textbf{Date:}             & Fri, 07 Feb 2025 & \\textbf{  Prob (F-statistic):} & 9.74e-137   \\\\\n",
       "\\textbf{Time:}             &     18:24:20     & \\textbf{  Log-Likelihood:    } &   -1959.9   \\\\\n",
       "\\textbf{No. Observations:} &         300      & \\textbf{  AIC:               } &     3926.   \\\\\n",
       "\\textbf{Df Residuals:}     &         297      & \\textbf{  BIC:               } &     3937.   \\\\\n",
       "\\textbf{Df Model:}         &           2      & \\textbf{                     } &             \\\\\n",
       "\\textbf{Covariance Type:}  &    nonrobust     & \\textbf{                     } &             \\\\\n",
       "\\bottomrule\n",
       "\\end{tabular}\n",
       "\\begin{tabular}{lcccccc}\n",
       "                   & \\textbf{coef} & \\textbf{std err} & \\textbf{t} & \\textbf{P$> |$t$|$} & \\textbf{[0.025} & \\textbf{0.975]}  \\\\\n",
       "\\midrule\n",
       "\\textbf{Intercept} &    -379.3887  &       21.599     &   -17.565  &         0.000        &     -421.895    &     -336.883     \\\\\n",
       "\\textbf{Limit}     &       0.2637  &        0.007     &    38.335  &         0.000        &        0.250    &        0.277     \\\\\n",
       "\\textbf{Income}    &      -7.5385  &        0.460     &   -16.401  &         0.000        &       -8.443    &       -6.634     \\\\\n",
       "\\bottomrule\n",
       "\\end{tabular}\n",
       "\\begin{tabular}{lclc}\n",
       "\\textbf{Omnibus:}       & 63.313 & \\textbf{  Durbin-Watson:     } &    1.966  \\\\\n",
       "\\textbf{Prob(Omnibus):} &  0.000 & \\textbf{  Jarque-Bera (JB):  } &   99.297  \\\\\n",
       "\\textbf{Skew:}          &  1.269 & \\textbf{  Prob(JB):          } & 2.74e-22  \\\\\n",
       "\\textbf{Kurtosis:}      &  4.225 & \\textbf{  Cond. No.          } & 1.18e+04  \\\\\n",
       "\\bottomrule\n",
       "\\end{tabular}\n",
       "%\\caption{OLS Regression Results}\n",
       "\\end{center}\n",
       "\n",
       "Notes: \\newline\n",
       " [1] Standard Errors assume that the covariance matrix of the errors is correctly specified. \\newline\n",
       " [2] The condition number is large, 1.18e+04. This might indicate that there are \\newline\n",
       " strong multicollinearity or other numerical problems."
      ],
      "text/plain": [
       "<class 'statsmodels.iolib.summary.Summary'>\n",
       "\"\"\"\n",
       "                            OLS Regression Results                            \n",
       "==============================================================================\n",
       "Dep. Variable:                Balance   R-squared:                       0.879\n",
       "Model:                            OLS   Adj. R-squared:                  0.878\n",
       "Method:                 Least Squares   F-statistic:                     1075.\n",
       "Date:                Fri, 07 Feb 2025   Prob (F-statistic):          9.74e-137\n",
       "Time:                        18:24:20   Log-Likelihood:                -1959.9\n",
       "No. Observations:                 300   AIC:                             3926.\n",
       "Df Residuals:                     297   BIC:                             3937.\n",
       "Df Model:                           2                                         \n",
       "Covariance Type:            nonrobust                                         \n",
       "==============================================================================\n",
       "                 coef    std err          t      P>|t|      [0.025      0.975]\n",
       "------------------------------------------------------------------------------\n",
       "Intercept   -379.3887     21.599    -17.565      0.000    -421.895    -336.883\n",
       "Limit          0.2637      0.007     38.335      0.000       0.250       0.277\n",
       "Income        -7.5385      0.460    -16.401      0.000      -8.443      -6.634\n",
       "==============================================================================\n",
       "Omnibus:                       63.313   Durbin-Watson:                   1.966\n",
       "Prob(Omnibus):                  0.000   Jarque-Bera (JB):               99.297\n",
       "Skew:                           1.269   Prob(JB):                     2.74e-22\n",
       "Kurtosis:                       4.225   Cond. No.                     1.18e+04\n",
       "==============================================================================\n",
       "\n",
       "Notes:\n",
       "[1] Standard Errors assume that the covariance matrix of the errors is correctly specified.\n",
       "[2] The condition number is large, 1.18e+04. This might indicate that there are\n",
       "strong multicollinearity or other numerical problems.\n",
       "\"\"\""
      ]
     },
     "execution_count": 47,
     "metadata": {},
     "output_type": "execute_result"
    }
   ],
   "source": [
    "model_2 = smf.ols(formula = \"Balance ~ Limit + Income\", data = train).fit()\n",
    "model_2.summary()"
   ]
  },
  {
   "cell_type": "markdown",
   "id": "0cc66cd6",
   "metadata": {},
   "source": [
    "## Q28"
   ]
  },
  {
   "cell_type": "code",
   "execution_count": null,
   "id": "0c35428c",
   "metadata": {},
   "outputs": [],
   "source": []
  }
 ],
 "metadata": {
  "kernelspec": {
   "display_name": ".venv",
   "language": "python",
   "name": "python3"
  },
  "language_info": {
   "codemirror_mode": {
    "name": "ipython",
    "version": 3
   },
   "file_extension": ".py",
   "mimetype": "text/x-python",
   "name": "python",
   "nbconvert_exporter": "python",
   "pygments_lexer": "ipython3",
   "version": "3.12.1"
  }
 },
 "nbformat": 4,
 "nbformat_minor": 5
}
